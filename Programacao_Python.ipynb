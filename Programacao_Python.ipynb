{
  "nbformat": 4,
  "nbformat_minor": 0,
  "metadata": {
    "colab": {
      "provenance": [],
      "collapsed_sections": [
        "LeLUmWFPXSQ4",
        "YUdY6RPMX9QN",
        "4eGEIiIoZ5dd",
        "EsEsPiS1cGBs",
        "vTq_Y3g5dao5",
        "4H9ud-NqrKE8",
        "_vyTISBrt9BD",
        "nXb3f4OXv1VQ",
        "UC0xUa3UurIW",
        "IF8GdirtxBrk",
        "HGzNUJkJ2N7C",
        "F9_PeEHo7qKT",
        "6Lqd3mrZ8UtD",
        "52wZm8e68wSF",
        "RrCYnXRI89b_",
        "DbMZYX6S_Fwb",
        "tlAQIqszEgDi",
        "AkzpmFB37MR-",
        "4bG8pLZYINAF",
        "evGNmtIZ9j_b",
        "_ItJifJkCggh",
        "sa4ffKUyDbbX",
        "loDAbkKVFBQo",
        "7FpxhKe9FqbX",
        "noodylU2GVbI",
        "R_Am7FRBOnUC",
        "fvEKA7fPOvIY",
        "Hs9bCzzEO188",
        "JwEWcdRfPFyA",
        "XtIq1njAfzDg",
        "8PCXIVOMlHCQ",
        "cZ7X0J1b44DG"
      ],
      "toc_visible": true
    },
    "kernelspec": {
      "name": "python3",
      "display_name": "Python 3"
    },
    "language_info": {
      "name": "python"
    }
  },
  "cells": [
    {
      "cell_type": "markdown",
      "source": [
        "# **Ciência de Dados para Finanças** <p>\n",
        "**por: @Odemir Depieri Jr** - [Linkedin](https://www.linkedin.com/in/odemir-depieri-jr/) <p>\n",
        "**por: @Ronisson Lucas Calmon da Conceição** - [Linkedin](https://www.linkedin.com/in/ronisson-lucas-calmon-da-concei%C3%A7%C3%A3o-7aa884202/) <p>\n",
        "[Página do Curso](https://)\n"
      ],
      "metadata": {
        "id": "u1elsrD7TWdZ"
      }
    },
    {
      "cell_type": "markdown",
      "source": [
        "# Módulo 1 - Programação em Python"
      ],
      "metadata": {
        "id": "uVOvB9KvVa0U"
      }
    },
    {
      "cell_type": "markdown",
      "source": [
        "Nesse módulo vamos estudar a sintaxe nativa do Python. <p>\n",
        "\n",
        "**O que é Python?** <p>\n",
        "Python é uma linguagem de programação popular.Foi criado por Guido van Rossum e lançado em 1991.\n",
        "\n",
        "**Python pode ser usado para:**\n",
        "\n",
        "1.   Inteligência Artificial;\n",
        "2.   Machine Learning;\n",
        "3.   Desenvolvimento de Software;\n",
        "4.   Desenvolvimento de aplicativos;\n",
        "5.   Automações (RPA);\n",
        "6.   IoT (internet das coisas);\n",
        "7.   Muitas outras.\n",
        "\n",
        "\n",
        "\n",
        "\n",
        "\n"
      ],
      "metadata": {
        "id": "8YZaousxV4_h"
      }
    },
    {
      "cell_type": "markdown",
      "source": [
        "# **1. - Sintaxe básica** <p>\n",
        "Podemos utilziar ' ' (aspas simples) <p>\n",
        "Podemos utilziar \" \" (aspas duplas) <p>\n",
        "Utilizando o \\n para pular uma linha na impressão do valor <p>\n",
        "Usamos o hastgag # para comentar algo"
      ],
      "metadata": {
        "id": "LeLUmWFPXSQ4"
      }
    },
    {
      "cell_type": "code",
      "source": [
        "# Sintaxe básica\n",
        "print('Olá Mundão!!! \\n')\n",
        "print(\"Olá Mundão!!!\")"
      ],
      "metadata": {
        "colab": {
          "base_uri": "https://localhost:8080/"
        },
        "id": "6b6jsk5fNIk4",
        "outputId": "f68324e6-28a0-4d2c-9699-02d47f4650be"
      },
      "execution_count": null,
      "outputs": [
        {
          "output_type": "stream",
          "name": "stdout",
          "text": [
            "Olá Mundão!!! \n",
            "\n",
            "Olá Mundão!!!\n"
          ]
        }
      ]
    },
    {
      "cell_type": "markdown",
      "source": [
        "#2 . - Operadores matemáticos <p>\n",
        "Os operadores são usados ​​para realizar operações em variáveis ​​e valores:\n",
        "1. Soma\n",
        "2. Subtração\n",
        "3. Multiplicação\n",
        "4. Divisão\n",
        "5. Exponenciação\n",
        "6. Resto da Divisão\n",
        "7. Divisão de Chão\n",
        "\n",
        "\n",
        "\n"
      ],
      "metadata": {
        "id": "YUdY6RPMX9QN"
      }
    },
    {
      "cell_type": "code",
      "source": [
        "# Operadores para cálculos\n",
        "Soma = 1 + 2\n",
        "Subtração = 1 - 1\n",
        "Multiplicação = 2 * 10\n",
        "Divisão = 10 / 2\n",
        "Exponenciação = 2 ** 2\n",
        "Resto_Divisao = 9 % 4\n",
        "Divisao_Chão = 9 // 4\n",
        "\n",
        "# Print formatado\n",
        "print( 'Somar:{}'.format(Soma) )\n",
        "print( 'Subtração:', Subtração )\n",
        "print( f'Multiplacação: {Multiplicação}' )\n",
        "\n",
        "print( 'Divisão', Divisão )\n",
        "print( 'Exponenciação: {}' .format(Exponenciação) )\n",
        "print( 'Resto_Divisao', Resto_Divisao )\n",
        "print( 'Divisao_Chão: {}'.format(Divisao_Chão) )\n",
        "print( 'Varios elementos: {}, {}, {}'.format(Soma, Subtração, Divisão) )"
      ],
      "metadata": {
        "id": "wtpWfqbHmwGr",
        "colab": {
          "base_uri": "https://localhost:8080/"
        },
        "outputId": "ec4284a1-31fd-44c2-8148-1bc6cdd89f09"
      },
      "execution_count": null,
      "outputs": [
        {
          "output_type": "stream",
          "name": "stdout",
          "text": [
            "Somar:3\n",
            "Subtração: 0\n",
            "Multiplacação: 20\n",
            "Divisão 5.0\n",
            "Exponenciação: 4\n",
            "Resto_Divisao 1\n",
            "Divisao_Chão: 2\n",
            "Varios elementos: 3, 0, 5.0\n"
          ]
        }
      ]
    },
    {
      "cell_type": "markdown",
      "source": [
        "# 3º Variáveis\n",
        "Variáveis ​​são contêineres para armazenar valores de dados.<p>\n",
        "Uma variável é criada no momento em que você atribui um valor a ela."
      ],
      "metadata": {
        "id": "4eGEIiIoZ5dd"
      }
    },
    {
      "cell_type": "code",
      "source": [
        "# Tipos de Variaveis\n",
        "Inteiro_Exemplo_1 = int ( 100 )\n",
        "Inteiro_Exemplo_2 = 100\n",
        "\n",
        "Flutuante_Exemplo_1 = 10.50\n",
        "Flutuante_Exemplo_2 = float( 10.50 )\n",
        "\n",
        "Palavra_Exemplo_1 = 'Qualquer Palavra'\n",
        "Palavra_Exemplo_2 = str( 'Qualquer Palavra' )\n",
        "\n",
        "Booleando_Exemplo_1 = True\n",
        "Booleando_Exemplo_2 = False\n",
        "\n",
        "print( Inteiro_Exemplo_1, Inteiro_Exemplo_2, '\\n' )\n",
        "print( Flutuante_Exemplo_1, Flutuante_Exemplo_2, '\\n' )\n",
        "print( Palavra_Exemplo_1, Palavra_Exemplo_2, '\\n' )\n",
        "print( Booleando_Exemplo_1, Booleando_Exemplo_2, '\\n' )"
      ],
      "metadata": {
        "id": "GYqhWYcVZ71Z",
        "colab": {
          "base_uri": "https://localhost:8080/"
        },
        "outputId": "a04da33d-8a00-44dc-80ae-854ad100572b"
      },
      "execution_count": null,
      "outputs": [
        {
          "output_type": "stream",
          "name": "stdout",
          "text": [
            "100 100 \n",
            "\n",
            "10.5 10.5 \n",
            "\n",
            "Qualquer Palavra Qualquer Palavra \n",
            "\n",
            "True False \n",
            "\n"
          ]
        }
      ]
    },
    {
      "cell_type": "markdown",
      "source": [
        "# **4º Tipos de Dados**\n",
        "1. Listas - São criadas usando [ ] (Colchetes)\n",
        "2. Tuplas - São criadas usando ( ) (Parenteses)\n",
        "3. Dicionários - São criadas usando { } (Chaves) <p>\n",
        "Esses tipos de dados podem receber qualquer tipo de informação, inclusive Operações Aritméticas"
      ],
      "metadata": {
        "id": "EsEsPiS1cGBs"
      }
    },
    {
      "cell_type": "code",
      "source": [
        "# Tipos de Dados\n",
        "Lista_Exemplo_1 = [1, 2, 3, 4, 5]\n",
        "Lista_Exemplo_2 = ['Nome', 'Quarto', 'Morango', 4, 5]\n",
        "Lista_Exemplo_3 = [1, 'Quarto', True, False]\n",
        "\n",
        "# Tuplas são imutaveis (Não modifica)\n",
        "Tupla_Exemplo_1 = ( 2, 3, 4, 6 )\n",
        "Tupla_Exemplo_2 = ( 'Odemir', 'Depieri', 4 )\n",
        "\n",
        "# Dicionário são para organizar os dados (Chave, Valor)\n",
        "Dicionario = { 'Nome':'Odemir', 'Idade':29 }\n",
        "\n",
        "print( Lista_Exemplo_1 )\n",
        "print( Lista_Exemplo_2 )\n",
        "print( Lista_Exemplo_3, '\\n' )\n",
        "\n",
        "print( Tupla_Exemplo_1 )\n",
        "print( Tupla_Exemplo_2, '\\n' )\n",
        "\n",
        "print( Dicionario )"
      ],
      "metadata": {
        "colab": {
          "base_uri": "https://localhost:8080/"
        },
        "id": "vGLvKYkpqPpJ",
        "outputId": "f5feccc1-f0e9-4356-fb1c-3f105ee90eaf"
      },
      "execution_count": null,
      "outputs": [
        {
          "output_type": "stream",
          "name": "stdout",
          "text": [
            "[1, 2, 3, 4, 5]\n",
            "['Nome', 'Quarto', 'Morango', 4, 5]\n",
            "[1, 'Quarto', True, False] \n",
            "\n",
            "(2, 3, 4, 6)\n",
            "('Odemir', 'Depieri', 4) \n",
            "\n",
            "{'Nome': 'Odemir', 'Idade': 29}\n"
          ]
        }
      ]
    },
    {
      "cell_type": "markdown",
      "source": [
        "# 5º Nomeação de variáveis <p>\n",
        "Podemos nomear variáveis e tipos de dados de diversas formas:\n",
        "1. Declarar as variáveis em uma única linha de comando;\n",
        "2. Atribuir um valor à diversas variáveis;\n",
        "3. Declarar usando uma Lista;\n",
        "4. Combinar variáveis;\n",
        "5. Operar com operadores matemáticos;\n",
        "6. Muitos outros.\n",
        "\n"
      ],
      "metadata": {
        "id": "vTq_Y3g5dao5"
      }
    },
    {
      "cell_type": "code",
      "source": [
        "# Nomeando Variaveis | Exemplo 1\n",
        "Laranja, Melão, Limão = 1, 2, 3\n",
        "print( Laranja, Melão, Limão, '\\n' )\n",
        "\n",
        "# Nomeando Variaveis | Exemplo 2\n",
        "Morango = Uva = Kiwi = 100\n",
        "print( Morango, Uva, Kiwi, '\\n' )\n",
        "\n",
        "# Nomeando Variaveis | Exemplo 3\n",
        "# Criando uma lista\n",
        "Carros = ['VW', 'GM', 'Ford']\n",
        "\n",
        "# Nomeando as variaveis com a lista\n",
        "Marca_01, Marca_02, Marca_03 = Carros\n",
        "print( Marca_03, '\\n' )\n",
        "\n",
        "# Combinando Variaveis | Exemplo 1\n",
        "Nome = 'Odemir'\n",
        "Sobrenome = 'Depieri'\n",
        "Nome_Completo = Nome + ' ' + Sobrenome\n",
        "print( Nome_Completo, '\\n' )\n",
        "\n",
        "# Combinando Variaveis | Exemplo 2\n",
        "Dolar = 5.40\n",
        "Imposto = 0.20\n",
        "Valor_Liquido = Dolar - ( Dolar * Imposto )\n",
        "print( Valor_Liquido )"
      ],
      "metadata": {
        "id": "S0Y8IKn_svfV",
        "colab": {
          "base_uri": "https://localhost:8080/"
        },
        "outputId": "cea395cc-9584-4548-a72a-56675f70e92b"
      },
      "execution_count": null,
      "outputs": [
        {
          "output_type": "stream",
          "name": "stdout",
          "text": [
            "1 2 3 \n",
            "\n",
            "100 100 100 \n",
            "\n",
            "Ford \n",
            "\n",
            "Odemir Depieri \n",
            "\n",
            "4.32\n"
          ]
        }
      ]
    },
    {
      "cell_type": "markdown",
      "source": [
        "# **6º Tipo da Informação**\n",
        "Na programação, o tipo de dados é um conceito importante.\n",
        "Variáveis ​​podem armazenar dados de diferentes tipos, e diferentes tipos podem fazer coisas diferentes.\n",
        "O Python tem os seguintes tipos de dados integrados por padrão, nestas categorias:\n",
        "1. Text Type: *str*\n",
        "2. Numeric Types:\t*int*, *float*, *complex*\n",
        "3. Sequence Types:\t*list*, *tuple*, *range*\n",
        "4. Mapping Type:\t*dict*\n",
        "5. Set Types:\t*set*, *frozenset*\n",
        "6. Boolean Type:\t*bool*\n",
        "7. Binary Types:\t*bytes*, *bytearray*, *memoryview*\n",
        "\n"
      ],
      "metadata": {
        "id": "4H9ud-NqrKE8"
      }
    },
    {
      "cell_type": "code",
      "source": [
        "# Criando tipos de informações\n",
        "String = str('Olá Mundo!')\n",
        "Inteiro = int(10)\n",
        "Flutuante = float(10.99)\n",
        "Complex = complex(1j)\n",
        "Lista = list( ('Maça', 'Morango', 'Pera') )\n",
        "Tupla = tuple( ('Maça', 'Morango', 'Pera') )\n",
        "Range = range(6)\n",
        "Dicionario = dict(nome='Odemir', age=29)\n",
        "Set = set( ('Maça', 'Morango', 'Pera') )\n",
        "Fronzet = frozenset( ('Maça', 'Morango', 'Pera') )\n",
        "Boleano = bool(5)\n",
        "Bytes = bytes(5)\n",
        "ByteArray = bytearray(5)\n",
        "Memoryview = memoryview( bytes(5) )\n",
        "\n",
        "from datetime import datetime\n",
        "Data = datetime.today().date()\n",
        "\n",
        "# Mostrando os Valores\n",
        "print( type(String) )\n",
        "print( type(Inteiro) )\n",
        "print( type(Flutuante) )\n",
        "print( type(Complex) )\n",
        "print( type(Lista) )\n",
        "print( type(Tupla) )\n",
        "print( type(Range) )\n",
        "print( type(Dicionario) )\n",
        "print( type(Set) )\n",
        "print( type(Fronzet) )\n",
        "print( type(Boleano) )\n",
        "print( type(Bytes) )\n",
        "print( type(ByteArray) )\n",
        "print( type(Memoryview) )\n",
        "print( type(Data) )"
      ],
      "metadata": {
        "colab": {
          "base_uri": "https://localhost:8080/"
        },
        "id": "O0U8I7KargzY",
        "outputId": "14708e39-9e5d-4eb9-d769-0f397d5ed0c0"
      },
      "execution_count": null,
      "outputs": [
        {
          "output_type": "stream",
          "name": "stdout",
          "text": [
            "<class 'str'>\n",
            "<class 'int'>\n",
            "<class 'float'>\n",
            "<class 'complex'>\n",
            "<class 'list'>\n",
            "<class 'tuple'>\n",
            "<class 'range'>\n",
            "<class 'dict'>\n",
            "<class 'set'>\n",
            "<class 'frozenset'>\n",
            "<class 'bool'>\n",
            "<class 'bytes'>\n",
            "<class 'bytearray'>\n",
            "<class 'memoryview'>\n",
            "<class 'datetime.date'>\n"
          ]
        }
      ]
    },
    {
      "cell_type": "markdown",
      "source": [
        "# **7º Comando Round**\n",
        "Quando trabalhamos com números flutuantes, podemos arredondar o valor usando um comando nativo do Python<p>\n",
        "\n",
        "round( valor, número de casas)"
      ],
      "metadata": {
        "id": "_vyTISBrt9BD"
      }
    },
    {
      "cell_type": "code",
      "source": [
        "# Comando Round\n",
        "# Metodo round, arredonda valores\n",
        "\n",
        "Valor_Exemplo = 12.123456789\n",
        "\n",
        "print( round( Valor_Exemplo, 1 ) )\n",
        "print( round( Valor_Exemplo, 2 ) )\n",
        "print( round( Valor_Exemplo, 3 ) )\n",
        "print( round( Valor_Exemplo, 5 ) )"
      ],
      "metadata": {
        "id": "rKndFOr9WvP9",
        "colab": {
          "base_uri": "https://localhost:8080/"
        },
        "outputId": "aa537fdc-d323-4ac8-f4a9-68e91099d8b8"
      },
      "execution_count": null,
      "outputs": [
        {
          "output_type": "stream",
          "name": "stdout",
          "text": [
            "12.1\n",
            "12.12\n",
            "12.123\n",
            "12.12346\n"
          ]
        }
      ]
    },
    {
      "cell_type": "markdown",
      "source": [
        "# **8º Comando Len**\n",
        "A função len() retorna a quantidade de elementos de qualquer lista em Python, essa é mais uma função built-in e disponível em qualquer parte dos nossos códigos."
      ],
      "metadata": {
        "id": "nXb3f4OXv1VQ"
      }
    },
    {
      "cell_type": "code",
      "source": [
        "Lista = [1, 2, 3, 4, 5]\n",
        "Dicionario = { 'Nome':'Odemir', 'Idade':29, 'Vip':False }\n",
        "Tupla = (10, 20)\n",
        "String = 'Olá Mundão!'\n",
        "\n",
        "print( len(Lista) )\n",
        "print( len(Dicionario) )\n",
        "print( len(Tupla) )\n",
        "print( len(String) )"
      ],
      "metadata": {
        "id": "KVx_s9BywBh6",
        "colab": {
          "base_uri": "https://localhost:8080/"
        },
        "outputId": "4aa77deb-fb7a-436c-c1aa-38c52f935daa"
      },
      "execution_count": null,
      "outputs": [
        {
          "output_type": "stream",
          "name": "stdout",
          "text": [
            "5\n",
            "3\n",
            "2\n",
            "11\n"
          ]
        }
      ]
    },
    {
      "cell_type": "code",
      "source": [],
      "metadata": {
        "id": "tSvbfD-WXjH8"
      },
      "execution_count": null,
      "outputs": []
    },
    {
      "cell_type": "markdown",
      "source": [
        "# **9º Fatiamento de Strings**\n",
        "Strings são listas de bytes represetando caracteres.<p>\n",
        "Podemos acessar suas posições usando Colchetes<p>\n",
        "String [Posição Inicial: Posição Final]"
      ],
      "metadata": {
        "id": "UC0xUa3UurIW"
      }
    },
    {
      "cell_type": "code",
      "source": [
        "# Strings\n",
        "Minha_String = 'Aprender python é Top!'\n",
        "print( type(Minha_String) )\n",
        "print( len(Minha_String) )\n",
        "\n",
        "print( Minha_String[0] )\n",
        "print( Minha_String[5] )\n",
        "print( Minha_String[-1] )\n",
        "print( Minha_String[-10:] )\n",
        "print( Minha_String[0:10] )"
      ],
      "metadata": {
        "colab": {
          "base_uri": "https://localhost:8080/"
        },
        "id": "lWcimolMu3ag",
        "outputId": "35c77c0d-77f3-4c0f-97a4-792d0930fa69"
      },
      "execution_count": null,
      "outputs": [
        {
          "output_type": "stream",
          "name": "stdout",
          "text": [
            "<class 'str'>\n",
            "22\n",
            "A\n",
            "d\n",
            "!\n",
            "hon é Top!\n",
            "Aprender p\n"
          ]
        }
      ]
    },
    {
      "cell_type": "markdown",
      "source": [
        "# **10° Manipulação de Strings**<p>\n",
        "Um tipo de dados bastante usado no dia a dia são as strings, ou cadeias de caracteres (ou sequências de caracteres). O tipo de dados string, ou str como é chamado em Python, possui várias operações úteis associadas a ele. Essas operações tornam Python uma linguagem bastante propícia para manipulação de textos.\n",
        "Algumas funções mais utilizadas:\n",
        "\n",
        "1. replace()\n",
        "2. startswith()\n",
        "3. endswith()\n",
        "4. count()\n",
        "5. capitalize()\n",
        "6. isdigit()\n",
        "7. isalnum()\n",
        "8. upper()\n",
        "9. lower()\n",
        "10. find ()\n",
        "11. strip()\n",
        "12. split()\n"
      ],
      "metadata": {
        "id": "IF8GdirtxBrk"
      }
    },
    {
      "cell_type": "code",
      "source": [
        "# Imprimindo uma string.\n",
        "String = 'Olá Mundão!'\n",
        "print( String )\n",
        "\n",
        "# Tipo de uma string.\n",
        "print( type( String ) )\n",
        "\n",
        "# Tamanho de uma string.\n",
        "print( len( String ) )\n",
        "\n",
        "# Concatenação\n",
        "print( String + ' Estou aprendendo Python...' )\n",
        "\n",
        "# Substitui uma substring por alguma outra coisa.\n",
        "Substituir = String.replace('Mundão', 'Mundo Louco :X')\n",
        "print( Substituir )\n",
        "\n",
        "# A string s começa com \"Olá\"?\n",
        "print( String.startswith('Olá') )\n",
        "\n",
        "# A string termina com \"mundo\"?\n",
        "print( String.endswith('mundo') )\n",
        "\n",
        "# Quantas ocorrências da palavra \"a\" a string possui?\n",
        "print( String.count('M') )\n",
        "\n",
        "# Capitalize - Transformar a primeira letra da primeira palavra em maiúscula.\n",
        "String_02 = 'odemir depieri'\n",
        "print( String_02.capitalize() )\n",
        "\n",
        "# Verificar se uma string só possui números.\n",
        "String_03 = '123456789'\n",
        "String_04 = '123456789ABC'\n",
        "print( String_03.isdigit() )\n",
        "print( String_04.isdigit() )\n",
        "\n",
        "# Verificar se uma string é alfanumérica (só possui letras e números).\n",
        "print( '12345abc'.isalnum() )\n",
        "\n",
        "# Transformar tudo em Maiusculo\n",
        "print( String.upper() )\n",
        "\n",
        "# Transformar tudo em Minúsculo\n",
        "print( String.lower() )\n",
        "\n",
        "# Procurar algo na string\n",
        "print( String.find('!') )\n",
        "\n",
        "# Removendo espaçoes antes e fim da palavra\n",
        "String_05 =' Olá Mundão! '\n",
        "print( String_05.strip() )\n",
        "\n",
        "# Removendo espaçoes antes e fim da palavra\n",
        "String_06 ='Loja 1 vendou 10, Loja 2 vendou 20, Loja 3 vendou 30 '\n",
        "print( String_06.split(',') )"
      ],
      "metadata": {
        "colab": {
          "base_uri": "https://localhost:8080/"
        },
        "id": "-umu50oqxM54",
        "outputId": "e0c86327-b194-4080-8188-37b4da462dcd"
      },
      "execution_count": null,
      "outputs": [
        {
          "output_type": "stream",
          "name": "stdout",
          "text": [
            "Olá Mundão!\n",
            "<class 'str'>\n",
            "11\n",
            "Olá Mundão! Estou aprendendo Python...\n",
            "Olá Mundo Louco :X!\n",
            "True\n",
            "False\n",
            "1\n",
            "Odemir depieri\n",
            "True\n",
            "False\n",
            "True\n",
            "OLÁ MUNDÃO!\n",
            "olá mundão!\n",
            "10\n",
            "Olá Mundão!\n",
            "['Loja 1 vendou 10', ' Loja 2 vendou 20', ' Loja 3 vendou 30 ']\n"
          ]
        }
      ]
    },
    {
      "cell_type": "markdown",
      "source": [
        "# **11º Comando Input**\n",
        "A função input() recebe como parâmetro uma string que será mostrada como auxílio ao usuário, geralmente o informando que tipo de dado o programa está aguardando receber.\n",
        "\n",
        "input()"
      ],
      "metadata": {
        "id": "HGzNUJkJ2N7C"
      }
    },
    {
      "cell_type": "code",
      "source": [
        "# Comando input\n",
        "# Enviar uma informação momentânea\n",
        "\n",
        "Nome = input('Qual seu nome? ')\n",
        "Idade = input('Quantos anos você tem? ')\n",
        "\n",
        "print('Seu nome é:', Nome)\n",
        "print('Sua idade:', Idade)"
      ],
      "metadata": {
        "colab": {
          "base_uri": "https://localhost:8080/"
        },
        "id": "sksQdzKGiL5P",
        "outputId": "33632c11-2b20-40bb-9d81-49db6c4f9120"
      },
      "execution_count": null,
      "outputs": [
        {
          "output_type": "stream",
          "name": "stdout",
          "text": [
            "Qual seu nome? Odemir\n",
            "Quantos anos você tem? 29\n",
            "Seu nome é: Odemir\n",
            "Sua idade: 29\n"
          ]
        }
      ]
    },
    {
      "cell_type": "markdown",
      "source": [
        "# **12º Operadores de Comparação**\n",
        "Os operadores de comparação são usados ​​para comparar dois valores:\n",
        "1. '==' ( Igual a )\n",
        "2. '!=' ( Diferente )\n",
        "3. '>' ( Maior )\n",
        "4. '<' ( Menor )\n",
        "5. '>=' ( Maior igual )\n",
        "6. '<=' ( Menor igual )"
      ],
      "metadata": {
        "id": "F9_PeEHo7qKT"
      }
    },
    {
      "cell_type": "code",
      "source": [
        "# Operadores de Comparações - Parte 1\n",
        "Igual = '=='\n",
        "Diferente = '!='\n",
        "Maior = '>'\n",
        "Maior_Igual = '>='\n",
        "Menor = '<'\n",
        "Menor_Igual = '<='\n",
        "\n",
        "print('8 é maior que 7:', 8 > 7 )\n",
        "print('8 é menor que 7:', 8 < 7 )\n",
        "print('8 é igual 7:', 8 == 7 )\n",
        "print('10 é maior 10:', 10 > 10 )\n",
        "print('10 é maior ou igual à 10:', 10 >= 10 )\n",
        "print('10 é menor 10:', 10 < 10 )\n",
        "print('10 é menor ou igual à 10:', 10 <= 10 )"
      ],
      "metadata": {
        "id": "8AGM8GIlkGlM",
        "colab": {
          "base_uri": "https://localhost:8080/"
        },
        "outputId": "4e321f2e-50de-4c56-8186-2ff7902fedbb"
      },
      "execution_count": null,
      "outputs": [
        {
          "output_type": "stream",
          "name": "stdout",
          "text": [
            "8 é maior que 7: True\n",
            "8 é menor que 7: False\n",
            "8 é igual 7: False\n",
            "10 é maior 10: False\n",
            "10 é maior ou igual à 10: True\n",
            "10 é menor 10: False\n",
            "10 é menor ou igual à 10: True\n"
          ]
        }
      ]
    },
    {
      "cell_type": "markdown",
      "source": [
        "# **13º Operadores Lógicos**\n",
        "Os operadores lógicos são usados ​​para combinar instruções condicionais:\n",
        "1. and (Retorna True se ambas as declarações forem verdadeiras)\n",
        "2. or (Retorna True se uma das declarações for verdadeira)"
      ],
      "metadata": {
        "id": "6Lqd3mrZ8UtD"
      }
    },
    {
      "cell_type": "code",
      "source": [
        "# Operadores de Comparações - Parte 2\n",
        "And = 'and'\n",
        "Ou = 'or'\n",
        "Negação = 'not'\n",
        "\n",
        "print('8 é maior que 7 e 7 maior que 8:', 8 > 7 and 7 > 8 )\n",
        "print('8 é maior que 7 e 7 menor que 8:', 8 > 7 and 7 < 8 )\n",
        "print('8 é maior que 7 ou 7 menor que 8:', 8 == 7 or 7 == 8 )\n",
        "print('8 é maior que 7 ou 7 menor que 8:', 8 > 7 or 7 > 8 )"
      ],
      "metadata": {
        "colab": {
          "base_uri": "https://localhost:8080/"
        },
        "id": "xntWZ8vN8RkN",
        "outputId": "1dc18ce8-2c00-4cab-aa81-91a421f3a548"
      },
      "execution_count": null,
      "outputs": [
        {
          "output_type": "stream",
          "name": "stdout",
          "text": [
            "8 é maior que 7 e 7 maior que 8: False\n",
            "8 é maior que 7 e 7 menor que 8: True\n",
            "8 é maior que 7 ou 7 menor que 8: False\n",
            "8 é maior que 7 ou 7 menor que 8: True\n"
          ]
        }
      ]
    },
    {
      "cell_type": "markdown",
      "source": [
        "# **14º Operadores de Identidade**\n",
        "Os operadores de identidade são usados ​​para comparar os objetos, não se forem iguais, mas se forem realmente o mesmo objeto, com a mesma localização de memória:\n",
        "1. is (Retorna True se ambas as variáveis ​​forem o mesmo objeto)\n",
        "2. is not (Retorna True se ambas as variáveis ​​não forem o mesmo objeto)"
      ],
      "metadata": {
        "id": "52wZm8e68wSF"
      }
    },
    {
      "cell_type": "code",
      "source": [
        "String_01 = str('Olá Mundão')\n",
        "String_02 = str('Olá Mundão')\n",
        "\n",
        "print( String_01 is String_01 )\n",
        "print( String_01 is String_02 )\n",
        "print( String_01 == String_02 )\n",
        "print( type(String_01) is type(String_02) )"
      ],
      "metadata": {
        "id": "Mx3XYI8LnSfK",
        "colab": {
          "base_uri": "https://localhost:8080/"
        },
        "outputId": "f3a1bdd6-3b17-426d-ae04-7c00f43c20bf"
      },
      "execution_count": null,
      "outputs": [
        {
          "output_type": "stream",
          "name": "stdout",
          "text": [
            "True\n",
            "False\n",
            "True\n",
            "True\n"
          ]
        }
      ]
    },
    {
      "cell_type": "markdown",
      "source": [
        "# **15º Operadores de Associação**\n",
        "Os operadores de associação são usados ​​para testar se uma sequência é apresentada em um objeto:\n",
        "1. in (Retorna True se uma sequência com o valor especificado estiver presente no objeto)\n",
        "2. not in (Retorna True se uma sequência com o valor especificado não estiver presente no objeto)"
      ],
      "metadata": {
        "id": "RrCYnXRI89b_"
      }
    },
    {
      "cell_type": "code",
      "source": [
        "Lista_Ações = ['Magalu', 'Via', 'Assai', 'Carrefour']\n",
        "\n",
        "print( 'Via' in Lista_Ações )\n",
        "print( 'Via' not in Lista_Ações )"
      ],
      "metadata": {
        "id": "OJ9-UYrU9Jfl",
        "colab": {
          "base_uri": "https://localhost:8080/"
        },
        "outputId": "40af4cec-20e2-4fac-c415-f99b75f8a505"
      },
      "execution_count": null,
      "outputs": [
        {
          "output_type": "stream",
          "name": "stdout",
          "text": [
            "True\n",
            "False\n"
          ]
        }
      ]
    },
    {
      "cell_type": "markdown",
      "source": [
        "# **16º Manipulando Listas**\n",
        "As listas são usadas para armazenar vários itens em uma única variável.\n",
        "\n",
        "As listas são um dos 4 tipos de dados internos do Python usados ​​para armazenar coleções de dados, os outros 3 são Tuple , Set e Dictionary , todos com qualidades e usos diferentes.<p>\n",
        "Comandos mais utilizados:\n",
        "1. append() - Para adicionar um item ao final da lista\n",
        "2. len() - Calcular o tamanho da lista\n",
        "3. [  ] - Acessar posições\n",
        "4. del() - Exlcuir um elemtno\n",
        "5. clear() - Limpar a lista\n",
        "6. insert() - Para inserir um item de lista em um índice especificado\n",
        "7. extend() - Anexar elementos de outra lista à lista atual\n",
        "8. remove() - Remove o item especificado\n",
        "9. pop() - Remove o índice especificado.\n",
        "10. sort() - Ordenar os valores\n",
        "11. copy() - Faz uma copia da Lista\n",
        "12. index() - Retorna o index do elemento da lista"
      ],
      "metadata": {
        "id": "DbMZYX6S_Fwb"
      }
    },
    {
      "cell_type": "code",
      "source": [
        "# Manipulando dados dentro das Lista\n",
        "Lista_Vazia = []\n",
        "print('Lista antes:', Lista_Vazia, '\\n' )\n",
        "\n",
        "# Inserindo valores na Lista\n",
        "Lista_Vazia.append(1)\n",
        "Lista_Vazia.append(2)\n",
        "Lista_Vazia.append(3)\n",
        "print('Lista Depois:', Lista_Vazia, '\\n' )\n",
        "\n",
        "# Tamanho da lista\n",
        "print('Lista contém:', len(Lista_Vazia), 'elementos', '\\n' )\n",
        "\n",
        "# Tamanho da lista\n",
        "print('Acessando o 1º Elemento:', Lista_Vazia[0] )\n",
        "print('Acessando o 2º Elemento:', Lista_Vazia[1] )\n",
        "print('Acessando o último Elemento:', Lista_Vazia[-1] )\n",
        "print('Acessando um periodo:', Lista_Vazia[0:2], '\\n' )\n",
        "\n",
        "# Excluindo valor na lista\n",
        "del Lista_Vazia[1]\n",
        "print('Depois da exclusão:', Lista_Vazia, '\\n' )\n",
        "\n",
        "# Limpando a lista\n",
        "print('Depois da Limpeza:', Lista_Vazia.clear(), '\\n' )\n",
        "\n",
        "# Inserindo um valor com uma posição\n",
        "Lista_Inserir = ['Posição 1', 'Posição 2', 'Posição 3']\n",
        "Lista_Inserir.insert( 0, 'Posição 4' )\n",
        "print( Lista_Inserir, '\\n' )\n",
        "\n",
        "# Inserindo uma lista na outra\n",
        "Lista_Inserir_01 = ['Posição 1', 'Posição 2', 'Posição 3']\n",
        "Lista_Inserir_02 = ['Posição 4', 'Posição 5', 'Posição 6']\n",
        "Lista_Inserir_01.extend( Lista_Inserir_02 )\n",
        "print( Lista_Inserir_01, '\\n' )\n",
        "\n",
        "# Removendo itens especifico pelo nome\n",
        "Lista_Inserir_01.remove('Posição 6')\n",
        "print( Lista_Inserir_01, '\\n' )\n",
        "\n",
        "# Removendo itens pelo index\n",
        "Lista_Inserir_01.pop(0)\n",
        "print( Lista_Inserir_01, '\\n' )\n",
        "\n",
        "# Ordenar uma lista\n",
        "Lista_Alfabetica = ['Z', 'C', 'A', 'B', 'L']\n",
        "Lista_Alfabetica.sort()\n",
        "print( Lista_Alfabetica, '\\n' )\n",
        "\n",
        "# Ordenar uma lista de forma inversa\n",
        "Lista_Alfabetica.sort( reverse=True )\n",
        "print( Lista_Alfabetica, '\\n' )\n",
        "\n",
        "# Copiar uma Lista\n",
        "Lista_Alfabetica_02 = Lista_Alfabetica.copy()\n",
        "print( Lista_Alfabetica_02, '\\n' )\n",
        "\n",
        "# Indetificar o Index do elemtno na lista\n",
        "print( Lista_Alfabetica_02.index('L'), '\\n' )"
      ],
      "metadata": {
        "colab": {
          "base_uri": "https://localhost:8080/"
        },
        "id": "UxlQ-8s--7bN",
        "outputId": "5807d543-9593-4cfc-b0ca-ba1d304a6f66"
      },
      "execution_count": null,
      "outputs": [
        {
          "output_type": "stream",
          "name": "stdout",
          "text": [
            "Lista antes: [] \n",
            "\n",
            "Lista Depois: [1, 2, 3] \n",
            "\n",
            "Lista contém: 3 elementos \n",
            "\n",
            "Acessando o 1º Elemento: 1\n",
            "Acessando o 2º Elemento: 2\n",
            "Acessando o último Elemento: 3\n",
            "Acessando um periodo: [1, 2] \n",
            "\n",
            "Depois da exclusão: [1, 3] \n",
            "\n",
            "Depois da Limpeza: None \n",
            "\n",
            "['Posição 4', 'Posição 1', 'Posição 2', 'Posição 3'] \n",
            "\n",
            "['Posição 1', 'Posição 2', 'Posição 3', 'Posição 4', 'Posição 5', 'Posição 6'] \n",
            "\n",
            "['Posição 1', 'Posição 2', 'Posição 3', 'Posição 4', 'Posição 5'] \n",
            "\n",
            "['Posição 2', 'Posição 3', 'Posição 4', 'Posição 5'] \n",
            "\n",
            "['A', 'B', 'C', 'L', 'Z'] \n",
            "\n",
            "['Z', 'L', 'C', 'B', 'A'] \n",
            "\n",
            "['Z', 'L', 'C', 'B', 'A'] \n",
            "\n",
            "1 \n",
            "\n"
          ]
        }
      ]
    },
    {
      "cell_type": "markdown",
      "source": [
        "# **17º Pacote Externo - Datetime**\n",
        "O datetime módulo fornece classes para manipulação de datas e horas.\n"
      ],
      "metadata": {
        "id": "tlAQIqszEgDi"
      }
    },
    {
      "cell_type": "code",
      "source": [
        "import datetime\n",
        "\n",
        "# Dia de Hoje\n",
        "Dia_Hoje = datetime.datetime.today().date()\n",
        "print( f'Hoje é: {Dia_Hoje} \\n' )\n",
        "\n",
        "# Construindo uma Data\n",
        "Data = datetime.date(2020, 10, 1)\n",
        "print( f'Construindo uma Data {Data} \\n' )\n",
        "\n",
        "# Acessando os atributos da DAta\n",
        "Ano = Data.year\n",
        "Mes = Data.month\n",
        "Dia = Data.day\n",
        "print(f'Hoje é dia {Dia} do mês {Mes} do ano de {Ano} \\n')\n",
        "\n",
        "# Operação\n",
        "Intervalo = Data - Dia_Hoje\n",
        "print(f'Já ocorreu {Intervalo} dias \\n' )\n",
        "\n",
        "# Ajustando o formato\n",
        "Novo_Formato = Dia_Hoje.strftime('%d/%m/%y')\n",
        "print( f'Hoje é: {Novo_Formato} \\n' )\n",
        "\n",
        "# Aumentar dias ou diminuir\n",
        "print( f'Somando 30 dias, {Dia_Hoje + datetime.timedelta(days = 30)}' )\n",
        "print( f'Diminuindo 30 dias, {Dia_Hoje - datetime.timedelta(days = 30)}' )"
      ],
      "metadata": {
        "colab": {
          "base_uri": "https://localhost:8080/"
        },
        "id": "TMa8Z54aEwlP",
        "outputId": "f14f4523-3f75-4777-e6db-b4eaabcd2f6c"
      },
      "execution_count": null,
      "outputs": [
        {
          "output_type": "stream",
          "name": "stdout",
          "text": [
            "Hoje é: 2022-03-15 \n",
            "\n",
            "Construindo uma Data 2020-10-01 \n",
            "\n",
            "Hoje é dia 1 do mês 10 do ano de 2020 \n",
            "\n",
            "Já ocorreu -530 days, 0:00:00 dias \n",
            "\n",
            "Hoje é: 15/03/22 \n",
            "\n",
            "Somando 30 dias, 2022-04-14\n",
            "Diminuindo 30 dias, 2022-02-13\n"
          ]
        }
      ]
    },
    {
      "cell_type": "markdown",
      "source": [
        "# **18° Pacote Externo - Time**\n",
        "Este módulo fornece várias funções relacionadas ao tempo"
      ],
      "metadata": {
        "id": "AkzpmFB37MR-"
      }
    },
    {
      "cell_type": "code",
      "source": [
        "# Importar a Lib\n",
        "import time\n",
        "\n",
        "print('Esse print foi rápido!')\n",
        "time.sleep(2.5)\n",
        "print('Esse print aconteceu depois de 2.5 segundos \\n')\n",
        "\n",
        "# Capturar o local agora\n",
        "Agora = time.localtime()\n",
        "print( type(Agora) )\n",
        "print( Agora )\n",
        "print( time.strftime('%m/%d/%Y, %H:%M:%S', Agora ), '\\n' )\n",
        "\n",
        "# Converter uma string para time\n",
        "Time_Texto = '21 June, 2018'\n",
        "Conversao = time.strptime(Time_Texto, '%d %B, %Y')\n",
        "print(Conversao)"
      ],
      "metadata": {
        "id": "g7Ru0a446HCj",
        "colab": {
          "base_uri": "https://localhost:8080/"
        },
        "outputId": "c6c53ca8-4e34-4967-a894-ddc7ae0c69cc"
      },
      "execution_count": null,
      "outputs": [
        {
          "output_type": "stream",
          "name": "stdout",
          "text": [
            "Esse print foi rápido!\n",
            "Esse print aconteceu depois de 2.5 segundos \n",
            "\n",
            "<class 'time.struct_time'>\n",
            "time.struct_time(tm_year=2022, tm_mon=3, tm_mday=15, tm_hour=11, tm_min=3, tm_sec=36, tm_wday=1, tm_yday=74, tm_isdst=0)\n",
            "03/15/2022, 11:03:36 \n",
            "\n",
            "time.struct_time(tm_year=2018, tm_mon=6, tm_mday=21, tm_hour=0, tm_min=0, tm_sec=0, tm_wday=3, tm_yday=172, tm_isdst=-1)\n"
          ]
        }
      ]
    },
    {
      "cell_type": "markdown",
      "source": [
        "# 19º Pacote Externo - Math\n",
        "**negrito**O Python possui um conjunto de funções matemáticas integradas, incluindo um extenso módulo matemático, que permite realizar tarefas matemáticas em números."
      ],
      "metadata": {
        "id": "4bG8pLZYINAF"
      }
    },
    {
      "cell_type": "code",
      "source": [
        "import math\n",
        "\n",
        "# Sem necessidade do math\n",
        "\n",
        "# Minino e Maximo\n",
        "Tupla = (10, 15, 5, 8, 20)\n",
        "print( min(Tupla) )\n",
        "print( max(Tupla) )\n",
        "\n",
        "# ABS  retorna o valor absoluto (positivo) do número especificado\n",
        "print( abs(-7.25) )\n",
        "\n",
        "# Retorna a potencia (seria o msm que 3 * 3 * 3 * 3)\n",
        "print( pow(3, 4) )\n",
        "\n",
        "# Raiz quadrada\n",
        "Raiz_Quadrada = math.sqrt( 81 )\n",
        "print( Raiz_Quadrada )\n",
        "\n",
        "# Arrendondamento\n",
        "\n",
        "# Arredonda um número para cima até o número inteiro mais próximo\n",
        "print( math.ceil(1.4) )\n",
        "\n",
        "# Arredonda um número para baixo até o número inteiro mais próximo\n",
        "print( math.floor(1.4) )\n",
        "\n",
        "# retorna o numero de PI\n",
        "print( math.pi )"
      ],
      "metadata": {
        "colab": {
          "base_uri": "https://localhost:8080/"
        },
        "id": "MYZhJucuIQNP",
        "outputId": "670dd942-0d0a-4f4e-8a73-a9c1d397c02c"
      },
      "execution_count": null,
      "outputs": [
        {
          "output_type": "stream",
          "name": "stdout",
          "text": [
            "5\n",
            "20\n",
            "7.25\n",
            "81\n",
            "9.0\n",
            "2\n",
            "1\n",
            "3.141592653589793\n"
          ]
        }
      ]
    },
    {
      "cell_type": "markdown",
      "source": [
        "# **20° Pacote Externo - Random**\n",
        "Este módulo implementa geradores de números pseudo-aleatórios para várias distribuições."
      ],
      "metadata": {
        "id": "evGNmtIZ9j_b"
      }
    },
    {
      "cell_type": "code",
      "source": [
        "# import random\n",
        "import random\n",
        "\n",
        "# Lista numerico\n",
        "Lista_Numerica = [1, 2, 3, 4, 5, 6]\n",
        "print(f'O número sorteado foi: {random.choice(Lista_Numerica)} \\n')\n",
        "\n",
        "# Sortear uma letra da palavra\n",
        "Palavra = 'Odemir'\n",
        "print(f'A Letra sorteada foi: {random.choice(Palavra)} \\n')\n",
        "\n",
        "# Numero aleatorio entre 0 e 1\n",
        "Numero_Aleatorio = random.random()\n",
        "print(f'O Numero gerado foi: {Numero_Aleatorio} \\n')\n",
        "\n",
        "Numero_Aleatorio_01 = random.randint(0, 10)\n",
        "print(f'Número aleatorio entre 1 e 10 foi: {Numero_Aleatorio_01}')"
      ],
      "metadata": {
        "colab": {
          "base_uri": "https://localhost:8080/"
        },
        "id": "6m8tC8-J8dJU",
        "outputId": "edd02b7a-e248-4cf3-a45e-14fcecf7429a"
      },
      "execution_count": null,
      "outputs": [
        {
          "output_type": "stream",
          "name": "stdout",
          "text": [
            "O número sorteado foi: 5 \n",
            "\n",
            "A Letra sorteada foi: O \n",
            "\n",
            "O Numero gerado foi: 0.6298082881277355 \n",
            "\n",
            "Número aleatorio entre 1 e 10 foi: 1\n"
          ]
        }
      ]
    },
    {
      "cell_type": "markdown",
      "source": [
        "# **21° Pacote Externo - Statistics**\n",
        "Este módulo fornece funções para calcular estatísticas matemáticas de dados numéricos e interage com as listas"
      ],
      "metadata": {
        "id": "_ItJifJkCggh"
      }
    },
    {
      "cell_type": "code",
      "source": [
        "# Importando a Statistics para operar nas listas\n",
        "import statistics\n",
        "\n",
        "# Retirando a média\n",
        "Media = statistics.mean( [1, 2, 3, 4, 4] )\n",
        "print(f'A media seria: {Media} \\n')\n",
        "\n",
        "Mediana = statistics.median( [1, 2, 3, 4, 4] )\n",
        "print(f'A mediana seria: {Mediana} \\n')\n",
        "\n",
        "Moda = statistics.mode( [1, 2, 3, 4, 4] )\n",
        "print(f'A moda seria: {Moda}')"
      ],
      "metadata": {
        "colab": {
          "base_uri": "https://localhost:8080/"
        },
        "id": "87Npf9xs9edv",
        "outputId": "d5c17412-65bb-449f-8b32-9f897ef850eb"
      },
      "execution_count": null,
      "outputs": [
        {
          "output_type": "stream",
          "name": "stdout",
          "text": [
            "A media seria: 2.8 \n",
            "\n",
            "A mediana seria: 3 \n",
            "\n",
            "A moda seria: 4\n"
          ]
        }
      ]
    },
    {
      "cell_type": "markdown",
      "source": [
        "# **22º Condição If**\n",
        "if é a declaração mais simples de tomada de decisão. <p>Ele é usado para decidir se uma determinada instrução ou bloco de instruções será executado ou não, ou seja, se uma determinada condição for verdadeira, um bloco de instruções será executado, caso contrário, não.\n",
        "\n",
        "if condição :<p>\n",
        "*   declarações a serem executadas se\n",
        "*   condição é verdadeira\n",
        "\n"
      ],
      "metadata": {
        "id": "sa4ffKUyDbbX"
      }
    },
    {
      "cell_type": "code",
      "source": [
        "# Condição se a pessoa tiver menor de 18 anos, ela nao no sistema.\n",
        "Idade = 20\n",
        "\n",
        "if Idade >= 18:\n",
        "  print('você é maior de idade!')"
      ],
      "metadata": {
        "id": "ZHXnyy8dXmF3",
        "colab": {
          "base_uri": "https://localhost:8080/"
        },
        "outputId": "66ca580f-891f-4936-fe10-a89b04d39437"
      },
      "execution_count": null,
      "outputs": [
        {
          "output_type": "stream",
          "name": "stdout",
          "text": [
            "você é maior de idade!\n"
          ]
        }
      ]
    },
    {
      "cell_type": "code",
      "source": [
        "# Condição IF + ELSE\n",
        "\n",
        "Idade = int( 15 )\n",
        "\n",
        "if Idade >= 18:\n",
        "  print('Você é de maior!')\n",
        "\n",
        "else:\n",
        "  print('Você é menor de Idade!!! gugudada')"
      ],
      "metadata": {
        "colab": {
          "base_uri": "https://localhost:8080/"
        },
        "id": "EVqREeIXWi84",
        "outputId": "dd881c26-1e42-496d-f31e-96f4b9aad51b"
      },
      "execution_count": null,
      "outputs": [
        {
          "output_type": "stream",
          "name": "stdout",
          "text": [
            "Você é menor de Idade!!! gugudada\n"
          ]
        }
      ]
    },
    {
      "cell_type": "code",
      "source": [
        "# Condição IF + ELSE + ELIF\n",
        "\n",
        "Idade = int( 14 )\n",
        "\n",
        "if Idade > 18:\n",
        "  print('Você é de maior!')\n",
        "\n",
        "elif Idade == 18:\n",
        "  print('Opa! Welcome the jungle!!! ')\n",
        "\n",
        "elif Idade < 18 and Idade >= 14:\n",
        "\n",
        "  if Idade % 2 == 0:\n",
        "    print('Quase um adulto!!! Aproveita !!!!!!!!!!')\n",
        "\n",
        "else:\n",
        "  print('Você é menor de Idade!!! gugudada')"
      ],
      "metadata": {
        "colab": {
          "base_uri": "https://localhost:8080/"
        },
        "id": "yxW4eBrbWqQ_",
        "outputId": "73693014-7fc5-4c09-f8f9-dbb7691fa1da"
      },
      "execution_count": null,
      "outputs": [
        {
          "output_type": "stream",
          "name": "stdout",
          "text": [
            "Quase um adulto!!! Aproveita !!!!!!!!!!\n"
          ]
        }
      ]
    },
    {
      "cell_type": "markdown",
      "source": [
        "# **23º Estrutura de Loop FOR**\n",
        "O loop For do Python é usado para travessia seqüencial, ou seja, é usado para iterar sobre um iterável como string, tupla, lista, etc. Ele se enquadra na categoria de iteração definida . Iterações definidas significam que o número de repetições é especificado explicitamente com antecedência. <p>\n",
        "for variável in objeto:\n",
        "*   loop\n",
        "\n"
      ],
      "metadata": {
        "id": "loDAbkKVFBQo"
      }
    },
    {
      "cell_type": "code",
      "source": [
        "# For [ Loop ]\n",
        "for QualquerCoisaQueVoceQuiser in range(10):\n",
        "  print( QualquerCoisaQueVoceQuiser ** 2  )"
      ],
      "metadata": {
        "id": "wFLN2e5NEBpd",
        "colab": {
          "base_uri": "https://localhost:8080/"
        },
        "outputId": "3c326781-1b8a-4445-aaef-5b313cc0d607"
      },
      "execution_count": null,
      "outputs": [
        {
          "output_type": "stream",
          "name": "stdout",
          "text": [
            "0\n",
            "1\n",
            "4\n",
            "9\n",
            "16\n",
            "25\n",
            "36\n",
            "49\n",
            "64\n",
            "81\n"
          ]
        }
      ]
    },
    {
      "cell_type": "code",
      "source": [
        "# For + Lista\n",
        "\n",
        "Lista_Paises = ['Brasil', 'Argentina', 'Uruguai', 'Chile', 'Paraguai', 'Bolivia', 'Equador',\n",
        "                'Colombia', 'Suriname', 'Guiane', 'Goianai France']\n",
        "\n",
        "for Loop in Lista_Paises:\n",
        "  print( Loop )"
      ],
      "metadata": {
        "colab": {
          "base_uri": "https://localhost:8080/"
        },
        "id": "v2L7juIgWzSi",
        "outputId": "4f126b2f-4829-45f2-8c49-f0ddae92c693"
      },
      "execution_count": null,
      "outputs": [
        {
          "output_type": "stream",
          "name": "stdout",
          "text": [
            "Brasil\n",
            "Argentina\n",
            "Uruguai\n",
            "Chile\n",
            "Paraguai\n",
            "Bolivia\n",
            "Equador\n",
            "Colombia\n",
            "Suriname\n",
            "Guiane\n",
            "Goianai France\n"
          ]
        }
      ]
    },
    {
      "cell_type": "code",
      "source": [
        "# For + Lista\n",
        "Lista_Paises = ['Brasil', 'Argentina', 'Uruguai', 'Chile', 'Paraguai', 'Bolivia',\n",
        "                'Equador', 'Colombia', 'Suriname, Guiane, Goianai France']\n",
        "\n",
        "for Loop in range( len(Lista_Paises) ):\n",
        "  print( Lista_Paises[Loop] )"
      ],
      "metadata": {
        "colab": {
          "base_uri": "https://localhost:8080/"
        },
        "id": "vGrayTvPW7V7",
        "outputId": "507aae6e-051b-4d58-8c9a-8c49174e8ed6"
      },
      "execution_count": null,
      "outputs": [
        {
          "output_type": "stream",
          "name": "stdout",
          "text": [
            "Brasil\n",
            "Argentina\n",
            "Uruguai\n",
            "Chile\n",
            "Paraguai\n",
            "Bolivia\n",
            "Equador\n",
            "Colombia\n",
            "Suriname, Guiane, Goianai France\n"
          ]
        }
      ]
    },
    {
      "cell_type": "code",
      "source": [
        "# For + Lista + IF + enumerate\n",
        "for Posicao, P in enumerate( Lista_Paises ):\n",
        "  print( Posicao / 4 , P )"
      ],
      "metadata": {
        "colab": {
          "base_uri": "https://localhost:8080/"
        },
        "id": "oK3FGvztXCBw",
        "outputId": "76d62c9c-9d30-43ec-edbf-67429cc08c8f"
      },
      "execution_count": null,
      "outputs": [
        {
          "output_type": "stream",
          "name": "stdout",
          "text": [
            "0.0 Brasil\n",
            "0.25 Argentina\n",
            "0.5 Uruguai\n",
            "0.75 Chile\n",
            "1.0 Paraguai\n",
            "1.25 Bolivia\n",
            "1.5 Equador\n",
            "1.75 Colombia\n",
            "2.0 Suriname, Guiane, Goianai France\n"
          ]
        }
      ]
    },
    {
      "cell_type": "code",
      "source": [
        "# for + LISTa + IF + RANGE\n",
        "Lista_Numerica = [ Numero for Numero in range(1, 100, 5) ]\n",
        "Armazenar = []\n",
        "\n",
        "for x in Lista_Numerica:\n",
        "\n",
        "  if x % 2 == 0:\n",
        "    Armazenar.append( x )\n",
        "\n",
        "print( Armazenar )\n",
        "\n",
        "from pandas import DataFrame\n",
        "print( DataFrame(Armazenar) )"
      ],
      "metadata": {
        "colab": {
          "base_uri": "https://localhost:8080/"
        },
        "id": "sSupXTHsXFY8",
        "outputId": "5a06ae62-49dd-4557-c9d3-120fc5991dc1"
      },
      "execution_count": null,
      "outputs": [
        {
          "output_type": "stream",
          "name": "stdout",
          "text": [
            "[6, 16, 26, 36, 46, 56, 66, 76, 86, 96]\n",
            "    0\n",
            "0   6\n",
            "1  16\n",
            "2  26\n",
            "3  36\n",
            "4  46\n",
            "5  56\n",
            "6  66\n",
            "7  76\n",
            "8  86\n",
            "9  96\n"
          ]
        }
      ]
    },
    {
      "cell_type": "code",
      "source": [
        "# For + Lista + Dicionario\n",
        "\n",
        "Lista = [ 'Brasil', 'Argentina', 'Uruaguai', 'Paraguai' ]\n",
        "\n",
        "Dicionario = {\n",
        "    'Brasil' : 'Real',\n",
        "    'Argentina' : 'Peso ARG',\n",
        "    'Uruaguai' : 'Peso URU',\n",
        "    'Paraguai' : 'Guarany'\n",
        "}\n",
        "\n",
        "for Paises in Lista:\n",
        "\n",
        "  if Paises == 'Brasil':\n",
        "    print( f'Moeda do {Paises} é { Dicionario[Paises] }' )\n",
        "    print('Mooeda do', Paises, 'é', Dicionario[Paises] )\n",
        "    print('Mooeda do ' + str (Paises) + ' é ' + str(Dicionario[Paises] ) )\n",
        "  else:\n",
        "    pass"
      ],
      "metadata": {
        "colab": {
          "base_uri": "https://localhost:8080/"
        },
        "id": "n4f3dBYFXIoV",
        "outputId": "13702916-2346-40c9-84ad-b3378f149ab6"
      },
      "execution_count": null,
      "outputs": [
        {
          "output_type": "stream",
          "name": "stdout",
          "text": [
            "Moeda do Brasil é Real\n",
            "Mooeda do Brasil é Real\n",
            "Mooeda do Brasil é Real\n"
          ]
        }
      ]
    },
    {
      "cell_type": "markdown",
      "source": [
        "# **24º Estrutura de Loop WHILE**\n",
        "Python While Loop é usado para executar um bloco de instruções repetidamente até que uma determinada condição seja satisfeita. E quando a condição se torna falsa, a linha imediatamente após o loop no programa é executada. While loop se enquadra na categoria de iteração indefinida . A iteração indefinida significa que o número de vezes que o loop é executado não é especificado explicitamente com antecedência.<p>\n",
        "while expressão:\n",
        "*   loop\n",
        "\n",
        "\n"
      ],
      "metadata": {
        "id": "7FpxhKe9FqbX"
      }
    },
    {
      "cell_type": "code",
      "source": [
        "# While\n",
        "Loop = 0\n",
        "\n",
        "while Loop <= 10:\n",
        "  print( Loop )\n",
        "  Loop += 1"
      ],
      "metadata": {
        "id": "v3CkR4oQGj7J",
        "colab": {
          "base_uri": "https://localhost:8080/"
        },
        "outputId": "4c7bd2fe-0dd7-416f-c0ef-ef3a7f71f6dd"
      },
      "execution_count": null,
      "outputs": [
        {
          "output_type": "stream",
          "name": "stdout",
          "text": [
            "0\n",
            "1\n",
            "2\n",
            "3\n",
            "4\n",
            "5\n",
            "6\n",
            "7\n",
            "8\n",
            "9\n",
            "10\n"
          ]
        }
      ]
    },
    {
      "cell_type": "code",
      "source": [
        "# While\n",
        "Loop = 0\n",
        "\n",
        "while Loop <= 10:\n",
        "  print( Loop )\n",
        "  Loop += 1\n",
        "\n",
        "  if Loop == 5:\n",
        "\n",
        "    for c in range(10):\n",
        "      print(c)"
      ],
      "metadata": {
        "colab": {
          "base_uri": "https://localhost:8080/"
        },
        "id": "TGZGO_WTXMwh",
        "outputId": "eb910bbf-96de-4bb5-d4b3-aa6ef9c119c2"
      },
      "execution_count": null,
      "outputs": [
        {
          "output_type": "stream",
          "name": "stdout",
          "text": [
            "0\n",
            "1\n",
            "2\n",
            "3\n",
            "4\n",
            "0\n",
            "1\n",
            "2\n",
            "3\n",
            "4\n",
            "5\n",
            "6\n",
            "7\n",
            "8\n",
            "9\n",
            "5\n",
            "6\n",
            "7\n",
            "8\n",
            "9\n",
            "10\n"
          ]
        }
      ]
    },
    {
      "cell_type": "code",
      "source": [
        "# While True\n",
        "# Joginho\n",
        "import random\n",
        "\n",
        "while True:\n",
        "\n",
        "  Jogador1 = random.randint(0, 6)\n",
        "  Jogador2 = random.randint(5, 10)\n",
        "\n",
        "  if Jogador1 > Jogador2:\n",
        "    print(Jogador1, '-', Jogador2, 'FINALMENTE !!!!!!!!!!!')\n",
        "    break\n",
        "\n",
        "  else:\n",
        "    print(Jogador1, '-', Jogador2)"
      ],
      "metadata": {
        "colab": {
          "base_uri": "https://localhost:8080/"
        },
        "id": "L94HlSMBXMzM",
        "outputId": "f3d96a84-3d31-4984-d56f-88eb26266904"
      },
      "execution_count": null,
      "outputs": [
        {
          "output_type": "stream",
          "name": "stdout",
          "text": [
            "5 - 10\n",
            "6 - 8\n",
            "6 - 10\n",
            "3 - 9\n",
            "5 - 5\n",
            "4 - 10\n",
            "4 - 6\n",
            "6 - 7\n",
            "3 - 10\n",
            "3 - 5\n",
            "5 - 6\n",
            "2 - 9\n",
            "5 - 6\n",
            "6 - 6\n",
            "2 - 9\n",
            "0 - 7\n",
            "2 - 6\n",
            "0 - 5\n",
            "1 - 9\n",
            "1 - 10\n",
            "5 - 10\n",
            "3 - 10\n",
            "5 - 5\n",
            "5 - 5\n",
            "2 - 8\n",
            "2 - 5\n",
            "2 - 7\n",
            "4 - 5\n",
            "4 - 8\n",
            "1 - 10\n",
            "4 - 7\n",
            "6 - 8\n",
            "3 - 7\n",
            "6 - 8\n",
            "1 - 10\n",
            "2 - 7\n",
            "0 - 8\n",
            "3 - 8\n",
            "0 - 8\n",
            "2 - 9\n",
            "2 - 5\n",
            "5 - 8\n",
            "4 - 10\n",
            "1 - 5\n",
            "0 - 7\n",
            "4 - 6\n",
            "0 - 7\n",
            "5 - 10\n",
            "4 - 8\n",
            "4 - 8\n",
            "4 - 5\n",
            "6 - 9\n",
            "0 - 8\n",
            "5 - 7\n",
            "2 - 9\n",
            "6 - 5 FINALMENTE !!!!!!!!!!!\n"
          ]
        }
      ]
    },
    {
      "cell_type": "markdown",
      "source": [
        "# **25º Estrutura de Quebra BREAK e CONTINUE**\n",
        "O uso de loops no Python automatiza e repete as tarefas de maneira eficiente. Mas, às vezes, pode surgir uma condição em que você deseja sair completamente do loop, pular uma iteração ou ignorar essa condição. Isso pode ser feito por instruções de controle de loop . As instruções de controle de loop alteram a execução de sua sequência normal. Quando a execução sai de um escopo, todos os objetos automáticos que foram criados nesse escopo são destruídos. Python suporta as seguintes instruções de controle."
      ],
      "metadata": {
        "id": "noodylU2GVbI"
      }
    },
    {
      "cell_type": "code",
      "source": [
        "# For + Lista + IF + Break\n",
        "Lista_Paises = ['Brasil', 'Argentina', 'Uruguai', 'Chile', 'Paraguai', 'Bolivia',\n",
        "                'Equador', 'Colombia', 'Suriname, Guiane, Goianai France']\n",
        "Loop = 0\n",
        "\n",
        "for P in Lista_Paises:\n",
        "\n",
        "  if P == 'Chile':\n",
        "    print('Chegou')\n",
        "    break\n",
        "\n",
        "  else:\n",
        "    pass\n",
        "\n",
        "  Loop += 1\n",
        "  print( Loop )"
      ],
      "metadata": {
        "id": "MqjsMqmCF00z",
        "colab": {
          "base_uri": "https://localhost:8080/"
        },
        "outputId": "3077967c-cdc6-4894-e51a-63968d2518bf"
      },
      "execution_count": null,
      "outputs": [
        {
          "output_type": "stream",
          "name": "stdout",
          "text": [
            "1\n",
            "2\n",
            "3\n",
            "Chegou\n"
          ]
        }
      ]
    },
    {
      "cell_type": "code",
      "source": [
        "# While\n",
        "Loop = 0\n",
        "\n",
        "while Loop <= 10:\n",
        "  print( Loop )\n",
        "  Loop += 1\n",
        "\n",
        "  if Loop == 5:\n",
        "\n",
        "    for c in range(10):\n",
        "      print(c)\n",
        "\n",
        "    break"
      ],
      "metadata": {
        "id": "uo-bnZ7YXPBz",
        "colab": {
          "base_uri": "https://localhost:8080/"
        },
        "outputId": "5dc185d1-fb08-495c-8aa1-53c8b67d2040"
      },
      "execution_count": null,
      "outputs": [
        {
          "output_type": "stream",
          "name": "stdout",
          "text": [
            "0\n",
            "1\n",
            "2\n",
            "3\n",
            "4\n",
            "0\n",
            "1\n",
            "2\n",
            "3\n",
            "4\n",
            "5\n",
            "6\n",
            "7\n",
            "8\n",
            "9\n"
          ]
        }
      ]
    },
    {
      "cell_type": "code",
      "source": [
        "# Loop de 1 a 10\n",
        "for i in range(1, 11):\n",
        "\n",
        "    # If i is equals to 6,\n",
        "    # continue to next iteration\n",
        "    # without printing\n",
        "    if i == 5:\n",
        "      continue\n",
        "      print(f'{i}º interação --> Estou no IF')\n",
        "\n",
        "    else:\n",
        "        # otherwise print the value\n",
        "        # of i\n",
        "        print(f'{i}º Continue continua sempre!!!!')\n",
        "        #print(i)"
      ],
      "metadata": {
        "colab": {
          "base_uri": "https://localhost:8080/"
        },
        "id": "g-Q3loRuaCAS",
        "outputId": "53ead85b-a54d-497d-811f-43f0b4dd3f5b"
      },
      "execution_count": null,
      "outputs": [
        {
          "output_type": "stream",
          "name": "stdout",
          "text": [
            "1º Continue continua sempre!!!!\n",
            "2º Continue continua sempre!!!!\n",
            "3º Continue continua sempre!!!!\n",
            "4º Continue continua sempre!!!!\n",
            "6º Continue continua sempre!!!!\n",
            "7º Continue continua sempre!!!!\n",
            "8º Continue continua sempre!!!!\n",
            "9º Continue continua sempre!!!!\n",
            "10º Continue continua sempre!!!!\n"
          ]
        }
      ]
    },
    {
      "cell_type": "markdown",
      "source": [
        "# **26º Estrutura de Funções**\n",
        "Uma função é um bloco de código que só é executado quando é chamado.<p>\n",
        "Você pode passar dados, conhecidos como parâmetros, para uma função.<p>\n",
        "Uma função pode retornar dados como resultado.\n",
        "\n"
      ],
      "metadata": {
        "id": "R_Am7FRBOnUC"
      }
    },
    {
      "cell_type": "code",
      "source": [
        "# Funções simples\n",
        "def Somar(Valor1, Valor2):\n",
        "  Soma = Valor1 + Valor2\n",
        "  print(Soma)\n",
        "\n",
        "Somar(-67.900, 10.121233)"
      ],
      "metadata": {
        "id": "8GZLV-nCOusD",
        "colab": {
          "base_uri": "https://localhost:8080/"
        },
        "outputId": "5c3d5bfc-4552-402e-e18c-672e82b76ae7"
      },
      "execution_count": null,
      "outputs": [
        {
          "output_type": "stream",
          "name": "stdout",
          "text": [
            "-57.778767\n"
          ]
        }
      ]
    },
    {
      "cell_type": "code",
      "source": [
        "def Boas_Vindas():\n",
        "  print('********* PYTHON **************')\n",
        "\n",
        "Boas_Vindas()"
      ],
      "metadata": {
        "colab": {
          "base_uri": "https://localhost:8080/"
        },
        "id": "D15f-hGRXTyb",
        "outputId": "aa4003df-d315-4b0d-8201-5d1adb1864d3"
      },
      "execution_count": null,
      "outputs": [
        {
          "output_type": "stream",
          "name": "stdout",
          "text": [
            "********* PYTHON **************\n"
          ]
        }
      ]
    },
    {
      "cell_type": "code",
      "source": [
        "from random import randint\n",
        "# Função\n",
        "def Sobrenome( Algum_Texto, Numero ):\n",
        "  print(f'Nome dele é: {Algum_Texto}')\n",
        "\n",
        "  if Numero >= 10:\n",
        "    print('Maior que 10')\n",
        "  else:\n",
        "    print('NADA!')\n",
        "\n",
        "Lista_Nomes = ['Odemir', 'Luigi', 'Mariana']\n",
        "\n",
        "for Nome in Lista_Nomes:\n",
        "  Sobrenome( Nome, randint(1,12) )"
      ],
      "metadata": {
        "colab": {
          "base_uri": "https://localhost:8080/"
        },
        "id": "ZCo_VY__XWV3",
        "outputId": "9320143e-4ac0-42e5-8324-ce235289d84c"
      },
      "execution_count": null,
      "outputs": [
        {
          "output_type": "stream",
          "name": "stdout",
          "text": [
            "Nome dele é: Odemir\n",
            "NADA!\n",
            "Nome dele é: Luigi\n",
            "NADA!\n",
            "Nome dele é: Mariana\n",
            "NADA!\n"
          ]
        }
      ]
    },
    {
      "cell_type": "markdown",
      "source": [
        "# **27º Estrutura Lambda**\n",
        "Uma função lambda é uma pequena função anônima.<p>\n",
        "Uma função lambda pode receber qualquer número de argumentos, mas pode ter apenas uma expressão."
      ],
      "metadata": {
        "id": "fvEKA7fPOvIY"
      }
    },
    {
      "cell_type": "code",
      "source": [
        "# Função\n",
        "Funcao = lambda valor: valor + 10\n",
        "print( Funcao( 10 ) )\n",
        "\n",
        "Funcao_02 = lambda valor1, valor2 : valor1 + valor2\n",
        "print( Funcao_02( 100 , 100 ) )"
      ],
      "metadata": {
        "id": "hoEbekXhOxwZ",
        "colab": {
          "base_uri": "https://localhost:8080/"
        },
        "outputId": "aef9bfff-f2a9-4912-ffb4-3b25d31e604c"
      },
      "execution_count": null,
      "outputs": [
        {
          "output_type": "stream",
          "name": "stdout",
          "text": [
            "20\n",
            "200\n"
          ]
        }
      ]
    },
    {
      "cell_type": "code",
      "source": [
        "# Função Lambda\n",
        "Nao_Faxa_isso = lambda Qualquer_Valor: 'Verdadeiro' if Qualquer_Valor % 2 == 0 else 'Falso'\n",
        "#Nao_Faxa_isso = lambda x: True if x % 2 == 0 else Falso\n",
        "Nao_Faxa_isso( 100 )"
      ],
      "metadata": {
        "colab": {
          "base_uri": "https://localhost:8080/",
          "height": 35
        },
        "id": "xolelYKrXcX5",
        "outputId": "46695b9e-393f-43db-99b3-cc3c70b2082e"
      },
      "execution_count": null,
      "outputs": [
        {
          "output_type": "execute_result",
          "data": {
            "text/plain": [
              "'Verdadeiro'"
            ],
            "application/vnd.google.colaboratory.intrinsic+json": {
              "type": "string"
            }
          },
          "metadata": {},
          "execution_count": 42
        }
      ]
    },
    {
      "cell_type": "markdown",
      "source": [
        "# **28º Estrutura TRY**\n",
        "O **try** permite testar um bloco de código quanto a erros.<p>\n",
        "O **except** permite que você lide com o erro.<p>\n",
        "O **else** permite executar código quando não há erro. <p>\n",
        "O **finally** permite que você execute código, independentemente do resultado dos blocos try e except. <p>\n",
        "\n"
      ],
      "metadata": {
        "id": "Hs9bCzzEO188"
      }
    },
    {
      "cell_type": "code",
      "source": [
        "#\n",
        "try:\n",
        "  0 / 0\n",
        "except:\n",
        "  print('Deu Ruim!!!')"
      ],
      "metadata": {
        "id": "xyxiQY6oO4pP",
        "colab": {
          "base_uri": "https://localhost:8080/"
        },
        "outputId": "5bc55737-6f14-4670-f179-c477fad9ec5d"
      },
      "execution_count": null,
      "outputs": [
        {
          "output_type": "stream",
          "name": "stdout",
          "text": [
            "Deu Ruim!!!\n"
          ]
        }
      ]
    },
    {
      "cell_type": "code",
      "source": [
        "\n",
        "try:\n",
        "  print(Algo_Coisa_Que_Nao_Defini)\n",
        "\n",
        "except NameError:\n",
        "  print(\"Ops deu algum erro!\")\n",
        "\n",
        "finally:\n",
        "  print(\"Vou ser executado de qualquer forma\")"
      ],
      "metadata": {
        "colab": {
          "base_uri": "https://localhost:8080/"
        },
        "id": "2SgAKDxBa6q6",
        "outputId": "9905e9ad-7d6e-4b62-d8f1-52b062b56529"
      },
      "execution_count": null,
      "outputs": [
        {
          "output_type": "stream",
          "name": "stdout",
          "text": [
            "Ops deu algum erro!\n",
            "Vou ser executado de qualquer forma\n"
          ]
        }
      ]
    },
    {
      "cell_type": "markdown",
      "source": [
        "# 29° Estrutura de Classes/Objetos\n",
        "Python é uma linguagem de programação orientada a objetos.<p>\n",
        "Quase tudo em Python é um objeto, com suas propriedades e métodos.<p>\n",
        "Uma classe é como um construtor de objetos, ou um \"projeto\" para criar objetos."
      ],
      "metadata": {
        "id": "JwEWcdRfPFyA"
      }
    },
    {
      "cell_type": "code",
      "source": [
        "class Pessoa:\n",
        "\n",
        "  # Metodo Construtor\n",
        "  def __init__(self, Nome, Idade):\n",
        "    self.Nome = Nome\n",
        "    self.Idade = Idade\n",
        "\n",
        "  def Boas_Vindas(self):\n",
        "    print('Olá sem benvindo: ', self.Nome)\n",
        "\n",
        "  def Recusado(self):\n",
        "    print('Seu acesso foi recusado!')\n",
        "\n",
        "  # Função\n",
        "  def Maior_Idade(self):\n",
        "    if self.Idade >= 18:\n",
        "      print('Usuário é maior de idade')\n",
        "      self.Boas_Vindas()\n",
        "    else:\n",
        "      print('Usuário é menor de Idade')\n",
        "      self.Recusado()"
      ],
      "metadata": {
        "id": "cfN8jl6ZhAI9"
      },
      "execution_count": null,
      "outputs": []
    },
    {
      "cell_type": "code",
      "source": [
        "Dados = Pessoa('Odemir', 12)"
      ],
      "metadata": {
        "id": "HIZOScMkhB0m"
      },
      "execution_count": null,
      "outputs": []
    },
    {
      "cell_type": "code",
      "source": [
        "Dados.Maior_Idade()"
      ],
      "metadata": {
        "colab": {
          "base_uri": "https://localhost:8080/"
        },
        "id": "2a8OFXZghB3D",
        "outputId": "3f4f6772-86e5-4884-d2d2-0cdb6f1b0f18"
      },
      "execution_count": null,
      "outputs": [
        {
          "output_type": "stream",
          "name": "stdout",
          "text": [
            "Usuário é menor de Idade\n",
            "Seu acesso foi recusado!\n"
          ]
        }
      ]
    },
    {
      "cell_type": "markdown",
      "source": [
        "# **30º Módulos/Pacotes**\n",
        "Considere um módulo como sendo o mesmo que uma biblioteca de código.<p>\n",
        "Para instalar um pacote utilize o 'pip install'"
      ],
      "metadata": {
        "id": "XtIq1njAfzDg"
      }
    },
    {
      "cell_type": "code",
      "source": [
        "import time\n",
        "import datetime"
      ],
      "metadata": {
        "id": "r9T5J89bkZWp"
      },
      "execution_count": null,
      "outputs": []
    },
    {
      "cell_type": "code",
      "source": [
        "# !pip install pandas\n",
        "!pip install pandas"
      ],
      "metadata": {
        "colab": {
          "base_uri": "https://localhost:8080/"
        },
        "id": "43IwL9uIktw7",
        "outputId": "8ad11958-a35b-473c-9622-3a4806ab5a01"
      },
      "execution_count": null,
      "outputs": [
        {
          "output_type": "stream",
          "name": "stdout",
          "text": [
            "Requirement already satisfied: pandas in /usr/local/lib/python3.7/dist-packages (1.3.5)\n",
            "Requirement already satisfied: numpy>=1.17.3 in /usr/local/lib/python3.7/dist-packages (from pandas) (1.21.5)\n",
            "Requirement already satisfied: pytz>=2017.3 in /usr/local/lib/python3.7/dist-packages (from pandas) (2018.9)\n",
            "Requirement already satisfied: python-dateutil>=2.7.3 in /usr/local/lib/python3.7/dist-packages (from pandas) (2.8.2)\n",
            "Requirement already satisfied: six>=1.5 in /usr/local/lib/python3.7/dist-packages (from python-dateutil>=2.7.3->pandas) (1.15.0)\n"
          ]
        }
      ]
    },
    {
      "cell_type": "markdown",
      "source": [
        "# **31° Print formatado**\n",
        "Existe diversas formas de utilizar prints no python"
      ],
      "metadata": {
        "id": "8PCXIVOMlHCQ"
      }
    },
    {
      "cell_type": "code",
      "source": [
        "print('Soma de 2 + 2 é:', 2 + 2 )"
      ],
      "metadata": {
        "colab": {
          "base_uri": "https://localhost:8080/"
        },
        "id": "rLs1tqm-lcbt",
        "outputId": "b1bd2631-8ee1-4fc7-ade9-e6656def74e0"
      },
      "execution_count": null,
      "outputs": [
        {
          "output_type": "stream",
          "name": "stdout",
          "text": [
            "Soma de 2 + 2 é: 4\n"
          ]
        }
      ]
    },
    {
      "cell_type": "code",
      "source": [
        "print( f'Soma de 2 + 2 é: { round(2 + 2) }' )"
      ],
      "metadata": {
        "colab": {
          "base_uri": "https://localhost:8080/"
        },
        "id": "bgr2MXLLlpcD",
        "outputId": "6382995f-18e5-428a-a54a-f7ea722c464d"
      },
      "execution_count": null,
      "outputs": [
        {
          "output_type": "stream",
          "name": "stdout",
          "text": [
            "Soma de 2 + 2 é: 4\n"
          ]
        }
      ]
    },
    {
      "cell_type": "code",
      "source": [
        "print('Soma de 2 + 2 é: {}'.format(2+2) )"
      ],
      "metadata": {
        "colab": {
          "base_uri": "https://localhost:8080/"
        },
        "id": "BceEEtaslxt5",
        "outputId": "38f11b5f-6f18-49a7-ed9d-6341c3c341aa"
      },
      "execution_count": null,
      "outputs": [
        {
          "output_type": "stream",
          "name": "stdout",
          "text": [
            "Soma de 2 + 2 é: 4\n"
          ]
        }
      ]
    },
    {
      "cell_type": "markdown",
      "source": [
        "# **Exercicios de Python para resolver!**"
      ],
      "metadata": {
        "id": "cZ7X0J1b44DG"
      }
    },
    {
      "cell_type": "markdown",
      "source": [
        "### 1ª Exercício ###"
      ],
      "metadata": {
        "id": "bFIWQywe5Bhx"
      }
    },
    {
      "cell_type": "markdown",
      "source": [
        "Escreva um programa que mostre a mensagem 'Hello World!' na tela."
      ],
      "metadata": {
        "id": "Y3h6KM-25lZn"
      }
    },
    {
      "cell_type": "code",
      "source": [
        "print('Hello World!')"
      ],
      "metadata": {
        "colab": {
          "base_uri": "https://localhost:8080/"
        },
        "id": "i4CaCu8n5Hsd",
        "outputId": "61c177f5-021b-400d-c443-6322ddd1d7da"
      },
      "execution_count": null,
      "outputs": [
        {
          "output_type": "stream",
          "name": "stdout",
          "text": [
            "Hello World!\n"
          ]
        }
      ]
    },
    {
      "cell_type": "markdown",
      "source": [
        "### 2ª Exercício ###"
      ],
      "metadata": {
        "id": "dkIMI02o5XAW"
      }
    },
    {
      "cell_type": "markdown",
      "source": [
        "Faça um programa que solicite um número do usuário e apresente a seguinte mensagem na tela:\n",
        "\n",
        "\"O número digitado foi [número]\"."
      ],
      "metadata": {
        "id": "v-JbFE_K5qK-"
      }
    },
    {
      "cell_type": "code",
      "source": [
        "num = input('Digite um número: ')\n",
        "print(f'O número digitado foi {num}')\n",
        "\n",
        "#Solução 2\n",
        "num = float(input('Digite um número: '))\n",
        "print(f'O número digitado foi {num}')"
      ],
      "metadata": {
        "colab": {
          "base_uri": "https://localhost:8080/"
        },
        "id": "7e0m_1Ff5rib",
        "outputId": "1d690187-aa86-4dab-d98e-bde2ab7d6c7c"
      },
      "execution_count": null,
      "outputs": [
        {
          "output_type": "stream",
          "name": "stdout",
          "text": [
            "Digite um número: 1\n",
            "O número digitado foi 1\n",
            "Digite um número: 2\n",
            "O número digitado foi 2.0\n"
          ]
        }
      ]
    },
    {
      "cell_type": "markdown",
      "source": [
        "### 3ª Exercício ###"
      ],
      "metadata": {
        "id": "EBWSq9it5YEE"
      }
    },
    {
      "cell_type": "markdown",
      "source": [
        "Escreva um programa que solicite o nome e o sobrenome do usuário. Ao final o programa deverá apresentar o nome completo do usuário na tela."
      ],
      "metadata": {
        "id": "qd3BEk2853qM"
      }
    },
    {
      "cell_type": "code",
      "source": [
        "nome=input('Digite seu primeiro nome: ').strip().title()\n",
        "sobrenome=input('Digite seu sobrenome: ').strip().title()\n",
        "print(f'{nome} {sobrenome}')"
      ],
      "metadata": {
        "colab": {
          "base_uri": "https://localhost:8080/"
        },
        "id": "OVBM-GUY576P",
        "outputId": "bd766989-79ea-4d01-b221-d212d33c6b97"
      },
      "execution_count": null,
      "outputs": [
        {
          "output_type": "stream",
          "name": "stdout",
          "text": [
            "Digite seu primeiro nome: Odemir\n",
            "Digite seu sobrenome: Depieri\n",
            "Odemir Depieri\n"
          ]
        }
      ]
    },
    {
      "cell_type": "markdown",
      "source": [
        "### 4ª Exercício ###"
      ],
      "metadata": {
        "id": "O6yY5ols5ZIM"
      }
    },
    {
      "cell_type": "markdown",
      "source": [
        "Faça um programa que solicite três números inteiros do usuário e imprima a soma destes."
      ],
      "metadata": {
        "id": "YH9vMn1-5_kj"
      }
    },
    {
      "cell_type": "code",
      "source": [
        "num1=int(input('Número 1: '))\n",
        "num2=int(input('Número 2: '))\n",
        "num3=int(input('Número 3: '))\n",
        "print(f'{num1}+{num2}+{num3}={num1+num2+num3}')"
      ],
      "metadata": {
        "colab": {
          "base_uri": "https://localhost:8080/"
        },
        "id": "NcRUNlUY59o2",
        "outputId": "9d8c6ac9-c68a-4233-a996-8fdaf1734a37"
      },
      "execution_count": null,
      "outputs": [
        {
          "output_type": "stream",
          "name": "stdout",
          "text": [
            "Número 1: 2\n",
            "Número 2: 3\n",
            "Número 3: 4\n",
            "2+3+4=9\n"
          ]
        }
      ]
    },
    {
      "cell_type": "markdown",
      "source": [
        "### 5ª Exercício ###"
      ],
      "metadata": {
        "id": "bl5eoY2l5aXE"
      }
    },
    {
      "cell_type": "markdown",
      "source": [
        "Escreva um programa que solicite duas notas do usuário e apresente a média na tela da seguinte forma:\n",
        "\n",
        "\"A média das notas [nota1] e [nota2] é [média]\""
      ],
      "metadata": {
        "id": "QEpJWepq6B0o"
      }
    },
    {
      "cell_type": "code",
      "source": [
        "nota1=float(input('Nota 1: \\n'))\n",
        "nota2=float(input('Nota 2: \\n'))\n",
        "media=(nota1+nota2)/2\n",
        "print(f'A média das notas {nota1} e {nota2} é {media}')"
      ],
      "metadata": {
        "colab": {
          "base_uri": "https://localhost:8080/"
        },
        "id": "6hO9lsBM6E41",
        "outputId": "33e3dc43-791a-470b-a6e8-60a2b6f13051"
      },
      "execution_count": null,
      "outputs": [
        {
          "output_type": "stream",
          "name": "stdout",
          "text": [
            "Nota 1: \n",
            "2\n",
            "Nota 2: \n",
            "2\n",
            "A média das notas 2.0 e 2.0 é 2.0\n"
          ]
        }
      ]
    },
    {
      "cell_type": "markdown",
      "source": [
        "### 6ª Exercício ###"
      ],
      "metadata": {
        "id": "-Tf7kr5E5b8K"
      }
    },
    {
      "cell_type": "markdown",
      "source": [
        "Faça um programa que calcule a raiz quadrada de um número. O usuário deve inserir um número e o programa deve mostrar na tela o resultado da raiz quadrada do número inserido."
      ],
      "metadata": {
        "id": "E8M6ce3o6HBW"
      }
    },
    {
      "cell_type": "code",
      "source": [
        "num=float(input('Digite um número: '))\n",
        "print(f'A raiz quadrada de {num} é {num**(1/2)}')"
      ],
      "metadata": {
        "colab": {
          "base_uri": "https://localhost:8080/"
        },
        "id": "EcPA1l4r6I31",
        "outputId": "edb41a5d-e3b9-48af-c689-ec95c5f8fcfd"
      },
      "execution_count": null,
      "outputs": [
        {
          "output_type": "stream",
          "name": "stdout",
          "text": [
            "Digite um número: 2\n",
            "A raiz quadrada de 2.0 é 1.4142135623730951\n"
          ]
        }
      ]
    },
    {
      "cell_type": "markdown",
      "source": [
        "### 7ª Exercício ###"
      ],
      "metadata": {
        "id": "TTPduAb85dDe"
      }
    },
    {
      "cell_type": "markdown",
      "source": [
        "Faça um programa que peça 5 números de ponto flutuante do usuário e apresente no final a média dos números digitados."
      ],
      "metadata": {
        "id": "6gSqyUGj6QaU"
      }
    },
    {
      "cell_type": "code",
      "source": [
        "num1=float(input('Número 1: '))\n",
        "num2=float(input('Número 2: '))\n",
        "num3=float(input('Número 3: '))\n",
        "num4=float(input('Número 4: '))\n",
        "num5=float(input('Número 5: '))\n",
        "media=(num1+num2+num3+num4+num5)/5\n",
        "print(f'Média: {media}')"
      ],
      "metadata": {
        "colab": {
          "base_uri": "https://localhost:8080/"
        },
        "id": "w5nOCd3j6ThK",
        "outputId": "152d26fb-bf56-4798-f452-2a2bb4cb36e2"
      },
      "execution_count": null,
      "outputs": [
        {
          "output_type": "stream",
          "name": "stdout",
          "text": [
            "Número 1: 1\n",
            "Número 2: 2\n",
            "Número 3: 3\n",
            "Número 4: 4\n",
            "Número 5: 5\n",
            "Média: 3.0\n"
          ]
        }
      ]
    },
    {
      "cell_type": "markdown",
      "source": [
        "### 8ª Exercício ###"
      ],
      "metadata": {
        "id": "XH-7jy1h5eZa"
      }
    },
    {
      "cell_type": "markdown",
      "source": [
        "Escreva um programa que faça a conversão de um dado valor de metro para quilômetro."
      ],
      "metadata": {
        "id": "3yy-d7ts6Xod"
      }
    },
    {
      "cell_type": "code",
      "source": [
        "num=float(input('Digite um valor em metros: '))\n",
        "print(f'{num} metros equivale a {num/1000} km')"
      ],
      "metadata": {
        "colab": {
          "base_uri": "https://localhost:8080/"
        },
        "id": "X_vsGEM56ZXB",
        "outputId": "8574fa30-91ab-4c7f-ca9e-f2210144397a"
      },
      "execution_count": null,
      "outputs": [
        {
          "output_type": "stream",
          "name": "stdout",
          "text": [
            "Digite um valor em metros: 100\n",
            "100.0 metros equivale a 0.1 km\n"
          ]
        }
      ]
    },
    {
      "cell_type": "markdown",
      "source": [
        "### 9ª Exercício ###"
      ],
      "metadata": {
        "id": "m-pQa4YH5fcp"
      }
    },
    {
      "cell_type": "markdown",
      "source": [
        "Escreva um programa que calcule a área de uma circunferência. O usuário deve digitar o valor do raio e ao final o programa deverá mostrar na tela a área da circunferência.\n",
        "\n",
        "Use a fórmula: área=pi*r² , em que pi é uma constante e r o raio da circunferência.\n",
        "\n",
        "Dica: você pode usar a biblioteca math para pegar a constante pi."
      ],
      "metadata": {
        "id": "HceugCJR6coJ"
      }
    },
    {
      "cell_type": "code",
      "source": [
        "from math import pi\n",
        "raio=float(input('Digite o valor do raio da circunferência: '))\n",
        "print(f'Área da circunferência: {pi*raio**2:.2f}')"
      ],
      "metadata": {
        "colab": {
          "base_uri": "https://localhost:8080/"
        },
        "id": "23dQUAN06eoj",
        "outputId": "ad52ac08-9233-48cd-c5b5-14dd901a4ea1"
      },
      "execution_count": null,
      "outputs": [
        {
          "output_type": "stream",
          "name": "stdout",
          "text": [
            "Digite o valor do raio da circunferência: 2\n",
            "Área da circunferência: 12.57\n"
          ]
        }
      ]
    },
    {
      "cell_type": "markdown",
      "source": [
        "### 10ª Exercício ###"
      ],
      "metadata": {
        "id": "HakF7PY_5g4V"
      }
    },
    {
      "cell_type": "markdown",
      "source": [
        "Faça um programa que peça uma temperatura em Fahrenheit (F) e converta esta temperatura para grau Celsius (C), mostrando o resultado da conversão na tela.\n",
        "\n",
        "Use a fórmula: C = 5 * ((F-32) / 9)."
      ],
      "metadata": {
        "id": "F8loj0no6hNN"
      }
    },
    {
      "cell_type": "code",
      "source": [
        "f=float(input('Temperatura em Fahrenheit: \\n'))\n",
        "c=5*((f-32)/9)\n",
        "print(f'{f:.2f}° F equivale a {c:.2f}° C .')"
      ],
      "metadata": {
        "colab": {
          "base_uri": "https://localhost:8080/"
        },
        "id": "VCRO-SV86mQl",
        "outputId": "a34bb8d9-aedf-461c-f01e-d013547fa60d"
      },
      "execution_count": null,
      "outputs": [
        {
          "output_type": "stream",
          "name": "stdout",
          "text": [
            "Temperatura em Fahrenheit: \n",
            "10\n",
            "10.00° F equivale a -12.22° C .\n"
          ]
        }
      ]
    },
    {
      "cell_type": "markdown",
      "source": [
        "### 11ª Exercício ###"
      ],
      "metadata": {
        "id": "ZoYmgRIH60iX"
      }
    },
    {
      "cell_type": "markdown",
      "source": [
        "Escreva um programa que peça dois números e apresente a divisão e multiplicação entre eles. A tela de apresentação deverá seguir o seguinte formato:\n",
        "\n",
        "\"[número1]x[número2]=[multiplicação]\"\n",
        "\n",
        "\"[número1]/[número2]=[divisão]\""
      ],
      "metadata": {
        "id": "zwUeJn_q7DN_"
      }
    },
    {
      "cell_type": "code",
      "source": [
        "num1=float(input('Número 1: '))\n",
        "num2=float(input('Número 2: '))\n",
        "print(f'{num1}x{num2}={num1*num2}')\n",
        "print(f'{num1}/{num2}={num1/num2}')"
      ],
      "metadata": {
        "colab": {
          "base_uri": "https://localhost:8080/"
        },
        "id": "df3-rNq97Fik",
        "outputId": "4ab5f3ce-30ec-486c-daff-14c203e24f2d"
      },
      "execution_count": null,
      "outputs": [
        {
          "output_type": "stream",
          "name": "stdout",
          "text": [
            "Número 1: 2\n",
            "Número 2: 2\n",
            "2.0x2.0=4.0\n",
            "2.0/2.0=1.0\n"
          ]
        }
      ]
    },
    {
      "cell_type": "markdown",
      "source": [
        "### 12ª Exercício ###"
      ],
      "metadata": {
        "id": "PzGu6Bi661j7"
      }
    },
    {
      "cell_type": "markdown",
      "source": [
        "Escreva um programa que receba o nome, sobrenome e idade do usuário e apresente a seguinte mensagem na tela:\n",
        "\n",
        "\"Seja bem-vindo [nome] [sobrenome].\"\n",
        "\n",
        "\"Você possui [idade] anos de idade.\"\n",
        "\n",
        "\n",
        "\n",
        "No campo nome e sobrenome utilize os métodos strip() e title(). Lembre-se que o primeiro método permite remover os espaços antes e depois da string, enquanto que o último permite colocar a string no formato titlecased (capitaliza a string)."
      ],
      "metadata": {
        "id": "mNyWxqDQ7JJ4"
      }
    },
    {
      "cell_type": "code",
      "source": [
        "nome=input('Nome: ')\n",
        "sobrenome=input('Sobrenome: ')\n",
        "idade=int(input('Idade: '))\n",
        "print(f'Seja bem-vindo {nome.strip().title()} {sobrenome.strip().title()}')\n",
        "print(f'Você possui {idade} anos de idade.')"
      ],
      "metadata": {
        "colab": {
          "base_uri": "https://localhost:8080/"
        },
        "id": "__79vB3Y7LVp",
        "outputId": "a1e584be-8115-4c57-f582-443b74c56767"
      },
      "execution_count": null,
      "outputs": [
        {
          "output_type": "stream",
          "name": "stdout",
          "text": [
            "Nome: Odemir\n",
            "Sobrenome: Depieri\n",
            "Idade: 30\n",
            "Seja bem-vindo Odemir Depieri\n",
            "Você possui 30 anos de idade.\n"
          ]
        }
      ]
    },
    {
      "cell_type": "markdown",
      "source": [
        "### 13ª Exercício ###"
      ],
      "metadata": {
        "id": "R_z7Flny611E"
      }
    },
    {
      "cell_type": "markdown",
      "source": [
        "Escreva um programa que peça um número do usuário via método input e converta esse número para o formato float."
      ],
      "metadata": {
        "id": "21THujyZ7P7B"
      }
    },
    {
      "cell_type": "code",
      "source": [
        "num=input('Digite um número:: ')\n",
        "num=float(num)\n",
        "print(type(num))"
      ],
      "metadata": {
        "colab": {
          "base_uri": "https://localhost:8080/"
        },
        "id": "hBpthFE77R1q",
        "outputId": "a47b8aa6-7e7b-4799-c115-e29da33e6a2e"
      },
      "execution_count": null,
      "outputs": [
        {
          "output_type": "stream",
          "name": "stdout",
          "text": [
            "Digite um número:: 12\n",
            "<class 'float'>\n"
          ]
        }
      ]
    },
    {
      "cell_type": "markdown",
      "source": [
        "### 14ª Exercício ###"
      ],
      "metadata": {
        "id": "CUW_v5JP62JH"
      }
    },
    {
      "cell_type": "markdown",
      "source": [
        "Escreva um programa que peça o nome e a idade do usuário. Caso a idade do usuário seja maior ou igual a 18 anos apresente a seguinte mensagem: \"Seja bem-vindo ao nosso site [nome]!\"; caso contrário, apresente a seguinte mensagem: \"Você não pode acessar nosso site [nome].\"."
      ],
      "metadata": {
        "id": "yCXsa1Aw7U0X"
      }
    },
    {
      "cell_type": "code",
      "source": [
        "nome=input('Digite seu nome: ')\n",
        "idade=int(input('Digite sua idade: '))\n",
        "if idade>=18:\n",
        "    print(f'Seja bem-vindo ao nosso site {nome.strip().title()}.')\n",
        "else:\n",
        "    print(f'Você não pode acessar nosso site {nome.strip().title()}.')"
      ],
      "metadata": {
        "colab": {
          "base_uri": "https://localhost:8080/"
        },
        "id": "HnNIO4D-7WgL",
        "outputId": "48e548a2-068c-4252-e1f7-1f1abe4eb9b9"
      },
      "execution_count": null,
      "outputs": [
        {
          "output_type": "stream",
          "name": "stdout",
          "text": [
            "Digite seu nome: Odemir\n",
            "Digite sua idade: 12\n",
            "Você não pode acessar nosso site Odemir.\n"
          ]
        }
      ]
    },
    {
      "cell_type": "markdown",
      "source": [
        "### 15ª Exercício ###"
      ],
      "metadata": {
        "id": "85sBJYb462WK"
      }
    },
    {
      "cell_type": "markdown",
      "source": [
        "Elabore um programa para calcular a hipotenusa de um triângulo.\n",
        "\n",
        "Dicas:\n",
        "\n",
        "Veja o módulo math (math.hypot) <p>\n",
        "Utilize a seguinte fórmula: hipotenusa=(a²+b²)¹/2:"
      ],
      "metadata": {
        "id": "gBh5KGtP7aBo"
      }
    },
    {
      "cell_type": "code",
      "source": [
        "from math import hypot\n",
        "\n",
        "cateto_a=float(input('Digite o Cateto Adjacente: '))\n",
        "cateto_o=float(input('Digite o Cateto Oposto: '))\n",
        "\n",
        "hipotenusa1=(cateto_a**2+cateto_o**2)**(1/2)  #forma de cálculo 1\n",
        "hipotenusa2=hypot(cateto_a,cateto_o)  #forma de cálculo 2\n",
        "\n",
        "print(f'Hipotenusa: {hipotenusa1}')\n",
        "print(f'Hipotenusa: {hipotenusa2}')"
      ],
      "metadata": {
        "colab": {
          "base_uri": "https://localhost:8080/"
        },
        "id": "xNeNPnAI7dtI",
        "outputId": "02d3abe0-cc6c-4128-f0e5-3ee120c3ccde"
      },
      "execution_count": null,
      "outputs": [
        {
          "output_type": "stream",
          "name": "stdout",
          "text": [
            "Digite o Cateto Adjacente: 12\n",
            "Digite o Cateto Oposto: 5\n",
            "Hipotenusa: 13.0\n",
            "Hipotenusa: 13.0\n"
          ]
        }
      ]
    },
    {
      "cell_type": "markdown",
      "source": [
        "### 16ª Exercício ###"
      ],
      "metadata": {
        "id": "JZkPa2Hp62iZ"
      }
    },
    {
      "cell_type": "markdown",
      "source": [
        "Faça um programa que recebe um número inteiro do usuário e calcule o fatorial deste número. <br>\n",
        "Dica: utilize o módulo math do Python, especificamente math.fatorial."
      ],
      "metadata": {
        "id": "BF0W6elR7g1L"
      }
    },
    {
      "cell_type": "code",
      "source": [
        "import math\n",
        "num=int(input('Digite um número inteiro: '))\n",
        "fatorial=math.factorial(num)\n",
        "print(f'O fatorial de {num} é {fatorial}')"
      ],
      "metadata": {
        "colab": {
          "base_uri": "https://localhost:8080/"
        },
        "id": "2gbrIGhI7k6J",
        "outputId": "2f0f580f-0364-46d7-9158-9306aad18adb"
      },
      "execution_count": null,
      "outputs": [
        {
          "output_type": "stream",
          "name": "stdout",
          "text": [
            "Digite um número inteiro: 10\n",
            "O fatorial de 10 é 3628800\n"
          ]
        }
      ]
    },
    {
      "cell_type": "markdown",
      "source": [
        "### 17ª Exercício ###"
      ],
      "metadata": {
        "id": "20gMgReh62vK"
      }
    },
    {
      "cell_type": "markdown",
      "source": [
        "Escreva um programa que peça um número do usuário e calcule o logaritmo deste número nas bases 10 e 2.\n",
        "\n",
        "Dica: utilize o módulo math."
      ],
      "metadata": {
        "id": "r2AfCZSY7nle"
      }
    },
    {
      "cell_type": "code",
      "source": [
        "import math\n",
        "\n",
        "num=float(input('Digite um número: '))\n",
        "log1=math.log10(num)  #também podemos fazer: math.log(num,10)\n",
        "log2=math.log(num,2)\n",
        "print(f'O log de {num} na base 10 é {log1}')\n",
        "print(f'O log de {num} na base 2 é {log2}')"
      ],
      "metadata": {
        "colab": {
          "base_uri": "https://localhost:8080/"
        },
        "id": "CpSZwsej7pZG",
        "outputId": "22315838-4e66-4677-aa82-fc0a97128503"
      },
      "execution_count": null,
      "outputs": [
        {
          "output_type": "stream",
          "name": "stdout",
          "text": [
            "Digite um número: 12\n",
            "O log de 12.0 na base 10 é 1.0791812460476249\n",
            "O log de 12.0 na base 2 é 3.5849625007211565\n"
          ]
        }
      ]
    },
    {
      "cell_type": "markdown",
      "source": [
        "### 18ª Exercício ###"
      ],
      "metadata": {
        "id": "4ePg8GRr626w"
      }
    },
    {
      "cell_type": "markdown",
      "source": [
        "Faça um programa que peça a base e a altura de um retângulo e calcule e mostre na tela a área e o perímetro."
      ],
      "metadata": {
        "id": "N_EPC_Gm7r-m"
      }
    },
    {
      "cell_type": "code",
      "source": [
        "base=float(input('Digite a base do retângulo: '))\n",
        "altura=float(input('Digite a altura do retângulo: '))\n",
        "\n",
        "area=base*altura\n",
        "perimetro=2*base+2*altura\n",
        "\n",
        "print(f'O retângulo digitado tem base {base} e altura {altura}.')\n",
        "print(f'A área deste retângulo é: {area}')\n",
        "print(f'O perímetro deste retângulo é: {perimetro}')"
      ],
      "metadata": {
        "colab": {
          "base_uri": "https://localhost:8080/"
        },
        "id": "ZdsH6MUH7uDZ",
        "outputId": "7d6a162f-9d5b-47d9-a692-9645b45da8b9"
      },
      "execution_count": null,
      "outputs": [
        {
          "output_type": "stream",
          "name": "stdout",
          "text": [
            "Digite a base do retângulo: 12\n",
            "Digite a altura do retângulo: 3\n",
            "O retângulo digitado tem base 12.0 e altura 3.0.\n",
            "A área deste retângulo é: 36.0\n",
            "O perímetro deste retângulo é: 30.0\n"
          ]
        }
      ]
    },
    {
      "cell_type": "markdown",
      "source": [
        "### 19ª Exercício ###"
      ],
      "metadata": {
        "id": "aMe1a3T063Fm"
      }
    },
    {
      "cell_type": "markdown",
      "source": [
        "Escreva um programa que solicite o nome, o sobrenome e o salário atual de um funcionário. Ao fim, calcule seu novo salário considerando cenários hipotéticos, com os seguintes aumentos: 10%, 25%,30% e 50%. A mensagem na tela deverá seguir o seguinte padrão:\n",
        "\n",
        "\n",
        "\n",
        "\"Olá, [nome] [sobrenome]\"\n",
        "\n",
        "\"Seu salário atual é : [salário]\"\n",
        "\n",
        "\"Seu salário com 10% de aumento é: [salário]\"\n",
        "\n",
        "\"Seu salário com 25% de aumento é: [salário]\"\n",
        "\n",
        "\"Seu salário com 30% de aumento é: [salário]\"\n",
        "\n",
        "\"Seu salário com 50% de aumento é: [salário]\"\n",
        "\n",
        "\n",
        "\n",
        "No campo nome e sobrenome utilize os métodos strip() e title(). Lembre-se que o primeiro método permite remover os espaços antes e após a string, enquanto que o último permite colocar a string no formato titlecased (capitaliza string)."
      ],
      "metadata": {
        "id": "-dEfyBlD7xiG"
      }
    },
    {
      "cell_type": "code",
      "source": [
        "nome=input('Digite seu nome: ').strip().title()\n",
        "sobrenome=input('Digite seu sobrenome: ').strip().title()\n",
        "salario=float(input('Digite seu salário: '))\n",
        "salario1=salario+salario*0.1  #salário com 10% de aumento\n",
        "salario2=salario+salario*0.25  #salário com 25% de aumento\n",
        "salario3=salario+salario*0.3  #salário com 30% de aumento\n",
        "salario4=salario+salario*0.5  #salário com 50% de aumento\n",
        "\n",
        "print(f'Olá, {nome} {sobrenome}')\n",
        "print(f'Seu salário atual é: R$ {salario:.2f}')\n",
        "print(f'Seu salário com 10% de aumento é: R$ {salario1:.2f}')\n",
        "print(f'Seu salário com 25% de aumento é: R$ {salario2:.2f}')\n",
        "print(f'Seu salário com 30% de aumento é: R$ {salario3:.2f}')\n",
        "print(f'Seu salário com 50% de aumento é: R$ {salario4:.2f}')"
      ],
      "metadata": {
        "colab": {
          "base_uri": "https://localhost:8080/"
        },
        "id": "9aL5c6_P70Kw",
        "outputId": "b3a97780-3141-4d76-ddbd-b73a69bf1d51"
      },
      "execution_count": null,
      "outputs": [
        {
          "output_type": "stream",
          "name": "stdout",
          "text": [
            "Digite seu nome: Odemir\n",
            "Digite seu sobrenome: Depieri\n",
            "Digite seu salário: 2500\n",
            "Olá, Odemir Depieri\n",
            "Seu salário atual é: R$ 2500.00\n",
            "Seu salário com 10% de aumento é: R$ 2750.00\n",
            "Seu salário com 25% de aumento é: R$ 3125.00\n",
            "Seu salário com 30% de aumento é: R$ 3250.00\n",
            "Seu salário com 50% de aumento é: R$ 3750.00\n"
          ]
        }
      ]
    },
    {
      "cell_type": "markdown",
      "source": [
        "### 20ª Exercício ###"
      ],
      "metadata": {
        "id": "Io2R2i9N63R-"
      }
    },
    {
      "cell_type": "markdown",
      "source": [
        "Escreva um programa que peça um número inteiro do usuário e calcule e imprima a tabuada deste número."
      ],
      "metadata": {
        "id": "zltJs7rC7_wq"
      }
    },
    {
      "cell_type": "code",
      "source": [
        "num=int(input('Digite um número inteiro: \\n'))\n",
        "print(f'Tabuada do número: {num}')\n",
        "print(f'{num} x 1 = {num*1}')\n",
        "print(f'{num} x 2 = {num*2}')\n",
        "print(f'{num} x 3 = {num*3}')\n",
        "print(f'{num} x 4 = {num*4}')\n",
        "print(f'{num} x 5 = {num*5}')\n",
        "print(f'{num} x 6 = {num*6}')\n",
        "print(f'{num} x 7 = {num*7}')\n",
        "print(f'{num} x 8 = {num*8}')\n",
        "print(f'{num} x 9 = {num*9}')\n",
        "print(f'{num} x 10 = {num*10}')"
      ],
      "metadata": {
        "colab": {
          "base_uri": "https://localhost:8080/"
        },
        "id": "ZmG9bNO38CMw",
        "outputId": "3aac8f68-d97b-48a9-db4f-3830acb1df7b"
      },
      "execution_count": null,
      "outputs": [
        {
          "output_type": "stream",
          "name": "stdout",
          "text": [
            "Digite um número inteiro: \n",
            "10\n",
            "Tabuada do número: 10\n",
            "10 x 1 = 10\n",
            "10 x 2 = 20\n",
            "10 x 3 = 30\n",
            "10 x 4 = 40\n",
            "10 x 5 = 50\n",
            "10 x 6 = 60\n",
            "10 x 7 = 70\n",
            "10 x 8 = 80\n",
            "10 x 9 = 90\n",
            "10 x 10 = 100\n"
          ]
        }
      ]
    },
    {
      "cell_type": "markdown",
      "source": [
        "### 21ª Exercício ###"
      ],
      "metadata": {
        "id": "KyyACDFu8d7-"
      }
    },
    {
      "cell_type": "markdown",
      "source": [
        "Faça um programa que solicite um número inteiro e mostre o seu valor absoluto.\n",
        "Dica: use a função built-in abs()."
      ],
      "metadata": {
        "id": "CPu1fbk_8fUs"
      }
    },
    {
      "cell_type": "code",
      "source": [
        "num=int(input('Digite um número inteiro: '))\n",
        "print(f'O valor absoluto de {num} é {abs(num)}.')"
      ],
      "metadata": {
        "colab": {
          "base_uri": "https://localhost:8080/"
        },
        "id": "tr_2qpNA8heb",
        "outputId": "2a953366-ea92-42e3-a9b4-71426b0e639d"
      },
      "execution_count": null,
      "outputs": [
        {
          "output_type": "stream",
          "name": "stdout",
          "text": [
            "Digite um número inteiro: 10\n",
            "O valor absoluto de 10 é 10.\n"
          ]
        }
      ]
    },
    {
      "cell_type": "markdown",
      "source": [
        "### 22ª Exercício ###"
      ],
      "metadata": {
        "id": "VlwOtH0M63dW"
      }
    },
    {
      "cell_type": "markdown",
      "source": [
        "Faça um programa que peça uma string ao usuário e mostre na tela a quantidade de caracteres.\n",
        "\n",
        "Dica: use a função built-in len() e trate a string com o método strip()."
      ],
      "metadata": {
        "id": "xiPbS5nl8jvy"
      }
    },
    {
      "cell_type": "code",
      "source": [
        "string=input('Digite algo: ')\n",
        "print(f'Você digitou: {string}')\n",
        "print(f'Quantidade de caracteres do que você digitou é: {len(string)}')"
      ],
      "metadata": {
        "colab": {
          "base_uri": "https://localhost:8080/"
        },
        "id": "z0_rcr_48l8F",
        "outputId": "d20cfc80-1418-4cbe-e8b5-946c3e19f1ab"
      },
      "execution_count": null,
      "outputs": [
        {
          "output_type": "stream",
          "name": "stdout",
          "text": [
            "Digite algo: Coxinha\n",
            "Você digitou: Coxinha\n",
            "Quantidade de caracteres do que você digitou é: 7\n"
          ]
        }
      ]
    },
    {
      "cell_type": "markdown",
      "source": [
        "### 23ª Exercício ###"
      ],
      "metadata": {
        "id": "srMoUx2P8LMm"
      }
    },
    {
      "cell_type": "markdown",
      "source": [
        "Escreva um programa que peça um número inteiro do usuário e mostre se esse número é par ou ímpar. A mensagem na tela deverá seguir o seguinte formato:\n",
        "\n",
        "\"O número [número] é [par/ímpar]\""
      ],
      "metadata": {
        "id": "eSX0yxj98p1A"
      }
    },
    {
      "cell_type": "code",
      "source": [
        "num=int(input('Número inteiro: '))\n",
        "if num%2==0:\n",
        "    print(f'O número {num} é par.')\n",
        "else:\n",
        "    print(f'O número é {num} é ímpar.')"
      ],
      "metadata": {
        "colab": {
          "base_uri": "https://localhost:8080/"
        },
        "id": "2QCXBoPJ8ruX",
        "outputId": "794b390a-100c-4994-e610-2d0a64d92c95"
      },
      "execution_count": null,
      "outputs": [
        {
          "output_type": "stream",
          "name": "stdout",
          "text": [
            "Número inteiro: 100\n",
            "O número 100 é par.\n"
          ]
        }
      ]
    },
    {
      "cell_type": "markdown",
      "source": [
        "### 24ª Exercício ###"
      ],
      "metadata": {
        "id": "pjcw1hXZ8Lno"
      }
    },
    {
      "cell_type": "markdown",
      "source": [
        "O Índice de Massa Corporal (IMC) é utilizado para mensurar o peso ideal de uma pessoa. Escreva um programa que peça o nome, a idade , o peso e a altura do usuário. Ao final calcule e mostre o resultado do seu IMC e classifique este resultado de acordo com a regra a seguir.\n",
        "\n",
        "\n",
        "\n",
        "IMC<17 - Muito abaixo do peso ideal\n",
        "\n",
        "17<=IMC<18,5 - Abaixo do peso\n",
        "\n",
        "18,5<=IMC<25 - Peso normal\n",
        "\n",
        "25<=IMC<30 - Acima do peso\n",
        "\n",
        "30<=IMC<35 - Obesidade I\n",
        "\n",
        "35<=IMC<40 - Obesidade II (severa)\n",
        "\n",
        "IMC>=40 - Obesidade III (mórbida)\n",
        "\n",
        "\n",
        "\n",
        "Lembre que: IMC=massa/(altura*altura)\n",
        "\n",
        "\n",
        "\n",
        "Fonte: https://pt.wikipedia.org/wiki/%C3%8Dndice_de_massa_corporal"
      ],
      "metadata": {
        "id": "nklUY80n8vU0"
      }
    },
    {
      "cell_type": "code",
      "source": [
        "print('Cálculo do IMC')\n",
        "altura=float(input('Insira sua altura : \\n'))\n",
        "peso=float(input('Insira seu peso : \\n'))\n",
        "imc=peso/(altura*altura)  #poderíamos fazer peso/altura**2\n",
        "print('Processando seus dados...')\n",
        "if imc<17:\n",
        "    print('Muito abaixo do peso.')\n",
        "elif 17<=imc<18.5:\n",
        "    print('Abaixo do peso.')\n",
        "elif 18.5<=imc<25:\n",
        "    print('Peso normal.')\n",
        "elif 25<=imc<30:\n",
        "    print('Acima do peso.')\n",
        "elif 30<=imc<35:\n",
        "    print('Obesidade Grau I.')\n",
        "elif 35<=imc<40:\n",
        "    print('Obesidade Grau II (severa).')\n",
        "else:\n",
        "    print('Obesidade Grau III (mórbida).')"
      ],
      "metadata": {
        "colab": {
          "base_uri": "https://localhost:8080/"
        },
        "id": "CE92LET28ypL",
        "outputId": "8f00a52d-0fd4-4968-b0f0-708c0127e169"
      },
      "execution_count": null,
      "outputs": [
        {
          "output_type": "stream",
          "name": "stdout",
          "text": [
            "Cálculo do IMC\n",
            "Insira sua altura : \n",
            "1.50\n",
            "Insira seu peso : \n",
            "45\n",
            "Processando seus dados...\n",
            "Peso normal.\n"
          ]
        }
      ]
    },
    {
      "cell_type": "markdown",
      "source": [
        "### 25ª Exercício ###"
      ],
      "metadata": {
        "id": "xX-t5soV8L2b"
      }
    },
    {
      "cell_type": "markdown",
      "source": [
        "Escreva um programa que receba dois números de ponto flutuante e mostre na tela o maior número digitado. Considere a possibilidade de o usuário digitar dois números iguais."
      ],
      "metadata": {
        "id": "oWTm47gK84rj"
      }
    },
    {
      "cell_type": "code",
      "source": [
        "n1=float(input('Valor 1 : '))\n",
        "n2=float(input('Valor 2 : '))\n",
        "if n1>n2:\n",
        "    print(f'{n1}>{n2}')\n",
        "elif n1==n2:\n",
        "    print(f'{n1}={n2}')\n",
        "else:\n",
        "    print(f'{n1}<{n2}')"
      ],
      "metadata": {
        "colab": {
          "base_uri": "https://localhost:8080/"
        },
        "id": "4nZKDET786jK",
        "outputId": "68fa4cf2-7c11-43b4-a198-21849c120238"
      },
      "execution_count": null,
      "outputs": [
        {
          "output_type": "stream",
          "name": "stdout",
          "text": [
            "Valor 1 : 20.1\n",
            "Valor 2 : 22.2\n",
            "20.1<22.2\n"
          ]
        }
      ]
    },
    {
      "cell_type": "markdown",
      "source": [
        "### 26ª Exercício ###"
      ],
      "metadata": {
        "id": "EPBOLJnu8MDR"
      }
    },
    {
      "cell_type": "markdown",
      "source": [
        "Escreva um programa que verifique se um determinado número digitado pelo usuário é nulo, positivo ou negativo."
      ],
      "metadata": {
        "id": "qsNmUztb89zl"
      }
    },
    {
      "cell_type": "code",
      "source": [
        "num=float(input('Digite um número: '))\n",
        "if num>0:\n",
        "    print('Número positivo.')\n",
        "elif num==0:\n",
        "    print('Número nulo.')\n",
        "else:\n",
        "    print('Número negativo.')"
      ],
      "metadata": {
        "colab": {
          "base_uri": "https://localhost:8080/"
        },
        "id": "jzq_YIYV8_3O",
        "outputId": "1ddb0b92-8d51-4843-c4bd-a4e95b693ef3"
      },
      "execution_count": null,
      "outputs": [
        {
          "output_type": "stream",
          "name": "stdout",
          "text": [
            "Digite um número: 100\n",
            "Número positivo.\n"
          ]
        }
      ]
    },
    {
      "cell_type": "markdown",
      "source": [
        "### 27ª Exercício ###"
      ],
      "metadata": {
        "id": "BFVjnkJc8MO1"
      }
    },
    {
      "cell_type": "markdown",
      "source": [
        "Escreva um programa que receba três números do usuário e mostre na tela o maior número digitado."
      ],
      "metadata": {
        "id": "8pgeyzMU9CvT"
      }
    },
    {
      "cell_type": "code",
      "source": [
        "numero1=float(input('Número 1: '))\n",
        "numero2=float(input('Número 2: '))\n",
        "numero3=float(input('Número 3: '))\n",
        "\n",
        "if (numero1>=numero2) and (numero1>=numero3):\n",
        "    print(f'Maior número: {numero1}')\n",
        "elif (numero2>=numero1) and (numero2>=numero3):\n",
        "    print(f'Maior número: {numero2}')\n",
        "else:\n",
        "    print(f'Maior número: {numero3}')"
      ],
      "metadata": {
        "colab": {
          "base_uri": "https://localhost:8080/"
        },
        "id": "OHc1bzxW9GGz",
        "outputId": "ba0ed2e8-c6b2-4459-b657-c4637792cb72"
      },
      "execution_count": null,
      "outputs": [
        {
          "output_type": "stream",
          "name": "stdout",
          "text": [
            "Número 1: 45\n",
            "Número 2: 50\n",
            "Número 3: 12\n",
            "Maior número: 50.0\n"
          ]
        }
      ]
    },
    {
      "cell_type": "markdown",
      "source": [
        "### 28ª Exercício ###"
      ],
      "metadata": {
        "id": "Hxx8TzGi8N0F"
      }
    },
    {
      "cell_type": "markdown",
      "source": [
        "Escreva um programa que gere um número aleatório entre 1 e 100 e mostre na tela.\n",
        "\n",
        "Dica: utilize o módulo random."
      ],
      "metadata": {
        "id": "vfrCXdSy9J6H"
      }
    },
    {
      "cell_type": "code",
      "source": [
        "import random\n",
        "num=random.randint(1,100)\n",
        "print(num)"
      ],
      "metadata": {
        "colab": {
          "base_uri": "https://localhost:8080/"
        },
        "id": "odng0lD99L1i",
        "outputId": "24dec579-9a52-4c90-9441-989e6e36568f"
      },
      "execution_count": null,
      "outputs": [
        {
          "output_type": "stream",
          "name": "stdout",
          "text": [
            "63\n"
          ]
        }
      ]
    },
    {
      "cell_type": "markdown",
      "source": [
        "### 29ª Exercício ###"
      ],
      "metadata": {
        "id": "TIJj_dS58ODZ"
      }
    },
    {
      "cell_type": "markdown",
      "source": [
        "Elabore um progama para verificar se um ano é bissexto ou não. A condição para ser um ano bissexto é: o ano deve ser divisível por 400; ou se for divisível por 4 e não for divisível por 100."
      ],
      "metadata": {
        "id": "tqujuDg69N9i"
      }
    },
    {
      "cell_type": "code",
      "source": [
        "ano=int(input('Ano : '))\n",
        "if ano%400==0 or (ano%4==0 and not ano%100==0):\n",
        "    print('Ano bissexto.')\n",
        "else:\n",
        "    print('Ano não bissexto.')"
      ],
      "metadata": {
        "colab": {
          "base_uri": "https://localhost:8080/"
        },
        "id": "5CKWexIz9PwT",
        "outputId": "37c723df-602a-484e-a399-beb113d729c8"
      },
      "execution_count": null,
      "outputs": [
        {
          "output_type": "stream",
          "name": "stdout",
          "text": [
            "Ano : 20022\n",
            "Ano não bissexto.\n"
          ]
        }
      ]
    },
    {
      "cell_type": "markdown",
      "source": [
        "### 30ª Exercício ###"
      ],
      "metadata": {
        "id": "0TMGvZi38OQZ"
      }
    },
    {
      "cell_type": "markdown",
      "source": [
        "Elabore um programa para calcular o tamanho de uma string."
      ],
      "metadata": {
        "id": "cL-jLcbk9Sjs"
      }
    },
    {
      "cell_type": "code",
      "source": [
        "string=input('Digite algo: ')\n",
        "print(len(string))"
      ],
      "metadata": {
        "colab": {
          "base_uri": "https://localhost:8080/"
        },
        "id": "zxfAVP-G9UOt",
        "outputId": "4a0a276a-2793-45e7-d289-7cc83e558612"
      },
      "execution_count": null,
      "outputs": [
        {
          "output_type": "stream",
          "name": "stdout",
          "text": [
            "Digite algo: Odemir\n",
            "6\n"
          ]
        }
      ]
    },
    {
      "cell_type": "markdown",
      "source": [
        "### 31ª Exercício ###"
      ],
      "metadata": {
        "id": "ZP-KDBjV8Oc7"
      }
    },
    {
      "cell_type": "markdown",
      "source": [
        "Utilize o módulo datetime e mostre na tela a data e hora atual do sistema de acordo com o formato descrito abaixo."
      ],
      "metadata": {
        "id": "16MgLnRC9kRe"
      }
    },
    {
      "cell_type": "code",
      "source": [
        "import datetime\n",
        "\n",
        "data_atual=datetime.datetime.now()\n",
        "print(data_atual.strftime('%d/%m/%Y - %H:%M:%S'))"
      ],
      "metadata": {
        "colab": {
          "base_uri": "https://localhost:8080/"
        },
        "id": "zmkKCDFI9l4O",
        "outputId": "746c4b88-e2b1-4b5f-c4f0-f8769772f1f4"
      },
      "execution_count": null,
      "outputs": [
        {
          "output_type": "stream",
          "name": "stdout",
          "text": [
            "13/12/2022 - 19:28:07\n"
          ]
        }
      ]
    },
    {
      "cell_type": "markdown",
      "source": [
        "### 32ª Exercício ###"
      ],
      "metadata": {
        "id": "WBwLmsXu8Oq8"
      }
    },
    {
      "cell_type": "markdown",
      "source": [
        "Escreva um programa que inverta uma string. Exemplos:\n",
        "\n",
        "Hello World!<p>\n",
        "Python<p>\n",
        "!dlroW olleH<p>\n",
        "nohtyP<p>"
      ],
      "metadata": {
        "id": "9vGo42fE9xdK"
      }
    },
    {
      "cell_type": "code",
      "source": [
        "string1='Hello World!'\n",
        "string2='Python'\n",
        "print(string1)\n",
        "print(string2)\n",
        "print(string1[::-1])\n",
        "print(string2[::-1])"
      ],
      "metadata": {
        "colab": {
          "base_uri": "https://localhost:8080/"
        },
        "id": "Ct2UTPi7926K",
        "outputId": "98150a5e-a6b8-4929-fa24-3d6076bf1e79"
      },
      "execution_count": null,
      "outputs": [
        {
          "output_type": "stream",
          "name": "stdout",
          "text": [
            "Hello World!\n",
            "Python\n",
            "!dlroW olleH\n",
            "nohtyP\n"
          ]
        }
      ]
    },
    {
      "cell_type": "markdown",
      "source": [
        "### 33ª Exercício ###"
      ],
      "metadata": {
        "id": "zMTy2SIG63rC"
      }
    },
    {
      "cell_type": "markdown",
      "source": [
        "Escreva um programa para mostrar na tela o calendário do mês de dezembro de 2020. Exemplo:\n",
        "\n",
        "![image.png](data:image/png;base64,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)\n",
        "\n",
        "Dica: importe o módulo calendar.\n",
        "\n"
      ],
      "metadata": {
        "id": "wzI9k31A95b2"
      }
    },
    {
      "cell_type": "code",
      "source": [
        "import calendar\n",
        "print(calendar.month(2020,12))"
      ],
      "metadata": {
        "colab": {
          "base_uri": "https://localhost:8080/"
        },
        "id": "QN9H3OLF-C6E",
        "outputId": "0324bec7-fb3f-4dd7-eb80-a4d2fcdb2df9"
      },
      "execution_count": null,
      "outputs": [
        {
          "output_type": "stream",
          "name": "stdout",
          "text": [
            "   December 2020\n",
            "Mo Tu We Th Fr Sa Su\n",
            "    1  2  3  4  5  6\n",
            " 7  8  9 10 11 12 13\n",
            "14 15 16 17 18 19 20\n",
            "21 22 23 24 25 26 27\n",
            "28 29 30 31\n",
            "\n"
          ]
        }
      ]
    },
    {
      "cell_type": "markdown",
      "source": [
        "### 34ª Exercício ###"
      ],
      "metadata": {
        "id": "Sob5stom9peW"
      }
    },
    {
      "cell_type": "markdown",
      "source": [
        "Modifique o programa anterior e permita que o usuário especifique o ano e o mês a serem mostrados na tela."
      ],
      "metadata": {
        "id": "CfkaD6WM-Frz"
      }
    },
    {
      "cell_type": "code",
      "source": [
        "import calendar\n",
        "ano=int(input('Ano: '))\n",
        "mes=int(input('Mês: '))\n",
        "\n",
        "print(calendar.month(ano,mes))"
      ],
      "metadata": {
        "colab": {
          "base_uri": "https://localhost:8080/"
        },
        "id": "n5w9HG_i61E9",
        "outputId": "0b6a71b1-e894-412d-f29f-917a2b382a43"
      },
      "execution_count": null,
      "outputs": [
        {
          "output_type": "stream",
          "name": "stdout",
          "text": [
            "Ano: 2022\n",
            "Mês: 12\n",
            "   December 2022\n",
            "Mo Tu We Th Fr Sa Su\n",
            "          1  2  3  4\n",
            " 5  6  7  8  9 10 11\n",
            "12 13 14 15 16 17 18\n",
            "19 20 21 22 23 24 25\n",
            "26 27 28 29 30 31\n",
            "\n"
          ]
        }
      ]
    },
    {
      "cell_type": "markdown",
      "source": [
        "### 35ª Exercício ###"
      ],
      "metadata": {
        "id": "POaHDZWe9qZm"
      }
    },
    {
      "cell_type": "markdown",
      "source": [
        "Escreva um script que mostre na tela o preço de um produto associado a uma categoria especificada pelo usuário.  Utilize como referência as informações a seguir. Caso o usuário não digite uma categoria válida (número entre 1 e 10) mostre na tela uma mensagem personalizada.\n",
        "\n",
        "![image.png](data:image/png;base64,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)"
      ],
      "metadata": {
        "id": "AI4Zxnty-MUf"
      }
    },
    {
      "cell_type": "code",
      "source": [
        "categoria=int(input('Digite a categoria do produto: '))\n",
        "if categoria==1:\n",
        "    print('O preço do produto é: $ 0.5')\n",
        "elif categoria==2:\n",
        "    print('O preço do produto é: $ 11.3')\n",
        "elif categoria==3:\n",
        "    print('O preço do produto é: $ 17.5')\n",
        "elif categoria==4:\n",
        "    print('O preço do produto é: $ 33.97')\n",
        "elif categoria==5:\n",
        "    print('O preço do produto é: $ 103.47')\n",
        "elif categoria==6:\n",
        "    print('O preço do produto é: $ 44.67')\n",
        "elif categoria==7:\n",
        "    print('O preço do produto é: $ 12.55')\n",
        "elif categoria==8:\n",
        "    print('O preço do produto é: $ 14.87')\n",
        "elif categoria==9:\n",
        "    print('O preço do produto é: $ 98.12')\n",
        "elif categoria==10:\n",
        "    print('O preço do produto é: $ 131.4')\n",
        "else:\n",
        "    print('Opção inválida.')\n"
      ],
      "metadata": {
        "colab": {
          "base_uri": "https://localhost:8080/"
        },
        "id": "9iw3uVVZ-Q97",
        "outputId": "3170dcf5-19f9-40f5-b9d6-c358e82db444"
      },
      "execution_count": null,
      "outputs": [
        {
          "output_type": "stream",
          "name": "stdout",
          "text": [
            "Digite a categoria do produto: 4\n",
            "O preço do produto é: $ 33.97\n"
          ]
        }
      ]
    },
    {
      "cell_type": "markdown",
      "source": [
        "### 36ª Exercício ###"
      ],
      "metadata": {
        "id": "iBF-No3N9rOJ"
      }
    },
    {
      "cell_type": "markdown",
      "source": [
        "Resolva o exercício anterior para as categorias de 1 a 8. Utilize estruturas aninhadas."
      ],
      "metadata": {
        "id": "aDmMkBWY-VDH"
      }
    },
    {
      "cell_type": "code",
      "source": [
        "categoria=int(input('Categoria do produto: '))\n",
        "if categoria==1:\n",
        "    print('Preço: $ 0.5')\n",
        "else:\n",
        "    if categoria==2:\n",
        "        print('Preço: $ 11.35')\n",
        "    else:\n",
        "        if categoria==3:\n",
        "            print('Preço: $ 17.5')\n",
        "        else:\n",
        "            if categoria==4:\n",
        "                print('Preço: $ 33.97')\n",
        "            else:\n",
        "                if categoria==5:\n",
        "                    print('Preço: $ 103.47')\n",
        "                else:\n",
        "                    if categoria==6:\n",
        "                        print('Preço: $ 44.67')\n",
        "                    else:\n",
        "                        if categoria==7:\n",
        "                            print('Preço: $ 12.55')\n",
        "                        else:\n",
        "                            if categoria==8:\n",
        "                                print('Preço: $ 14.87')\n",
        "                            else:\n",
        "                                print('Categoria inválida.')\n"
      ],
      "metadata": {
        "colab": {
          "base_uri": "https://localhost:8080/"
        },
        "id": "niRzDsma-XMU",
        "outputId": "a6b88910-6acc-46df-db3f-4e61bc52d8e9"
      },
      "execution_count": null,
      "outputs": [
        {
          "output_type": "stream",
          "name": "stdout",
          "text": [
            "Categoria do produto: 4\n",
            "Preço: $ 33.97\n"
          ]
        }
      ]
    },
    {
      "cell_type": "markdown",
      "source": [
        "### 37ª Exercício ###"
      ],
      "metadata": {
        "id": "JbbXo5GO9sEd"
      }
    },
    {
      "cell_type": "markdown",
      "source": [
        "Determine se uma letra inserida pelo usuário é uma vogal ou consoante. Armazene as vogais em uma lista e implemente sua solução. Desconsidere a possibilidade de o usuário inserir números ou caracteres especiais.\n",
        "\n"
      ],
      "metadata": {
        "id": "6KJwTnM8-ZhL"
      }
    },
    {
      "cell_type": "code",
      "source": [
        "letra=input('Digite uma letra: ')\n",
        "vogais=['a','e','i','o','u']\n",
        "if letra in vogais:\n",
        "    print('A letra digitada é uma vogal.')\n",
        "else:\n",
        "    print('A letra digitada é uma consoante.')"
      ],
      "metadata": {
        "colab": {
          "base_uri": "https://localhost:8080/"
        },
        "id": "bnB_pNN3-bGR",
        "outputId": "878aa79b-f8fa-41dc-987e-c16f3ec7c6d8"
      },
      "execution_count": null,
      "outputs": [
        {
          "output_type": "stream",
          "name": "stdout",
          "text": [
            "Digite uma letra: t\n",
            "A letra digitada é uma consoante.\n"
          ]
        }
      ]
    },
    {
      "cell_type": "markdown",
      "source": [
        "### 38ª Exercício ###"
      ],
      "metadata": {
        "id": "m_sBhYKv9s1m"
      }
    },
    {
      "cell_type": "markdown",
      "source": [
        "Escreva um script para classificar um triângulo de acordo com o tamanho dos seus lados. Considere as seguintes informações:\n",
        "\n",
        "Triângulo equilátero: todos os lados possuem o mesmo tamanho;\n",
        "\n",
        "Trângulo escaleno: todos os lados possuem medidas diferentes;\n",
        "\n",
        "Triângulo isósceles: caracterizado por ter dois lados com o mesmo tamanho.\n"
      ],
      "metadata": {
        "id": "cFg3K9k8-fMV"
      }
    },
    {
      "cell_type": "code",
      "source": [
        "ladoA=float(input('Lado A: '))\n",
        "ladoB=float(input('Lado B: '))\n",
        "ladoC=float(input('Lado C: '))\n",
        "if ladoA==ladoB==ladoC:\n",
        "    print('O triângulo é equilátero.')\n",
        "elif ladoA==ladoB or ladoA==ladoC or ladoB==ladoC:\n",
        "    print('O triângulo é isósceles.')\n",
        "else:\n",
        "    print('O triângulo é escaleno.')"
      ],
      "metadata": {
        "colab": {
          "base_uri": "https://localhost:8080/"
        },
        "id": "FEMPy7ZM-h4m",
        "outputId": "c5d23375-c259-4cca-e5f9-04bcba4104f9"
      },
      "execution_count": null,
      "outputs": [
        {
          "output_type": "stream",
          "name": "stdout",
          "text": [
            "Lado A: 10\n",
            "Lado B: 6\n",
            "Lado C: 7\n",
            "O triângulo é escaleno.\n"
          ]
        }
      ]
    },
    {
      "cell_type": "markdown",
      "source": [
        "### 39ª Exercício ###"
      ],
      "metadata": {
        "id": "B_4OIdRE9tzw"
      }
    },
    {
      "cell_type": "markdown",
      "source": [
        "Implemente uma calculadora simples com as operações aritméticas básicas. O usuário deverá especificar a operação desejada (+,-,*,/) e seguidamente inserir dois valores. Caso, o usuário escolha divisão e insira o valor do denominar 0 mostre uma mensagem personalizada. Para os demais casos, mostre na tela o resultado da operação desejada."
      ],
      "metadata": {
        "id": "9UorsLmK-luT"
      }
    },
    {
      "cell_type": "code",
      "source": [
        "operacao=input('Escolha a operação deseja: (+,-,*,/)')\n",
        "if operacao in ['+','-','*','/']:\n",
        "    num1=float(input('Número 1: '))\n",
        "    num2=float(input('Número 2: '))\n",
        "    if operacao=='+':\n",
        "        print(f'{num1}+{num2}={num1+num2}')\n",
        "    elif operacao=='-':\n",
        "        print(f'{num1}-{num2}={num1-num2}')\n",
        "    elif operacao=='*':\n",
        "        print(f'{num1}*{num2}={num1*num2}')\n",
        "    else:\n",
        "        if num2==0:\n",
        "            print('O denominador precisa ser diferente de zero.')\n",
        "        else:\n",
        "            print(f'{num1}/{num2}={num1/num2}')\n",
        "else:\n",
        "    print('Opção inválida.')"
      ],
      "metadata": {
        "colab": {
          "base_uri": "https://localhost:8080/"
        },
        "id": "_pCcGl5h-ngL",
        "outputId": "c885fcdb-2367-4099-808d-53cc829d8d2f"
      },
      "execution_count": null,
      "outputs": [
        {
          "output_type": "stream",
          "name": "stdout",
          "text": [
            "Escolha a operação deseja: (+,-,*,/)-\n",
            "Número 1: 10\n",
            "Número 2: 2\n",
            "10.0-2.0=8.0\n"
          ]
        }
      ]
    },
    {
      "cell_type": "markdown",
      "source": [
        "### 40ª Exercício ###"
      ],
      "metadata": {
        "id": "nIs4FE8Q_LaN"
      }
    },
    {
      "cell_type": "markdown",
      "source": [
        "Escreva um programa que mostre de 1 até 50 na tela.\n",
        "\n"
      ],
      "metadata": {
        "id": "Nwkm2b93_YVA"
      }
    },
    {
      "cell_type": "code",
      "source": [
        "for num in range(1,51):\n",
        "    print(num)"
      ],
      "metadata": {
        "colab": {
          "base_uri": "https://localhost:8080/"
        },
        "id": "l7ZF1lcS_aNt",
        "outputId": "8eba9326-90ed-4160-ccb7-25c5667c5f8f"
      },
      "execution_count": null,
      "outputs": [
        {
          "output_type": "stream",
          "name": "stdout",
          "text": [
            "1\n",
            "2\n",
            "3\n",
            "4\n",
            "5\n",
            "6\n",
            "7\n",
            "8\n",
            "9\n",
            "10\n",
            "11\n",
            "12\n",
            "13\n",
            "14\n",
            "15\n",
            "16\n",
            "17\n",
            "18\n",
            "19\n",
            "20\n",
            "21\n",
            "22\n",
            "23\n",
            "24\n",
            "25\n",
            "26\n",
            "27\n",
            "28\n",
            "29\n",
            "30\n",
            "31\n",
            "32\n",
            "33\n",
            "34\n",
            "35\n",
            "36\n",
            "37\n",
            "38\n",
            "39\n",
            "40\n",
            "41\n",
            "42\n",
            "43\n",
            "44\n",
            "45\n",
            "46\n",
            "47\n",
            "48\n",
            "49\n",
            "50\n"
          ]
        }
      ]
    },
    {
      "cell_type": "markdown",
      "source": [
        "### 41ª Exercício ###"
      ],
      "metadata": {
        "id": "Vvchdqgt_Msh"
      }
    },
    {
      "cell_type": "markdown",
      "source": [
        "Escreva um programa que mostre de 50 até 1 na tela."
      ],
      "metadata": {
        "id": "n2CXeDnr_c2B"
      }
    },
    {
      "cell_type": "code",
      "source": [
        "for num in range(50,0,-1):\n",
        "    print(num)\n"
      ],
      "metadata": {
        "colab": {
          "base_uri": "https://localhost:8080/"
        },
        "id": "08KSnNVT_evz",
        "outputId": "3bb15f99-18f1-415f-b1aa-ce0f87358977"
      },
      "execution_count": null,
      "outputs": [
        {
          "output_type": "stream",
          "name": "stdout",
          "text": [
            "50\n",
            "49\n",
            "48\n",
            "47\n",
            "46\n",
            "45\n",
            "44\n",
            "43\n",
            "42\n",
            "41\n",
            "40\n",
            "39\n",
            "38\n",
            "37\n",
            "36\n",
            "35\n",
            "34\n",
            "33\n",
            "32\n",
            "31\n",
            "30\n",
            "29\n",
            "28\n",
            "27\n",
            "26\n",
            "25\n",
            "24\n",
            "23\n",
            "22\n",
            "21\n",
            "20\n",
            "19\n",
            "18\n",
            "17\n",
            "16\n",
            "15\n",
            "14\n",
            "13\n",
            "12\n",
            "11\n",
            "10\n",
            "9\n",
            "8\n",
            "7\n",
            "6\n",
            "5\n",
            "4\n",
            "3\n",
            "2\n",
            "1\n"
          ]
        }
      ]
    },
    {
      "cell_type": "markdown",
      "source": [
        "### 42ª Exercício ###"
      ],
      "metadata": {
        "id": "fLBW50pH_Ngx"
      }
    },
    {
      "cell_type": "markdown",
      "source": [
        "Escreva um programa que mostre de 150 até 200 na tela.\n",
        "\n"
      ],
      "metadata": {
        "id": "PU5_PM0Q_hUO"
      }
    },
    {
      "cell_type": "code",
      "source": [
        "for num in range(150,201):\n",
        "    print(num)\n"
      ],
      "metadata": {
        "colab": {
          "base_uri": "https://localhost:8080/"
        },
        "id": "FSsV_DO-_jAP",
        "outputId": "33788bf3-5948-4ec2-e608-970d6d135f5a"
      },
      "execution_count": null,
      "outputs": [
        {
          "output_type": "stream",
          "name": "stdout",
          "text": [
            "150\n",
            "151\n",
            "152\n",
            "153\n",
            "154\n",
            "155\n",
            "156\n",
            "157\n",
            "158\n",
            "159\n",
            "160\n",
            "161\n",
            "162\n",
            "163\n",
            "164\n",
            "165\n",
            "166\n",
            "167\n",
            "168\n",
            "169\n",
            "170\n",
            "171\n",
            "172\n",
            "173\n",
            "174\n",
            "175\n",
            "176\n",
            "177\n",
            "178\n",
            "179\n",
            "180\n",
            "181\n",
            "182\n",
            "183\n",
            "184\n",
            "185\n",
            "186\n",
            "187\n",
            "188\n",
            "189\n",
            "190\n",
            "191\n",
            "192\n",
            "193\n",
            "194\n",
            "195\n",
            "196\n",
            "197\n",
            "198\n",
            "199\n",
            "200\n"
          ]
        }
      ]
    },
    {
      "cell_type": "markdown",
      "source": [
        "### 43ª Exercício ###"
      ],
      "metadata": {
        "id": "tUEQMoIZ_Op5"
      }
    },
    {
      "cell_type": "markdown",
      "source": [
        "Escreva um programa de contagem regressiva, ou seja, imprima na tela o seguinte padrão numérico:\n",
        "\n"
      ],
      "metadata": {
        "id": "c3r7Ujq7_lTL"
      }
    },
    {
      "cell_type": "code",
      "source": [
        "for num in range(5,-1,-1):\n",
        "    print(num)\n"
      ],
      "metadata": {
        "colab": {
          "base_uri": "https://localhost:8080/"
        },
        "id": "A1ntMkP3_nEj",
        "outputId": "36693cc9-07d8-491d-8be6-7b71282edb80"
      },
      "execution_count": null,
      "outputs": [
        {
          "output_type": "stream",
          "name": "stdout",
          "text": [
            "5\n",
            "4\n",
            "3\n",
            "2\n",
            "1\n",
            "0\n"
          ]
        }
      ]
    },
    {
      "cell_type": "markdown",
      "source": [
        "### 44ª Exercício ###"
      ],
      "metadata": {
        "id": "AgNLYlxs_Ped"
      }
    },
    {
      "cell_type": "markdown",
      "source": [
        "Faça um programa que imprima na tela de 1 até um número digitado pelo usuário.\n",
        "\n"
      ],
      "metadata": {
        "id": "V-oPx7yE_pFn"
      }
    },
    {
      "cell_type": "code",
      "source": [
        "num=int(input('Digite um número: '))  #receber número do usuário\n",
        "\n",
        "for valor in range(1,num+1):\n",
        "    print(valor)"
      ],
      "metadata": {
        "colab": {
          "base_uri": "https://localhost:8080/"
        },
        "id": "mrAoW4Ec_rLV",
        "outputId": "8fb88804-57d1-4148-d647-333535ed5b96"
      },
      "execution_count": null,
      "outputs": [
        {
          "output_type": "stream",
          "name": "stdout",
          "text": [
            "Digite um número: 2\n",
            "1\n",
            "2\n"
          ]
        }
      ]
    },
    {
      "cell_type": "markdown",
      "source": [
        "### 45ª Exercício ###"
      ],
      "metadata": {
        "id": "ijr3qfhY_QXo"
      }
    },
    {
      "cell_type": "markdown",
      "source": [
        "Escreva um programa que mostre na tela os 20 primeiros múltiplos de 5."
      ],
      "metadata": {
        "id": "qMLo0CPS_uLe"
      }
    },
    {
      "cell_type": "code",
      "source": [
        "lista=[]\n",
        "x=1\n",
        "#armazenando os números em uma lista\n",
        "while len(lista)<20:\n",
        "    if x%5==0:\n",
        "        lista.append(x)\n",
        "        x+=1\n",
        "    x+=1\n",
        "\n",
        "#mostrando os números na tela\n",
        "for num in lista:\n",
        "    print(num)"
      ],
      "metadata": {
        "colab": {
          "base_uri": "https://localhost:8080/"
        },
        "id": "H61WbtM7_wFW",
        "outputId": "51db95ad-d376-4174-bee2-c6ff6a3dceff"
      },
      "execution_count": null,
      "outputs": [
        {
          "output_type": "stream",
          "name": "stdout",
          "text": [
            "5\n",
            "10\n",
            "15\n",
            "20\n",
            "25\n",
            "30\n",
            "35\n",
            "40\n",
            "45\n",
            "50\n",
            "55\n",
            "60\n",
            "65\n",
            "70\n",
            "75\n",
            "80\n",
            "85\n",
            "90\n",
            "95\n",
            "100\n"
          ]
        }
      ]
    },
    {
      "cell_type": "markdown",
      "source": [
        "### 46ª Exercício ###"
      ],
      "metadata": {
        "id": "Mr_ZUcDa_zdd"
      }
    },
    {
      "cell_type": "markdown",
      "source": [
        "Utilizando estruturas de repetição escreva um programa que mostre os resultados da tabuada (multiplicação) de um número inserido pelo usuário.\n",
        "\n"
      ],
      "metadata": {
        "id": "chJhg_Yw_6Nw"
      }
    },
    {
      "cell_type": "code",
      "source": [
        "valor=int(input('Tabuada:'))\n",
        "for num in range(1,11):\n",
        "    print(f'{valor} x {num} = {valor*num}')\n"
      ],
      "metadata": {
        "colab": {
          "base_uri": "https://localhost:8080/"
        },
        "id": "JuxGExsf-lM8",
        "outputId": "a7dbeb92-fb31-435e-9747-a13ef9ea5e12"
      },
      "execution_count": null,
      "outputs": [
        {
          "output_type": "stream",
          "name": "stdout",
          "text": [
            "Tabuada:2\n",
            "2 x 1 = 2\n",
            "2 x 2 = 4\n",
            "2 x 3 = 6\n",
            "2 x 4 = 8\n",
            "2 x 5 = 10\n",
            "2 x 6 = 12\n",
            "2 x 7 = 14\n",
            "2 x 8 = 16\n",
            "2 x 9 = 18\n",
            "2 x 10 = 20\n"
          ]
        }
      ]
    },
    {
      "cell_type": "markdown",
      "source": [
        "### 47ª Exercício ###"
      ],
      "metadata": {
        "id": "5ZZIoBJt_0Yl"
      }
    },
    {
      "cell_type": "markdown",
      "source": [
        "Utilizando estruturas de repetição escreva um programa que mostre os resultados da tabuada de multiplicação dos números entre 1 e 10, como segue.\n",
        "\n",
        "![image.png](data:image/png;base64,iVBORw0KGgoAAAANSUhEUgAAAIUAAAEGCAYAAABLiVb+AAANC0lEQVR4nO3dT2yT5x0H8G+nHcyhUNNJRCQ2FW53oqkqORyoRNjUlRi1WhN6WhKODSol3tod+FcBoqeqhThVJ8zoBdC2A7E5RITRtQ2TyiG2QGMVVG1eC9npRC9+hQrze3t3iOyG/MJiv+/z+n2e5PuRIlGS1/5V+cY28vPN7wnXdV0QLfCzsAcg/TAUJDAUJDAUJDAUJDAUJDAUJDAUJDAUJPgKRaFYRCz+DDKZcVXzcAYN/NzrhZnMOB48fIihwUGV83AGDXh6pCgUi4jH43j3nT+onoczaMBTKHqSSfT3v+75TusPt/n8JfF3hWKxLTOooMMMQQjlhWZPMolc7iJOZ7OwrBIsq4QjR95DLncRPclkW2awbRtDw3sQiz8jPpoN5krl+TWFXz3JJPaOjODkqVMAgL0jI20LBABEo1FcOH+ubfdnklD/SZpK9WHtk2ux9sm1SKX62nrffKR4vNAeKQAgmz2Djo4NjT+n06Ntu28+UjxeaI8U+fwlFIpF7NkzjD17hlEoFh954Ukhcj2YnbXcV3b2uV2xTY98HDhwyK3Vasten8vl3a7YJnemUGj83Uyh4HbFNrm5XL4tM6igwwxBeMJ1eUaTHsX3PkhgKEhgKEhgKEhgKEhgKEhgKEhgKEhgKEhgKEhgKEhgKEhgKEhgKEhgKEgwuiGWz19qnKvc2ZeCZZVW5QyqeQ5FJjOOq1c/C60ZZVkl3L5zB999+w0q5bvYOzKCo8eOwbbtVTVDEIxtiCUSm3H40EFEIhEAwI4dvQCAWctaVTMEwdiGGAVnxTTEpqevAQCeTSSa+vogeh+tzqCrFdEQs6wSTmez2Dsygmg02tQ1qnsfXmbQlfENMcsq4a19+7ArlWrpKU3lI4XXGXTl64i/4zg4fvwEOjo2eGp3Lf6nbKu3Yds29o+m0ZNMtrVdptsMqhnbEHMcBx988CFiXTGMjLwZ4KR6zxAILw0iHRpi9dsIs52lwwxBYEOMBL73QQJDQQJDQQJDQQJDQQJDQQJDQQJDQQJDQQJDQQJDQQJDQQJDQQJDQQJDQYKxDbGlzli2ux6gwwxB8HzIpr4768GPDzyf0VSpUCwikxnHx+OZ0E5T6zCDCsY2xBZbH10P1wWq1fAqezrMoMKKaYjdunUL8VgMnZ0bPc/llw4zKOHngGetVnMPHDjkjo1lWr52plBwX9nZ587OWo2DwAsP8jZj4QHiwaFht1qtNn1ttVp1B4eGlzx428ocfmbQVWihcN3509Bv7XvbfWvf202f4n4cr8FSSYcZVDC+IVaXSGzGrlQK17+63tTXB9ElbXUGXa24HWLxeLyprwtyh1izM+jK2IbYYoViEZenptDd3a1wSvNmUMLLc44ODbH619c/wniRp8MMQWBDjAS+90ECQ0ECQ0ECQ0ECQ0ECQ0ECQ0ECQ0ECQ0ECQ0ECQ0ECQ0ECQ0ECQ0ECQ0GCsQ0x3ebQYQZVPJ/RrDfEwtohVmfbNjKZcbz22quregaVjG+ITU9fQ08yid+8/PKqnkEloxtillXCxYkcXn01vJ9QHWZQzegdYpOTk3hj9wASic0tz6Cq9+FnBl0Zu0OsUCw2KgJeqOh9+J1BV0Y2xBzHQW4ij3R61HPl3+8jhYoZdGXkDrH6Irfbt+8s+Xk/qyybpcMMQQnt6aPeEPt4PAMA2D+aRj5/qakXsInEZvz9ypS4vXK53LZfnqLDDEHxFIqlfko+/OgkhgYHcfToe401z4+Tz1/CaPr3yOUuNh560+lRDAy8AQArYo2jydgQI4HvfZDAUJDAUJDAUJDAUJDAUJDAUJDAUJDAUJDAUJDAUJDAUJDAUJDAUJDAUJBgbENsqTOWO/tSsKzSqpohCEY3xNatW4fpL78I9Xi9DjOoZnxDjNQzuiFGwTC6IXb//n3s+NWvG8/nrewLUdUQ8zODtvzshdBxh5jf2zF9BhWMbIgtpb6/q1wuN/X1Qe4Qa3YGXa2YHWKO4+DevR8at7ecIHaItTqDrlbMDrGpqSu4cfNGqL8SQIcZlPDynKPDDrHFMzR73yrpMEMQ2BAjge99kMBQkMBQkMBQkMBQkMBQkMBQkMBQkMBQkMBQkMBQkMBQkMBQkMBQkMBQkGBsQ6zOskrY2Zfyfb7S9BlUMrohls9fwulsFn/65JPQGlo6zKCasQ0x27bxj88/D/WbocMMQTC2ITZrWVj75Fp0dm70PIdfOswQBGMbYnOVOXR0bEA2e6bxXH7w4GE4jtPU9Sp6H35n0FVo//pYuEPs5KlTLe8QA+Z3jGx7aRsq5bv47ttvAMz3R5pR731UynfFRytz+JlBV0Y3xP747juNb2AkEsHA7n4UikXYtr3staoaYn5m0JWxDbGuWBdmZgpwHOeRTUSxrhjWrFmz7PUqGmJ+Z9CVsQ2xZxMJVOYq+PfXXwP4afvf1q09y66rUkWHGQLhpUGkQ0NsqTnCaHvrMINqbIiRwPc+SGAoSGAoSGAoSGAoSGAoSGAoSGAoSGAoSGAoSGAoSGAoSGAoSGAoSGAoSDC2IZbJjC95vrKdp6l1mCEIng/Z1BtiD358gI6ODb5+A78q9XCGOYsOM/hlbENsMcsqYaZQDPU36OswgwrGNsQWm5ycRDwWC7WtpcMMKhjbEFvItm0UikUM7O5v+hS16s1AXmbQVWi9j4UNMQCeGmJ109PXEOuK4fktW5q+RvVmIC8z6Mrohhgw/xM6kcu1/BOq8pHC6wy6MrYhVjc9fQ3AfDGnFSofKbzOoCtjG2LAfCNrZqaA3QMDiEajAU2q/wzKeWkQ6dIQy+Xy7uDQsFutVr38byihwwyqsSFGAt/7IIGhIIGhIIGhIIGhIIGhIIGhIIGhIIGhIIGhIIGhIIGhIIGhIIGhIIGhIMHYhtjC+w+zmaXDDKp5DkUmM46rVz8LbYdYoVhEJjOOW/+6GdquDR1mCIKxDbG5ytwjKxQikUjjEPBqmiEIxjbEduzoRWWuguPHT8BxHBSKRVyemmprZU+HGQLh54BnrVZzDxw45I6NZVq+dqZQcF/Z2efOzlqNg8ALD/I2a2ws43bFNrV8eLZarbqDQ8Pi8PHiA8VBzqArYxtijuPg+PETAIDvvv0G2ewZdL/wYtPVQxW9D78z6CrUMlAq1YeZmULjz62YmrqCylwFH49nEIlEGkWi3EQez2/ZsmxTy7Zt7B9N49q1f4rPNftN9TuDroxtiJXLZbGrKx6P4969H5q6XsUjhd8ZdGVsQ2zbS9tw4+YNfP/9fwD81Ofs6NjQtp9QHWYIhJcXIjo1xBbev5cXvH7pMINqbIiRwPc+SGAoSGAoSGAoSGAoSGAoSGAoSGAoSGAoSGAoSGAoSGAoSGAoSGAoSGAoSFhRDTGvC2RMn0E1oxtiR468h+kvv0ClfBfTX36BsbFxWFZpVc0QBGMbYte/uo5dqRQSic0AgERiM7b2JDE5ObmqZgiCsQ0xYP7k9OL/vnfvh7YWfHWYQTVjd4jF43FM5HKwbRvATyepm6ViM5DfGXRlbEOsv/91lMtldL/wIgCgt3c7ent7UWry+VxF78PvDLoyeodYOj2KSvkuKuW7uHD+HP778GHTnQtVO8T8zKArYxtii9VXQDZ7G6q3DXqZQVfGNsQWqvdCe5LJ0Iq9OsygjJcGkQ4NscUzePk1Bn7pMEMQ2BAjge99kMBQkMBQkMBQkMBQkMBQkMBQkMBQkMBQkMBQkMBQkMBQkMBQkMBQkMBQkGB0Q2y5GSyrhJ19qcbZS68nu/yqnwcdGt7TOPld5zgODh48rNUOMmMbYsvNYNs2jh47hvffP9Fob53OZtte6ysUi9g/mkZvb++Sn6+fU9VpB5mxDbHlZpievoZYVwzPb9kCYL69tSuVQm4i37afRNu2cf2r6zj75zP4xdNPi89bVgkzhWJjvVQkEsHA7n5cnpoKtXpobEPs/83gOA5mZgrYurWncdTeskq4PDWFylwFtVrN8+ytiEajSKdHH3vc/9atW4jHYujs3NiYOzeRx+3bd1C1q22ZcSnGNsSa0RXrAjB/crz+VOK6QLVqL3PlvExmfMleiMrXUPWOiGWV8NvX+7FrVx+GBgcxV5lTdh+tMrYh1gynVsPBg4fR0bEBF86fg2WV8NRT67B+fbSp69Pp0bZ0OPL5S5jI5fC3v/4Fa9asweXLVxqBDoPRDbHl/G5wGAO7+xvf2Kpdxf3795u+vh2PFB9+dBLlchkXzp9DNBpFrVZDZa6i7Pa9WDENsYUikQi2bu0BgMYLTWB+uWxPMoloVI9Hiu7ubmzfvv2RPabVqo1169bh2UQisPtdzopoiC2lu7sbN27ewNTUFQDzLzRPZ7PY9tI2ZffhV2fnRsRjMZw9+ykcx4HjODh79lP88rnnmg5uILw0iHRsiC01Q9gNrvoy38Uz1pf0LvU1OuwgY0OMBL73QQJDQQJDQQJDQQJDQQJDQQJDQcL/AIgBpJl90D/TAAAAAElFTkSuQmCC)"
      ],
      "metadata": {
        "id": "cQwgekPU_-A9"
      }
    },
    {
      "cell_type": "code",
      "source": [
        "for valor in range(1,11):\n",
        "\tfor numero in range(1,11):\n",
        "\t\tprint(f'{valor} x {numero} = {valor*numero}')"
      ],
      "metadata": {
        "colab": {
          "base_uri": "https://localhost:8080/"
        },
        "id": "EGsjWoXWAB5D",
        "outputId": "cc30c077-be94-4c47-cc9f-c28c2c78f5f3"
      },
      "execution_count": null,
      "outputs": [
        {
          "output_type": "stream",
          "name": "stdout",
          "text": [
            "1 x 1 = 1\n",
            "1 x 2 = 2\n",
            "1 x 3 = 3\n",
            "1 x 4 = 4\n",
            "1 x 5 = 5\n",
            "1 x 6 = 6\n",
            "1 x 7 = 7\n",
            "1 x 8 = 8\n",
            "1 x 9 = 9\n",
            "1 x 10 = 10\n",
            "2 x 1 = 2\n",
            "2 x 2 = 4\n",
            "2 x 3 = 6\n",
            "2 x 4 = 8\n",
            "2 x 5 = 10\n",
            "2 x 6 = 12\n",
            "2 x 7 = 14\n",
            "2 x 8 = 16\n",
            "2 x 9 = 18\n",
            "2 x 10 = 20\n",
            "3 x 1 = 3\n",
            "3 x 2 = 6\n",
            "3 x 3 = 9\n",
            "3 x 4 = 12\n",
            "3 x 5 = 15\n",
            "3 x 6 = 18\n",
            "3 x 7 = 21\n",
            "3 x 8 = 24\n",
            "3 x 9 = 27\n",
            "3 x 10 = 30\n",
            "4 x 1 = 4\n",
            "4 x 2 = 8\n",
            "4 x 3 = 12\n",
            "4 x 4 = 16\n",
            "4 x 5 = 20\n",
            "4 x 6 = 24\n",
            "4 x 7 = 28\n",
            "4 x 8 = 32\n",
            "4 x 9 = 36\n",
            "4 x 10 = 40\n",
            "5 x 1 = 5\n",
            "5 x 2 = 10\n",
            "5 x 3 = 15\n",
            "5 x 4 = 20\n",
            "5 x 5 = 25\n",
            "5 x 6 = 30\n",
            "5 x 7 = 35\n",
            "5 x 8 = 40\n",
            "5 x 9 = 45\n",
            "5 x 10 = 50\n",
            "6 x 1 = 6\n",
            "6 x 2 = 12\n",
            "6 x 3 = 18\n",
            "6 x 4 = 24\n",
            "6 x 5 = 30\n",
            "6 x 6 = 36\n",
            "6 x 7 = 42\n",
            "6 x 8 = 48\n",
            "6 x 9 = 54\n",
            "6 x 10 = 60\n",
            "7 x 1 = 7\n",
            "7 x 2 = 14\n",
            "7 x 3 = 21\n",
            "7 x 4 = 28\n",
            "7 x 5 = 35\n",
            "7 x 6 = 42\n",
            "7 x 7 = 49\n",
            "7 x 8 = 56\n",
            "7 x 9 = 63\n",
            "7 x 10 = 70\n",
            "8 x 1 = 8\n",
            "8 x 2 = 16\n",
            "8 x 3 = 24\n",
            "8 x 4 = 32\n",
            "8 x 5 = 40\n",
            "8 x 6 = 48\n",
            "8 x 7 = 56\n",
            "8 x 8 = 64\n",
            "8 x 9 = 72\n",
            "8 x 10 = 80\n",
            "9 x 1 = 9\n",
            "9 x 2 = 18\n",
            "9 x 3 = 27\n",
            "9 x 4 = 36\n",
            "9 x 5 = 45\n",
            "9 x 6 = 54\n",
            "9 x 7 = 63\n",
            "9 x 8 = 72\n",
            "9 x 9 = 81\n",
            "9 x 10 = 90\n",
            "10 x 1 = 10\n",
            "10 x 2 = 20\n",
            "10 x 3 = 30\n",
            "10 x 4 = 40\n",
            "10 x 5 = 50\n",
            "10 x 6 = 60\n",
            "10 x 7 = 70\n",
            "10 x 8 = 80\n",
            "10 x 9 = 90\n",
            "10 x 10 = 100\n"
          ]
        }
      ]
    },
    {
      "cell_type": "markdown",
      "source": [
        "### 48ª Exercício ###"
      ],
      "metadata": {
        "id": "TzR4nnEx_1Fo"
      }
    },
    {
      "cell_type": "markdown",
      "source": [
        "Em um único loop escreva um programa que mostre na tela de 1 a 10 três vezes e ao final mostre a mensagem Fim . No primeiro loop utilize for e nos dois loops seguintes while. O resultado do seu programa deverá ter o seguinte formato:\n",
        "\n"
      ],
      "metadata": {
        "id": "jvxtJgH2AF3p"
      }
    },
    {
      "cell_type": "code",
      "source": [
        "#solução 1\n",
        "x=1\n",
        "for i in range(1,11):\n",
        "    print(i)\n",
        "    if i==10:\n",
        "        while x<=10:\n",
        "            print(x)\n",
        "            x+=1\n",
        "            if x==11:\n",
        "                y=1\n",
        "                while y<=10:\n",
        "                    print(y)\n",
        "                    y+=1\n",
        "                    if y==11:\n",
        "                        print('Fim')\n"
      ],
      "metadata": {
        "colab": {
          "base_uri": "https://localhost:8080/"
        },
        "id": "AGm31TUQAHyY",
        "outputId": "28a74c96-ae5d-49b3-f629-0b2ab506ec57"
      },
      "execution_count": null,
      "outputs": [
        {
          "output_type": "stream",
          "name": "stdout",
          "text": [
            "1\n",
            "2\n",
            "3\n",
            "4\n",
            "5\n",
            "6\n",
            "7\n",
            "8\n",
            "9\n",
            "10\n",
            "1\n",
            "2\n",
            "3\n",
            "4\n",
            "5\n",
            "6\n",
            "7\n",
            "8\n",
            "9\n",
            "10\n",
            "1\n",
            "2\n",
            "3\n",
            "4\n",
            "5\n",
            "6\n",
            "7\n",
            "8\n",
            "9\n",
            "10\n",
            "Fim\n"
          ]
        }
      ]
    },
    {
      "cell_type": "markdown",
      "source": [
        "### 49ª Exercício ###"
      ],
      "metadata": {
        "id": "wjuqmfU1_1y4"
      }
    },
    {
      "cell_type": "markdown",
      "source": [
        "Escreva um programa que peça ao usuário números entre 0-10. Se o usuário inserir um número fora desse intervalo o programa deverá finalizar com uma mensagem personalizada."
      ],
      "metadata": {
        "id": "Navz7OKUAJ9r"
      }
    },
    {
      "cell_type": "code",
      "source": [
        "num=0\n",
        "while 0<=num<=10:\n",
        "    num=int(input('Insira um número inteiro entre 0-10: '))\n",
        "    if num<0 or num>10:\n",
        "        print('Fim do programa.')"
      ],
      "metadata": {
        "colab": {
          "base_uri": "https://localhost:8080/"
        },
        "id": "7Vp0vrPAAMM8",
        "outputId": "7c77b740-1018-4ad4-e0b1-7c60cf4467d2"
      },
      "execution_count": null,
      "outputs": [
        {
          "output_type": "stream",
          "name": "stdout",
          "text": [
            "Insira um número inteiro entre 0-10: 2\n",
            "Insira um número inteiro entre 0-10: 1\n",
            "Insira um número inteiro entre 0-10: 2\n",
            "Insira um número inteiro entre 0-10: 2\n",
            "Insira um número inteiro entre 0-10: 2\n",
            "Insira um número inteiro entre 0-10: 2\n",
            "Insira um número inteiro entre 0-10: 1\n",
            "Insira um número inteiro entre 0-10: 10\n",
            "Insira um número inteiro entre 0-10: 11\n",
            "Fim do programa.\n"
          ]
        }
      ]
    },
    {
      "cell_type": "markdown",
      "source": [
        "### 50ª Exercício ###"
      ],
      "metadata": {
        "id": "MkMFzutK_2j_"
      }
    },
    {
      "cell_type": "markdown",
      "source": [
        "Em um único loop escreva um programa que mostre na tela de 0-5, cinco vezes e ao final mostre a mensagem Fim . Utilize apenas for em sua implementação. Seu programa deverá gerar um output com o seguinte formato:"
      ],
      "metadata": {
        "id": "I7Me0k5SAU-i"
      }
    },
    {
      "cell_type": "code",
      "source": [
        "for i in range(0,6):\n",
        "    print(i)\n",
        "\n",
        "    if i==5:\n",
        "        for j in range(0,6):\n",
        "            print(j)\n",
        "\n",
        "            if j==5:\n",
        "                for k in range(0,6):\n",
        "                    print(k)\n",
        "\n",
        "                    if k==5:\n",
        "                        for l in range(0,6):\n",
        "                            print(l)\n",
        "\n",
        "                            if l==5:\n",
        "                                for m in range(0,6):\n",
        "                                    print(m)\n",
        "\n",
        "                                    if m==5:\n",
        "                                        print('Fim')"
      ],
      "metadata": {
        "colab": {
          "base_uri": "https://localhost:8080/"
        },
        "id": "krUrhsvOAVXn",
        "outputId": "cd0dc870-cfed-4f95-f1ab-d2ff49ce31c7"
      },
      "execution_count": null,
      "outputs": [
        {
          "output_type": "stream",
          "name": "stdout",
          "text": [
            "0\n",
            "1\n",
            "2\n",
            "3\n",
            "4\n",
            "5\n",
            "0\n",
            "1\n",
            "2\n",
            "3\n",
            "4\n",
            "5\n",
            "0\n",
            "1\n",
            "2\n",
            "3\n",
            "4\n",
            "5\n",
            "0\n",
            "1\n",
            "2\n",
            "3\n",
            "4\n",
            "5\n",
            "0\n",
            "1\n",
            "2\n",
            "3\n",
            "4\n",
            "5\n",
            "Fim\n"
          ]
        }
      ]
    },
    {
      "cell_type": "code",
      "source": [],
      "metadata": {
        "id": "p2w1fcyXAXN3"
      },
      "execution_count": null,
      "outputs": []
    }
  ]
}
