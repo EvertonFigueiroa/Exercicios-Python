{
  "nbformat": 4,
  "nbformat_minor": 0,
  "metadata": {
    "colab": {
      "provenance": [],
      "include_colab_link": true
    },
    "kernelspec": {
      "display_name": "Python 3",
      "name": "python3"
    }
  },
  "cells": [
    {
      "cell_type": "markdown",
      "metadata": {
        "id": "view-in-github",
        "colab_type": "text"
      },
      "source": [
        "<a href=\"https://colab.research.google.com/github/EvertonFigueiroa/Exercicios-Python/blob/main/Pandas.ipynb\" target=\"_parent\"><img src=\"https://colab.research.google.com/assets/colab-badge.svg\" alt=\"Open In Colab\"/></a>"
      ]
    },
    {
      "cell_type": "code",
      "metadata": {
        "id": "p5k7YhrkKcma"
      },
      "source": [
        "# Biblioteca para modelagem de dados\n",
        "import pandas as pd\n",
        "\n",
        "# Biblioteca para recursos matemáticos\n",
        "import numpy as np\n",
        "\n",
        "# Biblioteca para plotagem de dados\n",
        "import matplotlib.pyplot as plt"
      ],
      "execution_count": null,
      "outputs": []
    },
    {
      "cell_type": "code",
      "metadata": {
        "id": "Z6ZPN1dLApTO"
      },
      "source": [
        "# Biblioteca para modelagem de dados\n",
        "import pandas as pd"
      ],
      "execution_count": null,
      "outputs": []
    },
    {
      "cell_type": "code",
      "metadata": {
        "colab": {
          "base_uri": "https://localhost:8080/"
        },
        "id": "QMIKdDhU_npX",
        "outputId": "c800ca25-43f4-44bf-95d2-3407fea0f25a"
      },
      "source": [
        "# Lista com os rotulos\n",
        "Labels = ['1º', '2º', '3º']\n",
        "\n",
        "# Lista com os valores\n",
        "Valores = [10, 20, 30]\n",
        "\n",
        "# Criando a base de dados com as listas\n",
        "Serie = pd.Series( data=Valores, index=Labels )\n",
        "Serie"
      ],
      "execution_count": null,
      "outputs": [
        {
          "output_type": "execute_result",
          "data": {
            "text/plain": [
              "1º    10\n",
              "2º    20\n",
              "3º    30\n",
              "dtype: int64"
            ]
          },
          "metadata": {
            "tags": []
          },
          "execution_count": 49
        }
      ]
    },
    {
      "cell_type": "code",
      "metadata": {
        "colab": {
          "base_uri": "https://localhost:8080/"
        },
        "id": "RwUyzVqNCoJ8",
        "outputId": "53256b36-d5a9-49e9-ba67-46d3aff5c335"
      },
      "source": [
        "Serie['1º']"
      ],
      "execution_count": null,
      "outputs": [
        {
          "output_type": "execute_result",
          "data": {
            "text/plain": [
              "10"
            ]
          },
          "metadata": {
            "tags": []
          },
          "execution_count": 50
        }
      ]
    },
    {
      "cell_type": "code",
      "metadata": {
        "colab": {
          "base_uri": "https://localhost:8080/"
        },
        "id": "XdZSiOZWEd7G",
        "outputId": "f5ddd7b4-a0b9-4049-af76-42d21d153f8e"
      },
      "source": [
        "Serie * 2"
      ],
      "execution_count": null,
      "outputs": [
        {
          "output_type": "execute_result",
          "data": {
            "text/plain": [
              "1º    20\n",
              "2º    40\n",
              "3º    60\n",
              "dtype: int64"
            ]
          },
          "metadata": {
            "tags": []
          },
          "execution_count": 51
        }
      ]
    },
    {
      "cell_type": "code",
      "metadata": {
        "colab": {
          "base_uri": "https://localhost:8080/"
        },
        "id": "o3ltMXQ_HGTO",
        "outputId": "cc9c6d32-c83e-4e5d-c4b3-29a9f9ff1b59"
      },
      "source": [
        "Serie_Nova = pd.Series( data=[50,100,150], index=Labels )\n",
        "\n",
        "Serie + Serie_Nova"
      ],
      "execution_count": null,
      "outputs": [
        {
          "output_type": "execute_result",
          "data": {
            "text/plain": [
              "1º     60\n",
              "2º    120\n",
              "3º    180\n",
              "dtype: int64"
            ]
          },
          "metadata": {
            "tags": []
          },
          "execution_count": 52
        }
      ]
    },
    {
      "cell_type": "code",
      "metadata": {
        "colab": {
          "base_uri": "https://localhost:8080/",
          "height": 133
        },
        "id": "IyqAUA01CoTF",
        "outputId": "28af719a-dafb-48d3-efde-4fde601b509a"
      },
      "source": [
        "# Criando um dicionário\n",
        "Dicionario = {\n",
        "    'A' : [1, 2, 3],\n",
        "    'B' : [-3, -2, -1],\n",
        "    'C' : [0, 10, 20] }\n",
        "\n",
        "# Criando uma lista com os labels\n",
        "Label = ['1º Linha', '2º Linha', '3º Linha']\n",
        "\n",
        "DataFrame_01 = pd.DataFrame( Dicionario, index=Label )\n",
        "DataFrame_01"
      ],
      "execution_count": null,
      "outputs": [
        {
          "output_type": "execute_result",
          "data": {
            "text/html": [
              "<div>\n",
              "<style scoped>\n",
              "    .dataframe tbody tr th:only-of-type {\n",
              "        vertical-align: middle;\n",
              "    }\n",
              "\n",
              "    .dataframe tbody tr th {\n",
              "        vertical-align: top;\n",
              "    }\n",
              "\n",
              "    .dataframe thead th {\n",
              "        text-align: right;\n",
              "    }\n",
              "</style>\n",
              "<table border=\"1\" class=\"dataframe\">\n",
              "  <thead>\n",
              "    <tr style=\"text-align: right;\">\n",
              "      <th></th>\n",
              "      <th>A</th>\n",
              "      <th>B</th>\n",
              "      <th>C</th>\n",
              "    </tr>\n",
              "  </thead>\n",
              "  <tbody>\n",
              "    <tr>\n",
              "      <th>1º Linha</th>\n",
              "      <td>1</td>\n",
              "      <td>-3</td>\n",
              "      <td>0</td>\n",
              "    </tr>\n",
              "    <tr>\n",
              "      <th>2º Linha</th>\n",
              "      <td>2</td>\n",
              "      <td>-2</td>\n",
              "      <td>10</td>\n",
              "    </tr>\n",
              "    <tr>\n",
              "      <th>3º Linha</th>\n",
              "      <td>3</td>\n",
              "      <td>-1</td>\n",
              "      <td>20</td>\n",
              "    </tr>\n",
              "  </tbody>\n",
              "</table>\n",
              "</div>"
            ],
            "text/plain": [
              "          A  B   C\n",
              "1º Linha  1 -3   0\n",
              "2º Linha  2 -2  10\n",
              "3º Linha  3 -1  20"
            ]
          },
          "metadata": {
            "tags": []
          },
          "execution_count": 68
        }
      ]
    },
    {
      "cell_type": "code",
      "metadata": {
        "colab": {
          "base_uri": "https://localhost:8080/"
        },
        "id": "DzqOJazGCoV-",
        "outputId": "419179b0-f6d9-4915-865c-0c02f387be34"
      },
      "source": [
        "DataFrame_01['A']"
      ],
      "execution_count": null,
      "outputs": [
        {
          "output_type": "execute_result",
          "data": {
            "text/plain": [
              "1º Linha    1\n",
              "2º Linha    2\n",
              "3º Linha    3\n",
              "Name: A, dtype: int64"
            ]
          },
          "metadata": {
            "tags": []
          },
          "execution_count": 69
        }
      ]
    },
    {
      "cell_type": "code",
      "metadata": {
        "colab": {
          "base_uri": "https://localhost:8080/",
          "height": 133
        },
        "id": "ykccrjRJCoYj",
        "outputId": "cd62346a-aaa3-47d7-a282-2d370aff2748"
      },
      "source": [
        "DataFrame_01[['A', 'B']]"
      ],
      "execution_count": null,
      "outputs": [
        {
          "output_type": "execute_result",
          "data": {
            "text/html": [
              "<div>\n",
              "<style scoped>\n",
              "    .dataframe tbody tr th:only-of-type {\n",
              "        vertical-align: middle;\n",
              "    }\n",
              "\n",
              "    .dataframe tbody tr th {\n",
              "        vertical-align: top;\n",
              "    }\n",
              "\n",
              "    .dataframe thead th {\n",
              "        text-align: right;\n",
              "    }\n",
              "</style>\n",
              "<table border=\"1\" class=\"dataframe\">\n",
              "  <thead>\n",
              "    <tr style=\"text-align: right;\">\n",
              "      <th></th>\n",
              "      <th>A</th>\n",
              "      <th>B</th>\n",
              "    </tr>\n",
              "  </thead>\n",
              "  <tbody>\n",
              "    <tr>\n",
              "      <th>1º Linha</th>\n",
              "      <td>1</td>\n",
              "      <td>-3</td>\n",
              "    </tr>\n",
              "    <tr>\n",
              "      <th>2º Linha</th>\n",
              "      <td>2</td>\n",
              "      <td>-2</td>\n",
              "    </tr>\n",
              "    <tr>\n",
              "      <th>3º Linha</th>\n",
              "      <td>3</td>\n",
              "      <td>-1</td>\n",
              "    </tr>\n",
              "  </tbody>\n",
              "</table>\n",
              "</div>"
            ],
            "text/plain": [
              "          A  B\n",
              "1º Linha  1 -3\n",
              "2º Linha  2 -2\n",
              "3º Linha  3 -1"
            ]
          },
          "metadata": {
            "tags": []
          },
          "execution_count": 70
        }
      ]
    },
    {
      "cell_type": "code",
      "metadata": {
        "colab": {
          "base_uri": "https://localhost:8080/",
          "height": 133
        },
        "id": "9issFUC9CobZ",
        "outputId": "1181e1b6-5fd9-4a3b-db51-8d20cb0a41fb"
      },
      "source": [
        "DataFrame_01['Nova_Coluna'] = DataFrame_01['A'] * DataFrame_01['B']\n",
        "DataFrame_01"
      ],
      "execution_count": null,
      "outputs": [
        {
          "output_type": "execute_result",
          "data": {
            "text/html": [
              "<div>\n",
              "<style scoped>\n",
              "    .dataframe tbody tr th:only-of-type {\n",
              "        vertical-align: middle;\n",
              "    }\n",
              "\n",
              "    .dataframe tbody tr th {\n",
              "        vertical-align: top;\n",
              "    }\n",
              "\n",
              "    .dataframe thead th {\n",
              "        text-align: right;\n",
              "    }\n",
              "</style>\n",
              "<table border=\"1\" class=\"dataframe\">\n",
              "  <thead>\n",
              "    <tr style=\"text-align: right;\">\n",
              "      <th></th>\n",
              "      <th>A</th>\n",
              "      <th>B</th>\n",
              "      <th>C</th>\n",
              "      <th>Nova_Coluna</th>\n",
              "    </tr>\n",
              "  </thead>\n",
              "  <tbody>\n",
              "    <tr>\n",
              "      <th>1º Linha</th>\n",
              "      <td>1</td>\n",
              "      <td>-3</td>\n",
              "      <td>0</td>\n",
              "      <td>-3</td>\n",
              "    </tr>\n",
              "    <tr>\n",
              "      <th>2º Linha</th>\n",
              "      <td>2</td>\n",
              "      <td>-2</td>\n",
              "      <td>10</td>\n",
              "      <td>-4</td>\n",
              "    </tr>\n",
              "    <tr>\n",
              "      <th>3º Linha</th>\n",
              "      <td>3</td>\n",
              "      <td>-1</td>\n",
              "      <td>20</td>\n",
              "      <td>-3</td>\n",
              "    </tr>\n",
              "  </tbody>\n",
              "</table>\n",
              "</div>"
            ],
            "text/plain": [
              "          A  B   C  Nova_Coluna\n",
              "1º Linha  1 -3   0           -3\n",
              "2º Linha  2 -2  10           -4\n",
              "3º Linha  3 -1  20           -3"
            ]
          },
          "metadata": {
            "tags": []
          },
          "execution_count": 71
        }
      ]
    },
    {
      "cell_type": "code",
      "metadata": {
        "colab": {
          "base_uri": "https://localhost:8080/",
          "height": 133
        },
        "id": "ZxFRYqqgb4xk",
        "outputId": "91ad8cac-6950-4b6f-f842-43de25571691"
      },
      "source": [
        "DataFrame_01.drop('Nova_Coluna', axis=1, inplace=True)\n",
        "DataFrame_01"
      ],
      "execution_count": null,
      "outputs": [
        {
          "output_type": "execute_result",
          "data": {
            "text/html": [
              "<div>\n",
              "<style scoped>\n",
              "    .dataframe tbody tr th:only-of-type {\n",
              "        vertical-align: middle;\n",
              "    }\n",
              "\n",
              "    .dataframe tbody tr th {\n",
              "        vertical-align: top;\n",
              "    }\n",
              "\n",
              "    .dataframe thead th {\n",
              "        text-align: right;\n",
              "    }\n",
              "</style>\n",
              "<table border=\"1\" class=\"dataframe\">\n",
              "  <thead>\n",
              "    <tr style=\"text-align: right;\">\n",
              "      <th></th>\n",
              "      <th>A</th>\n",
              "      <th>B</th>\n",
              "      <th>C</th>\n",
              "    </tr>\n",
              "  </thead>\n",
              "  <tbody>\n",
              "    <tr>\n",
              "      <th>1º Linha</th>\n",
              "      <td>1</td>\n",
              "      <td>-3</td>\n",
              "      <td>0</td>\n",
              "    </tr>\n",
              "    <tr>\n",
              "      <th>2º Linha</th>\n",
              "      <td>2</td>\n",
              "      <td>-2</td>\n",
              "      <td>10</td>\n",
              "    </tr>\n",
              "    <tr>\n",
              "      <th>3º Linha</th>\n",
              "      <td>3</td>\n",
              "      <td>-1</td>\n",
              "      <td>20</td>\n",
              "    </tr>\n",
              "  </tbody>\n",
              "</table>\n",
              "</div>"
            ],
            "text/plain": [
              "          A  B   C\n",
              "1º Linha  1 -3   0\n",
              "2º Linha  2 -2  10\n",
              "3º Linha  3 -1  20"
            ]
          },
          "metadata": {
            "tags": []
          },
          "execution_count": 73
        }
      ]
    },
    {
      "cell_type": "code",
      "metadata": {
        "colab": {
          "base_uri": "https://localhost:8080/"
        },
        "id": "mORh8qrPb459",
        "outputId": "3f63a65b-3ae1-43f5-e5f3-09e4a87ad865"
      },
      "source": [
        "DataFrame_01.loc['1º Linha']"
      ],
      "execution_count": null,
      "outputs": [
        {
          "output_type": "execute_result",
          "data": {
            "text/plain": [
              "A    1\n",
              "B   -3\n",
              "C    0\n",
              "Name: 1º Linha, dtype: int64"
            ]
          },
          "metadata": {
            "tags": []
          },
          "execution_count": 80
        }
      ]
    },
    {
      "cell_type": "code",
      "metadata": {
        "colab": {
          "base_uri": "https://localhost:8080/",
          "height": 104
        },
        "id": "NUZ9MDyUeGRs",
        "outputId": "2ddab1ec-04bc-4cb1-c087-09edf24c0fac"
      },
      "source": [
        "DataFrame_01.loc[['1º Linha','3º Linha' ], ['A', 'C']]"
      ],
      "execution_count": null,
      "outputs": [
        {
          "output_type": "execute_result",
          "data": {
            "text/html": [
              "<div>\n",
              "<style scoped>\n",
              "    .dataframe tbody tr th:only-of-type {\n",
              "        vertical-align: middle;\n",
              "    }\n",
              "\n",
              "    .dataframe tbody tr th {\n",
              "        vertical-align: top;\n",
              "    }\n",
              "\n",
              "    .dataframe thead th {\n",
              "        text-align: right;\n",
              "    }\n",
              "</style>\n",
              "<table border=\"1\" class=\"dataframe\">\n",
              "  <thead>\n",
              "    <tr style=\"text-align: right;\">\n",
              "      <th></th>\n",
              "      <th>A</th>\n",
              "      <th>C</th>\n",
              "    </tr>\n",
              "  </thead>\n",
              "  <tbody>\n",
              "    <tr>\n",
              "      <th>1º Linha</th>\n",
              "      <td>1</td>\n",
              "      <td>0</td>\n",
              "    </tr>\n",
              "    <tr>\n",
              "      <th>3º Linha</th>\n",
              "      <td>3</td>\n",
              "      <td>20</td>\n",
              "    </tr>\n",
              "  </tbody>\n",
              "</table>\n",
              "</div>"
            ],
            "text/plain": [
              "          A   C\n",
              "1º Linha  1   0\n",
              "3º Linha  3  20"
            ]
          },
          "metadata": {
            "tags": []
          },
          "execution_count": 81
        }
      ]
    },
    {
      "cell_type": "code",
      "metadata": {
        "colab": {
          "base_uri": "https://localhost:8080/",
          "height": 133
        },
        "id": "ZMd3uw1ceGVa",
        "outputId": "49d41376-a63d-4324-d311-f469573f6584"
      },
      "source": [
        "DataFrame_01.iloc[0:3, 1:]"
      ],
      "execution_count": null,
      "outputs": [
        {
          "output_type": "execute_result",
          "data": {
            "text/html": [
              "<div>\n",
              "<style scoped>\n",
              "    .dataframe tbody tr th:only-of-type {\n",
              "        vertical-align: middle;\n",
              "    }\n",
              "\n",
              "    .dataframe tbody tr th {\n",
              "        vertical-align: top;\n",
              "    }\n",
              "\n",
              "    .dataframe thead th {\n",
              "        text-align: right;\n",
              "    }\n",
              "</style>\n",
              "<table border=\"1\" class=\"dataframe\">\n",
              "  <thead>\n",
              "    <tr style=\"text-align: right;\">\n",
              "      <th></th>\n",
              "      <th>B</th>\n",
              "      <th>C</th>\n",
              "    </tr>\n",
              "  </thead>\n",
              "  <tbody>\n",
              "    <tr>\n",
              "      <th>1º Linha</th>\n",
              "      <td>-3</td>\n",
              "      <td>0</td>\n",
              "    </tr>\n",
              "    <tr>\n",
              "      <th>2º Linha</th>\n",
              "      <td>-2</td>\n",
              "      <td>10</td>\n",
              "    </tr>\n",
              "    <tr>\n",
              "      <th>3º Linha</th>\n",
              "      <td>-1</td>\n",
              "      <td>20</td>\n",
              "    </tr>\n",
              "  </tbody>\n",
              "</table>\n",
              "</div>"
            ],
            "text/plain": [
              "          B   C\n",
              "1º Linha -3   0\n",
              "2º Linha -2  10\n",
              "3º Linha -1  20"
            ]
          },
          "metadata": {
            "tags": []
          },
          "execution_count": 92
        }
      ]
    },
    {
      "cell_type": "code",
      "metadata": {
        "colab": {
          "base_uri": "https://localhost:8080/",
          "height": 133
        },
        "id": "LP5IICz1eGay",
        "outputId": "6c8accc9-6098-4a9d-8d5c-68cef570d9e4"
      },
      "source": [
        "DataFrame_01 > 0"
      ],
      "execution_count": null,
      "outputs": [
        {
          "output_type": "execute_result",
          "data": {
            "text/html": [
              "<div>\n",
              "<style scoped>\n",
              "    .dataframe tbody tr th:only-of-type {\n",
              "        vertical-align: middle;\n",
              "    }\n",
              "\n",
              "    .dataframe tbody tr th {\n",
              "        vertical-align: top;\n",
              "    }\n",
              "\n",
              "    .dataframe thead th {\n",
              "        text-align: right;\n",
              "    }\n",
              "</style>\n",
              "<table border=\"1\" class=\"dataframe\">\n",
              "  <thead>\n",
              "    <tr style=\"text-align: right;\">\n",
              "      <th></th>\n",
              "      <th>A</th>\n",
              "      <th>B</th>\n",
              "      <th>C</th>\n",
              "    </tr>\n",
              "  </thead>\n",
              "  <tbody>\n",
              "    <tr>\n",
              "      <th>1º Linha</th>\n",
              "      <td>True</td>\n",
              "      <td>False</td>\n",
              "      <td>False</td>\n",
              "    </tr>\n",
              "    <tr>\n",
              "      <th>2º Linha</th>\n",
              "      <td>True</td>\n",
              "      <td>False</td>\n",
              "      <td>True</td>\n",
              "    </tr>\n",
              "    <tr>\n",
              "      <th>3º Linha</th>\n",
              "      <td>True</td>\n",
              "      <td>False</td>\n",
              "      <td>True</td>\n",
              "    </tr>\n",
              "  </tbody>\n",
              "</table>\n",
              "</div>"
            ],
            "text/plain": [
              "             A      B      C\n",
              "1º Linha  True  False  False\n",
              "2º Linha  True  False   True\n",
              "3º Linha  True  False   True"
            ]
          },
          "metadata": {
            "tags": []
          },
          "execution_count": 93
        }
      ]
    },
    {
      "cell_type": "code",
      "metadata": {
        "colab": {
          "base_uri": "https://localhost:8080/"
        },
        "id": "yBKsobtub4-p",
        "outputId": "ab57e9e1-70ca-454a-e96d-35105f334e01"
      },
      "source": [
        "DataFrame_01[ DataFrame_01['A'] > 0 ]['C']"
      ],
      "execution_count": null,
      "outputs": [
        {
          "output_type": "execute_result",
          "data": {
            "text/plain": [
              "1º Linha     0\n",
              "2º Linha    10\n",
              "3º Linha    20\n",
              "Name: C, dtype: int64"
            ]
          },
          "metadata": {
            "tags": []
          },
          "execution_count": 95
        }
      ]
    },
    {
      "cell_type": "code",
      "metadata": {
        "colab": {
          "base_uri": "https://localhost:8080/"
        },
        "id": "pci5Rhx4hZlM",
        "outputId": "250f8cf1-1e5e-4949-9861-03712b0316e3"
      },
      "source": [
        "Filtro = DataFrame_01['C'] > 0\n",
        "DataFrame_02 = DataFrame_01[Filtro]\n",
        "DataFrame_02['A']"
      ],
      "execution_count": null,
      "outputs": [
        {
          "output_type": "execute_result",
          "data": {
            "text/plain": [
              "2º Linha    2\n",
              "3º Linha    3\n",
              "Name: A, dtype: int64"
            ]
          },
          "metadata": {
            "tags": []
          },
          "execution_count": 96
        }
      ]
    },
    {
      "cell_type": "code",
      "metadata": {
        "colab": {
          "base_uri": "https://localhost:8080/",
          "height": 104
        },
        "id": "ln8L8tw7hZrK",
        "outputId": "235a3beb-cb32-4bf2-a02a-33af6949e2ec"
      },
      "source": [
        "DataFrame_01[\n",
        "  ( DataFrame_01['A'] > 1 ) & ( DataFrame_01['C'] > 0 )\n",
        "]"
      ],
      "execution_count": null,
      "outputs": [
        {
          "output_type": "execute_result",
          "data": {
            "text/html": [
              "<div>\n",
              "<style scoped>\n",
              "    .dataframe tbody tr th:only-of-type {\n",
              "        vertical-align: middle;\n",
              "    }\n",
              "\n",
              "    .dataframe tbody tr th {\n",
              "        vertical-align: top;\n",
              "    }\n",
              "\n",
              "    .dataframe thead th {\n",
              "        text-align: right;\n",
              "    }\n",
              "</style>\n",
              "<table border=\"1\" class=\"dataframe\">\n",
              "  <thead>\n",
              "    <tr style=\"text-align: right;\">\n",
              "      <th></th>\n",
              "      <th>A</th>\n",
              "      <th>B</th>\n",
              "      <th>C</th>\n",
              "    </tr>\n",
              "  </thead>\n",
              "  <tbody>\n",
              "    <tr>\n",
              "      <th>2º Linha</th>\n",
              "      <td>2</td>\n",
              "      <td>-2</td>\n",
              "      <td>10</td>\n",
              "    </tr>\n",
              "    <tr>\n",
              "      <th>3º Linha</th>\n",
              "      <td>3</td>\n",
              "      <td>-1</td>\n",
              "      <td>20</td>\n",
              "    </tr>\n",
              "  </tbody>\n",
              "</table>\n",
              "</div>"
            ],
            "text/plain": [
              "          A  B   C\n",
              "2º Linha  2 -2  10\n",
              "3º Linha  3 -1  20"
            ]
          },
          "metadata": {
            "tags": []
          },
          "execution_count": 97
        }
      ]
    },
    {
      "cell_type": "code",
      "metadata": {
        "colab": {
          "base_uri": "https://localhost:8080/",
          "height": 133
        },
        "id": "7Cv-Y7lwhZyz",
        "outputId": "14be21fd-f2cd-4527-d669-3ef327b9e01e"
      },
      "source": [
        "DataFrame_01.reset_index()"
      ],
      "execution_count": null,
      "outputs": [
        {
          "output_type": "execute_result",
          "data": {
            "text/html": [
              "<div>\n",
              "<style scoped>\n",
              "    .dataframe tbody tr th:only-of-type {\n",
              "        vertical-align: middle;\n",
              "    }\n",
              "\n",
              "    .dataframe tbody tr th {\n",
              "        vertical-align: top;\n",
              "    }\n",
              "\n",
              "    .dataframe thead th {\n",
              "        text-align: right;\n",
              "    }\n",
              "</style>\n",
              "<table border=\"1\" class=\"dataframe\">\n",
              "  <thead>\n",
              "    <tr style=\"text-align: right;\">\n",
              "      <th></th>\n",
              "      <th>index</th>\n",
              "      <th>A</th>\n",
              "      <th>B</th>\n",
              "      <th>C</th>\n",
              "    </tr>\n",
              "  </thead>\n",
              "  <tbody>\n",
              "    <tr>\n",
              "      <th>0</th>\n",
              "      <td>1º Linha</td>\n",
              "      <td>1</td>\n",
              "      <td>-3</td>\n",
              "      <td>0</td>\n",
              "    </tr>\n",
              "    <tr>\n",
              "      <th>1</th>\n",
              "      <td>2º Linha</td>\n",
              "      <td>2</td>\n",
              "      <td>-2</td>\n",
              "      <td>10</td>\n",
              "    </tr>\n",
              "    <tr>\n",
              "      <th>2</th>\n",
              "      <td>3º Linha</td>\n",
              "      <td>3</td>\n",
              "      <td>-1</td>\n",
              "      <td>20</td>\n",
              "    </tr>\n",
              "  </tbody>\n",
              "</table>\n",
              "</div>"
            ],
            "text/plain": [
              "      index  A  B   C\n",
              "0  1º Linha  1 -3   0\n",
              "1  2º Linha  2 -2  10\n",
              "2  3º Linha  3 -1  20"
            ]
          },
          "metadata": {
            "tags": []
          },
          "execution_count": 102
        }
      ]
    },
    {
      "cell_type": "code",
      "metadata": {
        "colab": {
          "base_uri": "https://localhost:8080/",
          "height": 133
        },
        "id": "vsWequRLhZ2X",
        "outputId": "7df60421-f5b6-4102-e67b-337c3f1bb4e4"
      },
      "source": [
        "DataFrame_01"
      ],
      "execution_count": null,
      "outputs": [
        {
          "output_type": "execute_result",
          "data": {
            "text/html": [
              "<div>\n",
              "<style scoped>\n",
              "    .dataframe tbody tr th:only-of-type {\n",
              "        vertical-align: middle;\n",
              "    }\n",
              "\n",
              "    .dataframe tbody tr th {\n",
              "        vertical-align: top;\n",
              "    }\n",
              "\n",
              "    .dataframe thead th {\n",
              "        text-align: right;\n",
              "    }\n",
              "</style>\n",
              "<table border=\"1\" class=\"dataframe\">\n",
              "  <thead>\n",
              "    <tr style=\"text-align: right;\">\n",
              "      <th></th>\n",
              "      <th>A</th>\n",
              "      <th>B</th>\n",
              "      <th>C</th>\n",
              "    </tr>\n",
              "  </thead>\n",
              "  <tbody>\n",
              "    <tr>\n",
              "      <th>1º Linha</th>\n",
              "      <td>1</td>\n",
              "      <td>-3</td>\n",
              "      <td>0</td>\n",
              "    </tr>\n",
              "    <tr>\n",
              "      <th>2º Linha</th>\n",
              "      <td>2</td>\n",
              "      <td>-2</td>\n",
              "      <td>10</td>\n",
              "    </tr>\n",
              "    <tr>\n",
              "      <th>3º Linha</th>\n",
              "      <td>3</td>\n",
              "      <td>-1</td>\n",
              "      <td>20</td>\n",
              "    </tr>\n",
              "  </tbody>\n",
              "</table>\n",
              "</div>"
            ],
            "text/plain": [
              "          A  B   C\n",
              "1º Linha  1 -3   0\n",
              "2º Linha  2 -2  10\n",
              "3º Linha  3 -1  20"
            ]
          },
          "metadata": {
            "tags": []
          },
          "execution_count": 100
        }
      ]
    },
    {
      "cell_type": "code",
      "metadata": {
        "id": "16FYy2TzhZ5a"
      },
      "source": [
        "# Criando varios dicionarios\n",
        "Dicionario_01 = {'A' : [1, 2, 3],\n",
        "                 'B' : [-32, -21, -15],\n",
        "                 'C' : [60, 10, 20],\n",
        "                 'Chave' : ['AA', 'BB', 'CC'] }\n",
        "\n",
        "Dicionario_02 = {'A' : [6, 7, 8],\n",
        "                 'B' : [-39, -28, -17],\n",
        "                 'C' : [1000, 10, 60],\n",
        "                 'Chave' : ['AA', 'BB', 'CC'] }\n",
        "\n",
        "Dicionario_03 = {'A' : [11, 12, 13],\n",
        "                 'B' : [-39, -22, -11],\n",
        "                 'C' : [30, 10, 20],\n",
        "                 'Chave' : ['AA', 'BB', 'CC'] }\n",
        "\n",
        "# Criando varias listas para serem os labels\n",
        "Label_01 = ['1º Linha', '2º Linha', '3º Linha']\n",
        "Label_02 = ['4º Linha', '5º Linha', '6º Linha']\n",
        "Label_03 = ['7º Linha', '8º Linha', '9º Linha']\n",
        "\n",
        "# Estruturando as bases de dados\n",
        "DataFrame_01 = pd.DataFrame( Dicionario_01, index=Label_01 )\n",
        "DataFrame_02 = pd.DataFrame( Dicionario_02, index=Label_02 )\n",
        "DataFrame_03 = pd.DataFrame( Dicionario_03, index=Label_03 )\n"
      ],
      "execution_count": null,
      "outputs": []
    },
    {
      "cell_type": "code",
      "metadata": {
        "colab": {
          "base_uri": "https://localhost:8080/",
          "height": 307
        },
        "id": "1ELP9CJ9lkd9",
        "outputId": "55789572-6f9b-4db6-feb7-305016ae15be"
      },
      "source": [
        "pd.concat(\n",
        "  [ DataFrame_01, DataFrame_02, DataFrame_03 ]\n",
        ")"
      ],
      "execution_count": null,
      "outputs": [
        {
          "output_type": "execute_result",
          "data": {
            "text/html": [
              "<div>\n",
              "<style scoped>\n",
              "    .dataframe tbody tr th:only-of-type {\n",
              "        vertical-align: middle;\n",
              "    }\n",
              "\n",
              "    .dataframe tbody tr th {\n",
              "        vertical-align: top;\n",
              "    }\n",
              "\n",
              "    .dataframe thead th {\n",
              "        text-align: right;\n",
              "    }\n",
              "</style>\n",
              "<table border=\"1\" class=\"dataframe\">\n",
              "  <thead>\n",
              "    <tr style=\"text-align: right;\">\n",
              "      <th></th>\n",
              "      <th>A</th>\n",
              "      <th>B</th>\n",
              "      <th>C</th>\n",
              "      <th>Chave</th>\n",
              "    </tr>\n",
              "  </thead>\n",
              "  <tbody>\n",
              "    <tr>\n",
              "      <th>1º Linha</th>\n",
              "      <td>1</td>\n",
              "      <td>-32</td>\n",
              "      <td>60</td>\n",
              "      <td>AA</td>\n",
              "    </tr>\n",
              "    <tr>\n",
              "      <th>2º Linha</th>\n",
              "      <td>2</td>\n",
              "      <td>-21</td>\n",
              "      <td>10</td>\n",
              "      <td>BB</td>\n",
              "    </tr>\n",
              "    <tr>\n",
              "      <th>3º Linha</th>\n",
              "      <td>3</td>\n",
              "      <td>-15</td>\n",
              "      <td>20</td>\n",
              "      <td>CC</td>\n",
              "    </tr>\n",
              "    <tr>\n",
              "      <th>4º Linha</th>\n",
              "      <td>6</td>\n",
              "      <td>-39</td>\n",
              "      <td>1000</td>\n",
              "      <td>AA</td>\n",
              "    </tr>\n",
              "    <tr>\n",
              "      <th>5º Linha</th>\n",
              "      <td>7</td>\n",
              "      <td>-28</td>\n",
              "      <td>10</td>\n",
              "      <td>BB</td>\n",
              "    </tr>\n",
              "    <tr>\n",
              "      <th>6º Linha</th>\n",
              "      <td>8</td>\n",
              "      <td>-17</td>\n",
              "      <td>60</td>\n",
              "      <td>CC</td>\n",
              "    </tr>\n",
              "    <tr>\n",
              "      <th>7º Linha</th>\n",
              "      <td>11</td>\n",
              "      <td>-39</td>\n",
              "      <td>30</td>\n",
              "      <td>AA</td>\n",
              "    </tr>\n",
              "    <tr>\n",
              "      <th>8º Linha</th>\n",
              "      <td>12</td>\n",
              "      <td>-22</td>\n",
              "      <td>10</td>\n",
              "      <td>BB</td>\n",
              "    </tr>\n",
              "    <tr>\n",
              "      <th>9º Linha</th>\n",
              "      <td>13</td>\n",
              "      <td>-11</td>\n",
              "      <td>20</td>\n",
              "      <td>CC</td>\n",
              "    </tr>\n",
              "  </tbody>\n",
              "</table>\n",
              "</div>"
            ],
            "text/plain": [
              "           A   B     C Chave\n",
              "1º Linha   1 -32    60    AA\n",
              "2º Linha   2 -21    10    BB\n",
              "3º Linha   3 -15    20    CC\n",
              "4º Linha   6 -39  1000    AA\n",
              "5º Linha   7 -28    10    BB\n",
              "6º Linha   8 -17    60    CC\n",
              "7º Linha  11 -39    30    AA\n",
              "8º Linha  12 -22    10    BB\n",
              "9º Linha  13 -11    20    CC"
            ]
          },
          "metadata": {
            "tags": []
          },
          "execution_count": 110
        }
      ]
    },
    {
      "cell_type": "code",
      "metadata": {
        "colab": {
          "base_uri": "https://localhost:8080/",
          "height": 133
        },
        "id": "9PgtCgkGlkn8",
        "outputId": "c3e323ae-9b9c-4dbd-ec77-f294c29a7329"
      },
      "source": [
        "pd.merge(\n",
        "  DataFrame_01, DataFrame_02, how='inner', on='Chave'\n",
        ")"
      ],
      "execution_count": null,
      "outputs": [
        {
          "output_type": "execute_result",
          "data": {
            "text/html": [
              "<div>\n",
              "<style scoped>\n",
              "    .dataframe tbody tr th:only-of-type {\n",
              "        vertical-align: middle;\n",
              "    }\n",
              "\n",
              "    .dataframe tbody tr th {\n",
              "        vertical-align: top;\n",
              "    }\n",
              "\n",
              "    .dataframe thead th {\n",
              "        text-align: right;\n",
              "    }\n",
              "</style>\n",
              "<table border=\"1\" class=\"dataframe\">\n",
              "  <thead>\n",
              "    <tr style=\"text-align: right;\">\n",
              "      <th></th>\n",
              "      <th>A_x</th>\n",
              "      <th>B_x</th>\n",
              "      <th>C_x</th>\n",
              "      <th>Chave</th>\n",
              "      <th>A_y</th>\n",
              "      <th>B_y</th>\n",
              "      <th>C_y</th>\n",
              "    </tr>\n",
              "  </thead>\n",
              "  <tbody>\n",
              "    <tr>\n",
              "      <th>0</th>\n",
              "      <td>1</td>\n",
              "      <td>-32</td>\n",
              "      <td>60</td>\n",
              "      <td>AA</td>\n",
              "      <td>6</td>\n",
              "      <td>-39</td>\n",
              "      <td>1000</td>\n",
              "    </tr>\n",
              "    <tr>\n",
              "      <th>1</th>\n",
              "      <td>2</td>\n",
              "      <td>-21</td>\n",
              "      <td>10</td>\n",
              "      <td>BB</td>\n",
              "      <td>7</td>\n",
              "      <td>-28</td>\n",
              "      <td>10</td>\n",
              "    </tr>\n",
              "    <tr>\n",
              "      <th>2</th>\n",
              "      <td>3</td>\n",
              "      <td>-15</td>\n",
              "      <td>20</td>\n",
              "      <td>CC</td>\n",
              "      <td>8</td>\n",
              "      <td>-17</td>\n",
              "      <td>60</td>\n",
              "    </tr>\n",
              "  </tbody>\n",
              "</table>\n",
              "</div>"
            ],
            "text/plain": [
              "   A_x  B_x  C_x Chave  A_y  B_y   C_y\n",
              "0    1  -32   60    AA    6  -39  1000\n",
              "1    2  -21   10    BB    7  -28    10\n",
              "2    3  -15   20    CC    8  -17    60"
            ]
          },
          "metadata": {
            "tags": []
          },
          "execution_count": 112
        }
      ]
    },
    {
      "cell_type": "code",
      "metadata": {
        "colab": {
          "base_uri": "https://localhost:8080/",
          "height": 133
        },
        "id": "sdUW97gOrNaY",
        "outputId": "87fd3fb8-6d1e-4a57-a19d-4159d5fce3cb"
      },
      "source": [
        "# Criando varios dicionarios\n",
        "Dicionario_01 = {'A' : [1, 2, 3],\n",
        "                 'B' : [-32, -21, -15],\n",
        "                 'C' : [60, 10, 20] }\n",
        "\n",
        "Dicionario_02 = {'D' : [6, 7, 8],\n",
        "                 'E' : [-39, -28, -17],\n",
        "                 'F' : [1000, 10, 60] }\n",
        "\n",
        "# Criando varias listas para serem os labels\n",
        "Label_01 = ['1º Linha', '2º Linha', '3º Linha']\n",
        "\n",
        "\n",
        "# Estruturando as bases de dados\n",
        "DataFrame_01 = pd.DataFrame( Dicionario_01, index=Label_01 )\n",
        "DataFrame_02 = pd.DataFrame( Dicionario_02, index=Label_01 )\n",
        "\n",
        "# Aplicando a função join\n",
        "DataFrame_01.join(DataFrame_02)"
      ],
      "execution_count": null,
      "outputs": [
        {
          "output_type": "execute_result",
          "data": {
            "text/html": [
              "<div>\n",
              "<style scoped>\n",
              "    .dataframe tbody tr th:only-of-type {\n",
              "        vertical-align: middle;\n",
              "    }\n",
              "\n",
              "    .dataframe tbody tr th {\n",
              "        vertical-align: top;\n",
              "    }\n",
              "\n",
              "    .dataframe thead th {\n",
              "        text-align: right;\n",
              "    }\n",
              "</style>\n",
              "<table border=\"1\" class=\"dataframe\">\n",
              "  <thead>\n",
              "    <tr style=\"text-align: right;\">\n",
              "      <th></th>\n",
              "      <th>A</th>\n",
              "      <th>B</th>\n",
              "      <th>C</th>\n",
              "      <th>D</th>\n",
              "      <th>E</th>\n",
              "      <th>F</th>\n",
              "    </tr>\n",
              "  </thead>\n",
              "  <tbody>\n",
              "    <tr>\n",
              "      <th>1º Linha</th>\n",
              "      <td>1</td>\n",
              "      <td>-32</td>\n",
              "      <td>60</td>\n",
              "      <td>6</td>\n",
              "      <td>-39</td>\n",
              "      <td>1000</td>\n",
              "    </tr>\n",
              "    <tr>\n",
              "      <th>2º Linha</th>\n",
              "      <td>2</td>\n",
              "      <td>-21</td>\n",
              "      <td>10</td>\n",
              "      <td>7</td>\n",
              "      <td>-28</td>\n",
              "      <td>10</td>\n",
              "    </tr>\n",
              "    <tr>\n",
              "      <th>3º Linha</th>\n",
              "      <td>3</td>\n",
              "      <td>-15</td>\n",
              "      <td>20</td>\n",
              "      <td>8</td>\n",
              "      <td>-17</td>\n",
              "      <td>60</td>\n",
              "    </tr>\n",
              "  </tbody>\n",
              "</table>\n",
              "</div>"
            ],
            "text/plain": [
              "          A   B   C  D   E     F\n",
              "1º Linha  1 -32  60  6 -39  1000\n",
              "2º Linha  2 -21  10  7 -28    10\n",
              "3º Linha  3 -15  20  8 -17    60"
            ]
          },
          "metadata": {
            "tags": []
          },
          "execution_count": 121
        }
      ]
    },
    {
      "cell_type": "code",
      "metadata": {
        "colab": {
          "base_uri": "https://localhost:8080/",
          "height": 133
        },
        "id": "4CttiZ2HlkuK",
        "outputId": "f9ec8f17-7a3a-49cf-84f0-a5542f695389"
      },
      "source": [],
      "execution_count": null,
      "outputs": [
        {
          "output_type": "execute_result",
          "data": {
            "text/html": [
              "<div>\n",
              "<style scoped>\n",
              "    .dataframe tbody tr th:only-of-type {\n",
              "        vertical-align: middle;\n",
              "    }\n",
              "\n",
              "    .dataframe tbody tr th {\n",
              "        vertical-align: top;\n",
              "    }\n",
              "\n",
              "    .dataframe thead th {\n",
              "        text-align: right;\n",
              "    }\n",
              "</style>\n",
              "<table border=\"1\" class=\"dataframe\">\n",
              "  <thead>\n",
              "    <tr style=\"text-align: right;\">\n",
              "      <th></th>\n",
              "      <th>A</th>\n",
              "      <th>B</th>\n",
              "      <th>C</th>\n",
              "      <th>D</th>\n",
              "      <th>E</th>\n",
              "      <th>F</th>\n",
              "    </tr>\n",
              "  </thead>\n",
              "  <tbody>\n",
              "    <tr>\n",
              "      <th>1º Linha</th>\n",
              "      <td>1</td>\n",
              "      <td>-32</td>\n",
              "      <td>60</td>\n",
              "      <td>6</td>\n",
              "      <td>-39</td>\n",
              "      <td>1000</td>\n",
              "    </tr>\n",
              "    <tr>\n",
              "      <th>2º Linha</th>\n",
              "      <td>2</td>\n",
              "      <td>-21</td>\n",
              "      <td>10</td>\n",
              "      <td>7</td>\n",
              "      <td>-28</td>\n",
              "      <td>10</td>\n",
              "    </tr>\n",
              "    <tr>\n",
              "      <th>3º Linha</th>\n",
              "      <td>3</td>\n",
              "      <td>-15</td>\n",
              "      <td>20</td>\n",
              "      <td>8</td>\n",
              "      <td>-17</td>\n",
              "      <td>60</td>\n",
              "    </tr>\n",
              "  </tbody>\n",
              "</table>\n",
              "</div>"
            ],
            "text/plain": [
              "          A   B   C  D   E     F\n",
              "1º Linha  1 -32  60  6 -39  1000\n",
              "2º Linha  2 -21  10  7 -28    10\n",
              "3º Linha  3 -15  20  8 -17    60"
            ]
          },
          "metadata": {
            "tags": []
          },
          "execution_count": 119
        }
      ]
    },
    {
      "cell_type": "code",
      "metadata": {
        "id": "NGkqFF58hZ8X"
      },
      "source": [],
      "execution_count": null,
      "outputs": []
    },
    {
      "cell_type": "code",
      "metadata": {
        "id": "qAPH5nmVKdjt",
        "colab": {
          "base_uri": "https://localhost:8080/"
        },
        "outputId": "286a9da2-a951-4c00-d8a0-460b13751703"
      },
      "source": [
        " Dados = pd.Series( [1,3,5,np.nan,6,8] )\n",
        " Dados"
      ],
      "execution_count": null,
      "outputs": [
        {
          "output_type": "execute_result",
          "data": {
            "text/plain": [
              "0    1.0\n",
              "1    3.0\n",
              "2    5.0\n",
              "3    NaN\n",
              "4    6.0\n",
              "5    8.0\n",
              "dtype: float64"
            ]
          },
          "metadata": {
            "tags": []
          },
          "execution_count": 33
        }
      ]
    },
    {
      "cell_type": "code",
      "metadata": {
        "id": "PKX_K2ONCmeC"
      },
      "source": [],
      "execution_count": null,
      "outputs": []
    },
    {
      "cell_type": "code",
      "metadata": {
        "id": "Q9digJPVKy1R",
        "colab": {
          "base_uri": "https://localhost:8080/"
        },
        "outputId": "000e812b-e5b4-43e8-cef0-ede82575ff27"
      },
      "source": [
        "Lista_Datas = pd.date_range('20210101', periods=5)\n",
        "Lista_Datas"
      ],
      "execution_count": null,
      "outputs": [
        {
          "output_type": "execute_result",
          "data": {
            "text/plain": [
              "DatetimeIndex(['2021-01-01', '2021-01-02', '2021-01-03', '2021-01-04',\n",
              "               '2021-01-05'],\n",
              "              dtype='datetime64[ns]', freq='D')"
            ]
          },
          "metadata": {
            "tags": []
          },
          "execution_count": 3
        }
      ]
    },
    {
      "cell_type": "code",
      "metadata": {
        "id": "yc1T6kIEK5Q3",
        "colab": {
          "base_uri": "https://localhost:8080/",
          "height": 191
        },
        "outputId": "0064a294-c72d-4869-bcfc-374a8952be73"
      },
      "source": [
        "DataFrame_01 = pd.DataFrame( np.random.randn(5,4),\n",
        "                  index=Lista_Datas,\n",
        "                  columns=list( ['A','B','C','D']) )\n",
        "DataFrame_01"
      ],
      "execution_count": null,
      "outputs": [
        {
          "output_type": "execute_result",
          "data": {
            "text/html": [
              "<div>\n",
              "<style scoped>\n",
              "    .dataframe tbody tr th:only-of-type {\n",
              "        vertical-align: middle;\n",
              "    }\n",
              "\n",
              "    .dataframe tbody tr th {\n",
              "        vertical-align: top;\n",
              "    }\n",
              "\n",
              "    .dataframe thead th {\n",
              "        text-align: right;\n",
              "    }\n",
              "</style>\n",
              "<table border=\"1\" class=\"dataframe\">\n",
              "  <thead>\n",
              "    <tr style=\"text-align: right;\">\n",
              "      <th></th>\n",
              "      <th>A</th>\n",
              "      <th>B</th>\n",
              "      <th>C</th>\n",
              "      <th>D</th>\n",
              "    </tr>\n",
              "  </thead>\n",
              "  <tbody>\n",
              "    <tr>\n",
              "      <th>2021-01-01</th>\n",
              "      <td>1.189776</td>\n",
              "      <td>-1.188419</td>\n",
              "      <td>1.221394</td>\n",
              "      <td>-1.727486</td>\n",
              "    </tr>\n",
              "    <tr>\n",
              "      <th>2021-01-02</th>\n",
              "      <td>1.836365</td>\n",
              "      <td>0.409810</td>\n",
              "      <td>-0.834335</td>\n",
              "      <td>1.467141</td>\n",
              "    </tr>\n",
              "    <tr>\n",
              "      <th>2021-01-03</th>\n",
              "      <td>-0.078459</td>\n",
              "      <td>0.981437</td>\n",
              "      <td>1.063351</td>\n",
              "      <td>-0.071149</td>\n",
              "    </tr>\n",
              "    <tr>\n",
              "      <th>2021-01-04</th>\n",
              "      <td>-0.423498</td>\n",
              "      <td>-0.874464</td>\n",
              "      <td>-0.976037</td>\n",
              "      <td>-0.912932</td>\n",
              "    </tr>\n",
              "    <tr>\n",
              "      <th>2021-01-05</th>\n",
              "      <td>1.402493</td>\n",
              "      <td>0.885791</td>\n",
              "      <td>0.708346</td>\n",
              "      <td>-1.331700</td>\n",
              "    </tr>\n",
              "  </tbody>\n",
              "</table>\n",
              "</div>"
            ],
            "text/plain": [
              "                   A         B         C         D\n",
              "2021-01-01  1.189776 -1.188419  1.221394 -1.727486\n",
              "2021-01-02  1.836365  0.409810 -0.834335  1.467141\n",
              "2021-01-03 -0.078459  0.981437  1.063351 -0.071149\n",
              "2021-01-04 -0.423498 -0.874464 -0.976037 -0.912932\n",
              "2021-01-05  1.402493  0.885791  0.708346 -1.331700"
            ]
          },
          "metadata": {
            "tags": []
          },
          "execution_count": 4
        }
      ]
    },
    {
      "cell_type": "code",
      "metadata": {
        "id": "KzrgIgahMV9I",
        "colab": {
          "base_uri": "https://localhost:8080/",
          "height": 162
        },
        "outputId": "0585db5a-5cce-4fdc-bba8-b6408a072bbc"
      },
      "source": [
        "Dicionario = {\n",
        "    'A' : 1,\n",
        "    'B' : pd.Timestamp('20210102'),\n",
        "    'C' : pd.Series(1, index=list(range(4)), dtype='float32'),\n",
        "    'D' : np.array([3] * 4, dtype='int32'),\n",
        "    'E' : pd.Categorical( [\"Email\", \"Telefone\", \"Celular\", \"País\"] ),\n",
        "    'F' : pd.Categorical( [\"email@.email.com\", \"(11)4455-4455\", \"(11)922332233\", \"Brasil\"] ),\n",
        "}\n",
        "\n",
        "DataFrame_02 = pd.DataFrame( Dicionario )\n",
        "DataFrame_02"
      ],
      "execution_count": null,
      "outputs": [
        {
          "output_type": "execute_result",
          "data": {
            "text/html": [
              "<div>\n",
              "<style scoped>\n",
              "    .dataframe tbody tr th:only-of-type {\n",
              "        vertical-align: middle;\n",
              "    }\n",
              "\n",
              "    .dataframe tbody tr th {\n",
              "        vertical-align: top;\n",
              "    }\n",
              "\n",
              "    .dataframe thead th {\n",
              "        text-align: right;\n",
              "    }\n",
              "</style>\n",
              "<table border=\"1\" class=\"dataframe\">\n",
              "  <thead>\n",
              "    <tr style=\"text-align: right;\">\n",
              "      <th></th>\n",
              "      <th>A</th>\n",
              "      <th>B</th>\n",
              "      <th>C</th>\n",
              "      <th>D</th>\n",
              "      <th>E</th>\n",
              "      <th>F</th>\n",
              "    </tr>\n",
              "  </thead>\n",
              "  <tbody>\n",
              "    <tr>\n",
              "      <th>0</th>\n",
              "      <td>1</td>\n",
              "      <td>2021-01-02</td>\n",
              "      <td>1.0</td>\n",
              "      <td>3</td>\n",
              "      <td>Email</td>\n",
              "      <td>email@.email.com</td>\n",
              "    </tr>\n",
              "    <tr>\n",
              "      <th>1</th>\n",
              "      <td>1</td>\n",
              "      <td>2021-01-02</td>\n",
              "      <td>1.0</td>\n",
              "      <td>3</td>\n",
              "      <td>Telefone</td>\n",
              "      <td>(11)4455-4455</td>\n",
              "    </tr>\n",
              "    <tr>\n",
              "      <th>2</th>\n",
              "      <td>1</td>\n",
              "      <td>2021-01-02</td>\n",
              "      <td>1.0</td>\n",
              "      <td>3</td>\n",
              "      <td>Celular</td>\n",
              "      <td>(11)922332233</td>\n",
              "    </tr>\n",
              "    <tr>\n",
              "      <th>3</th>\n",
              "      <td>1</td>\n",
              "      <td>2021-01-02</td>\n",
              "      <td>1.0</td>\n",
              "      <td>3</td>\n",
              "      <td>País</td>\n",
              "      <td>Brasil</td>\n",
              "    </tr>\n",
              "  </tbody>\n",
              "</table>\n",
              "</div>"
            ],
            "text/plain": [
              "   A          B    C  D         E                 F\n",
              "0  1 2021-01-02  1.0  3     Email  email@.email.com\n",
              "1  1 2021-01-02  1.0  3  Telefone     (11)4455-4455\n",
              "2  1 2021-01-02  1.0  3   Celular     (11)922332233\n",
              "3  1 2021-01-02  1.0  3      País            Brasil"
            ]
          },
          "metadata": {
            "tags": []
          },
          "execution_count": 5
        }
      ]
    },
    {
      "cell_type": "code",
      "metadata": {
        "id": "YbdLjHNbNDbI",
        "colab": {
          "base_uri": "https://localhost:8080/"
        },
        "outputId": "64bb4099-c6fd-4185-8d28-eec806d914ff"
      },
      "source": [
        "DataFrame_02.dtypes"
      ],
      "execution_count": null,
      "outputs": [
        {
          "output_type": "execute_result",
          "data": {
            "text/plain": [
              "A             int64\n",
              "B    datetime64[ns]\n",
              "C           float32\n",
              "D             int32\n",
              "E          category\n",
              "F          category\n",
              "dtype: object"
            ]
          },
          "metadata": {
            "tags": []
          },
          "execution_count": 6
        }
      ]
    },
    {
      "cell_type": "code",
      "metadata": {
        "id": "_UaMSZNnOhti",
        "colab": {
          "base_uri": "https://localhost:8080/",
          "height": 162
        },
        "outputId": "893029fc-0767-4fc5-83d3-06ab8b793727"
      },
      "source": [
        "DataFrame_02.head()"
      ],
      "execution_count": null,
      "outputs": [
        {
          "output_type": "execute_result",
          "data": {
            "text/html": [
              "<div>\n",
              "<style scoped>\n",
              "    .dataframe tbody tr th:only-of-type {\n",
              "        vertical-align: middle;\n",
              "    }\n",
              "\n",
              "    .dataframe tbody tr th {\n",
              "        vertical-align: top;\n",
              "    }\n",
              "\n",
              "    .dataframe thead th {\n",
              "        text-align: right;\n",
              "    }\n",
              "</style>\n",
              "<table border=\"1\" class=\"dataframe\">\n",
              "  <thead>\n",
              "    <tr style=\"text-align: right;\">\n",
              "      <th></th>\n",
              "      <th>A</th>\n",
              "      <th>B</th>\n",
              "      <th>C</th>\n",
              "      <th>D</th>\n",
              "      <th>E</th>\n",
              "      <th>F</th>\n",
              "    </tr>\n",
              "  </thead>\n",
              "  <tbody>\n",
              "    <tr>\n",
              "      <th>0</th>\n",
              "      <td>1</td>\n",
              "      <td>2021-01-02</td>\n",
              "      <td>1.0</td>\n",
              "      <td>3</td>\n",
              "      <td>Email</td>\n",
              "      <td>email@.email.com</td>\n",
              "    </tr>\n",
              "    <tr>\n",
              "      <th>1</th>\n",
              "      <td>1</td>\n",
              "      <td>2021-01-02</td>\n",
              "      <td>1.0</td>\n",
              "      <td>3</td>\n",
              "      <td>Telefone</td>\n",
              "      <td>(11)4455-4455</td>\n",
              "    </tr>\n",
              "    <tr>\n",
              "      <th>2</th>\n",
              "      <td>1</td>\n",
              "      <td>2021-01-02</td>\n",
              "      <td>1.0</td>\n",
              "      <td>3</td>\n",
              "      <td>Celular</td>\n",
              "      <td>(11)922332233</td>\n",
              "    </tr>\n",
              "    <tr>\n",
              "      <th>3</th>\n",
              "      <td>1</td>\n",
              "      <td>2021-01-02</td>\n",
              "      <td>1.0</td>\n",
              "      <td>3</td>\n",
              "      <td>País</td>\n",
              "      <td>Brasil</td>\n",
              "    </tr>\n",
              "  </tbody>\n",
              "</table>\n",
              "</div>"
            ],
            "text/plain": [
              "   A          B    C  D         E                 F\n",
              "0  1 2021-01-02  1.0  3     Email  email@.email.com\n",
              "1  1 2021-01-02  1.0  3  Telefone     (11)4455-4455\n",
              "2  1 2021-01-02  1.0  3   Celular     (11)922332233\n",
              "3  1 2021-01-02  1.0  3      País            Brasil"
            ]
          },
          "metadata": {
            "tags": []
          },
          "execution_count": 7
        }
      ]
    },
    {
      "cell_type": "code",
      "metadata": {
        "id": "OwPI1YiqOykT",
        "colab": {
          "base_uri": "https://localhost:8080/",
          "height": 104
        },
        "outputId": "123736dc-b74e-44ca-ae0c-42e547f04910"
      },
      "source": [
        "DataFrame_02.tail(2)"
      ],
      "execution_count": null,
      "outputs": [
        {
          "output_type": "execute_result",
          "data": {
            "text/html": [
              "<div>\n",
              "<style scoped>\n",
              "    .dataframe tbody tr th:only-of-type {\n",
              "        vertical-align: middle;\n",
              "    }\n",
              "\n",
              "    .dataframe tbody tr th {\n",
              "        vertical-align: top;\n",
              "    }\n",
              "\n",
              "    .dataframe thead th {\n",
              "        text-align: right;\n",
              "    }\n",
              "</style>\n",
              "<table border=\"1\" class=\"dataframe\">\n",
              "  <thead>\n",
              "    <tr style=\"text-align: right;\">\n",
              "      <th></th>\n",
              "      <th>A</th>\n",
              "      <th>B</th>\n",
              "      <th>C</th>\n",
              "      <th>D</th>\n",
              "      <th>E</th>\n",
              "      <th>F</th>\n",
              "    </tr>\n",
              "  </thead>\n",
              "  <tbody>\n",
              "    <tr>\n",
              "      <th>2</th>\n",
              "      <td>1</td>\n",
              "      <td>2021-01-02</td>\n",
              "      <td>1.0</td>\n",
              "      <td>3</td>\n",
              "      <td>Celular</td>\n",
              "      <td>(11)922332233</td>\n",
              "    </tr>\n",
              "    <tr>\n",
              "      <th>3</th>\n",
              "      <td>1</td>\n",
              "      <td>2021-01-02</td>\n",
              "      <td>1.0</td>\n",
              "      <td>3</td>\n",
              "      <td>País</td>\n",
              "      <td>Brasil</td>\n",
              "    </tr>\n",
              "  </tbody>\n",
              "</table>\n",
              "</div>"
            ],
            "text/plain": [
              "   A          B    C  D        E              F\n",
              "2  1 2021-01-02  1.0  3  Celular  (11)922332233\n",
              "3  1 2021-01-02  1.0  3     País         Brasil"
            ]
          },
          "metadata": {
            "tags": []
          },
          "execution_count": 8
        }
      ]
    },
    {
      "cell_type": "code",
      "metadata": {
        "id": "vwcMG_elO0VQ",
        "colab": {
          "base_uri": "https://localhost:8080/"
        },
        "outputId": "7cfc1175-2683-4919-ee11-3e8bd995de75"
      },
      "source": [
        "DataFrame_02.index"
      ],
      "execution_count": null,
      "outputs": [
        {
          "output_type": "execute_result",
          "data": {
            "text/plain": [
              "Int64Index([0, 1, 2, 3], dtype='int64')"
            ]
          },
          "metadata": {
            "tags": []
          },
          "execution_count": 9
        }
      ]
    },
    {
      "cell_type": "code",
      "metadata": {
        "id": "tcvyT-VSO4OP",
        "colab": {
          "base_uri": "https://localhost:8080/"
        },
        "outputId": "6f715d64-809a-4f2b-f1a2-fd2e4db1df2b"
      },
      "source": [
        "DataFrame_02.columns"
      ],
      "execution_count": null,
      "outputs": [
        {
          "output_type": "execute_result",
          "data": {
            "text/plain": [
              "Index(['A', 'B', 'C', 'D', 'E', 'F'], dtype='object')"
            ]
          },
          "metadata": {
            "tags": []
          },
          "execution_count": 10
        }
      ]
    },
    {
      "cell_type": "code",
      "metadata": {
        "id": "AhVgKPyFO6L6",
        "colab": {
          "base_uri": "https://localhost:8080/"
        },
        "outputId": "7cacbc5a-600e-42af-84d7-9d4461098190"
      },
      "source": [
        "DataFrame_02.values"
      ],
      "execution_count": null,
      "outputs": [
        {
          "output_type": "execute_result",
          "data": {
            "text/plain": [
              "array([[1, Timestamp('2021-01-02 00:00:00'), 1.0, 3, 'Email',\n",
              "        'email@.email.com'],\n",
              "       [1, Timestamp('2021-01-02 00:00:00'), 1.0, 3, 'Telefone',\n",
              "        '(11)4455-4455'],\n",
              "       [1, Timestamp('2021-01-02 00:00:00'), 1.0, 3, 'Celular',\n",
              "        '(11)922332233'],\n",
              "       [1, Timestamp('2021-01-02 00:00:00'), 1.0, 3, 'País', 'Brasil']],\n",
              "      dtype=object)"
            ]
          },
          "metadata": {
            "tags": []
          },
          "execution_count": 11
        }
      ]
    },
    {
      "cell_type": "code",
      "metadata": {
        "id": "BumOTyC0O8J0",
        "colab": {
          "base_uri": "https://localhost:8080/",
          "height": 278
        },
        "outputId": "cb728ca2-7d2f-43a2-846b-3e646b0f1360"
      },
      "source": [
        "DataFrame_02.describe()"
      ],
      "execution_count": null,
      "outputs": [
        {
          "output_type": "execute_result",
          "data": {
            "text/html": [
              "<div>\n",
              "<style scoped>\n",
              "    .dataframe tbody tr th:only-of-type {\n",
              "        vertical-align: middle;\n",
              "    }\n",
              "\n",
              "    .dataframe tbody tr th {\n",
              "        vertical-align: top;\n",
              "    }\n",
              "\n",
              "    .dataframe thead th {\n",
              "        text-align: right;\n",
              "    }\n",
              "</style>\n",
              "<table border=\"1\" class=\"dataframe\">\n",
              "  <thead>\n",
              "    <tr style=\"text-align: right;\">\n",
              "      <th></th>\n",
              "      <th>A</th>\n",
              "      <th>C</th>\n",
              "      <th>D</th>\n",
              "    </tr>\n",
              "  </thead>\n",
              "  <tbody>\n",
              "    <tr>\n",
              "      <th>count</th>\n",
              "      <td>4.0</td>\n",
              "      <td>4.0</td>\n",
              "      <td>4.0</td>\n",
              "    </tr>\n",
              "    <tr>\n",
              "      <th>mean</th>\n",
              "      <td>1.0</td>\n",
              "      <td>1.0</td>\n",
              "      <td>3.0</td>\n",
              "    </tr>\n",
              "    <tr>\n",
              "      <th>std</th>\n",
              "      <td>0.0</td>\n",
              "      <td>0.0</td>\n",
              "      <td>0.0</td>\n",
              "    </tr>\n",
              "    <tr>\n",
              "      <th>min</th>\n",
              "      <td>1.0</td>\n",
              "      <td>1.0</td>\n",
              "      <td>3.0</td>\n",
              "    </tr>\n",
              "    <tr>\n",
              "      <th>25%</th>\n",
              "      <td>1.0</td>\n",
              "      <td>1.0</td>\n",
              "      <td>3.0</td>\n",
              "    </tr>\n",
              "    <tr>\n",
              "      <th>50%</th>\n",
              "      <td>1.0</td>\n",
              "      <td>1.0</td>\n",
              "      <td>3.0</td>\n",
              "    </tr>\n",
              "    <tr>\n",
              "      <th>75%</th>\n",
              "      <td>1.0</td>\n",
              "      <td>1.0</td>\n",
              "      <td>3.0</td>\n",
              "    </tr>\n",
              "    <tr>\n",
              "      <th>max</th>\n",
              "      <td>1.0</td>\n",
              "      <td>1.0</td>\n",
              "      <td>3.0</td>\n",
              "    </tr>\n",
              "  </tbody>\n",
              "</table>\n",
              "</div>"
            ],
            "text/plain": [
              "         A    C    D\n",
              "count  4.0  4.0  4.0\n",
              "mean   1.0  1.0  3.0\n",
              "std    0.0  0.0  0.0\n",
              "min    1.0  1.0  3.0\n",
              "25%    1.0  1.0  3.0\n",
              "50%    1.0  1.0  3.0\n",
              "75%    1.0  1.0  3.0\n",
              "max    1.0  1.0  3.0"
            ]
          },
          "metadata": {
            "tags": []
          },
          "execution_count": 12
        }
      ]
    },
    {
      "cell_type": "code",
      "metadata": {
        "id": "O1lycNTgO-tM",
        "colab": {
          "base_uri": "https://localhost:8080/",
          "height": 191
        },
        "outputId": "1273687c-6da9-4a28-df5b-cf603947db79"
      },
      "source": [
        "DataFrame_01.sort_index(axis=1, ascending=False)"
      ],
      "execution_count": null,
      "outputs": [
        {
          "output_type": "execute_result",
          "data": {
            "text/html": [
              "<div>\n",
              "<style scoped>\n",
              "    .dataframe tbody tr th:only-of-type {\n",
              "        vertical-align: middle;\n",
              "    }\n",
              "\n",
              "    .dataframe tbody tr th {\n",
              "        vertical-align: top;\n",
              "    }\n",
              "\n",
              "    .dataframe thead th {\n",
              "        text-align: right;\n",
              "    }\n",
              "</style>\n",
              "<table border=\"1\" class=\"dataframe\">\n",
              "  <thead>\n",
              "    <tr style=\"text-align: right;\">\n",
              "      <th></th>\n",
              "      <th>D</th>\n",
              "      <th>C</th>\n",
              "      <th>B</th>\n",
              "      <th>A</th>\n",
              "    </tr>\n",
              "  </thead>\n",
              "  <tbody>\n",
              "    <tr>\n",
              "      <th>2021-01-01</th>\n",
              "      <td>-1.727486</td>\n",
              "      <td>1.221394</td>\n",
              "      <td>-1.188419</td>\n",
              "      <td>1.189776</td>\n",
              "    </tr>\n",
              "    <tr>\n",
              "      <th>2021-01-02</th>\n",
              "      <td>1.467141</td>\n",
              "      <td>-0.834335</td>\n",
              "      <td>0.409810</td>\n",
              "      <td>1.836365</td>\n",
              "    </tr>\n",
              "    <tr>\n",
              "      <th>2021-01-03</th>\n",
              "      <td>-0.071149</td>\n",
              "      <td>1.063351</td>\n",
              "      <td>0.981437</td>\n",
              "      <td>-0.078459</td>\n",
              "    </tr>\n",
              "    <tr>\n",
              "      <th>2021-01-04</th>\n",
              "      <td>-0.912932</td>\n",
              "      <td>-0.976037</td>\n",
              "      <td>-0.874464</td>\n",
              "      <td>-0.423498</td>\n",
              "    </tr>\n",
              "    <tr>\n",
              "      <th>2021-01-05</th>\n",
              "      <td>-1.331700</td>\n",
              "      <td>0.708346</td>\n",
              "      <td>0.885791</td>\n",
              "      <td>1.402493</td>\n",
              "    </tr>\n",
              "  </tbody>\n",
              "</table>\n",
              "</div>"
            ],
            "text/plain": [
              "                   D         C         B         A\n",
              "2021-01-01 -1.727486  1.221394 -1.188419  1.189776\n",
              "2021-01-02  1.467141 -0.834335  0.409810  1.836365\n",
              "2021-01-03 -0.071149  1.063351  0.981437 -0.078459\n",
              "2021-01-04 -0.912932 -0.976037 -0.874464 -0.423498\n",
              "2021-01-05 -1.331700  0.708346  0.885791  1.402493"
            ]
          },
          "metadata": {
            "tags": []
          },
          "execution_count": 14
        }
      ]
    },
    {
      "cell_type": "code",
      "metadata": {
        "colab": {
          "base_uri": "https://localhost:8080/",
          "height": 162
        },
        "id": "lGEcRYIO8F_z",
        "outputId": "c866ce8d-2d7e-470f-eaca-6c5bf5d7ab2b"
      },
      "source": [
        "DataFrame_02.sort_values(by='E')"
      ],
      "execution_count": null,
      "outputs": [
        {
          "output_type": "execute_result",
          "data": {
            "text/html": [
              "<div>\n",
              "<style scoped>\n",
              "    .dataframe tbody tr th:only-of-type {\n",
              "        vertical-align: middle;\n",
              "    }\n",
              "\n",
              "    .dataframe tbody tr th {\n",
              "        vertical-align: top;\n",
              "    }\n",
              "\n",
              "    .dataframe thead th {\n",
              "        text-align: right;\n",
              "    }\n",
              "</style>\n",
              "<table border=\"1\" class=\"dataframe\">\n",
              "  <thead>\n",
              "    <tr style=\"text-align: right;\">\n",
              "      <th></th>\n",
              "      <th>A</th>\n",
              "      <th>B</th>\n",
              "      <th>C</th>\n",
              "      <th>D</th>\n",
              "      <th>E</th>\n",
              "      <th>F</th>\n",
              "    </tr>\n",
              "  </thead>\n",
              "  <tbody>\n",
              "    <tr>\n",
              "      <th>2</th>\n",
              "      <td>1</td>\n",
              "      <td>2021-01-02</td>\n",
              "      <td>1.0</td>\n",
              "      <td>3</td>\n",
              "      <td>Celular</td>\n",
              "      <td>(11)922332233</td>\n",
              "    </tr>\n",
              "    <tr>\n",
              "      <th>0</th>\n",
              "      <td>1</td>\n",
              "      <td>2021-01-02</td>\n",
              "      <td>1.0</td>\n",
              "      <td>3</td>\n",
              "      <td>Email</td>\n",
              "      <td>email@.email.com</td>\n",
              "    </tr>\n",
              "    <tr>\n",
              "      <th>3</th>\n",
              "      <td>1</td>\n",
              "      <td>2021-01-02</td>\n",
              "      <td>1.0</td>\n",
              "      <td>3</td>\n",
              "      <td>País</td>\n",
              "      <td>Brasil</td>\n",
              "    </tr>\n",
              "    <tr>\n",
              "      <th>1</th>\n",
              "      <td>1</td>\n",
              "      <td>2021-01-02</td>\n",
              "      <td>1.0</td>\n",
              "      <td>3</td>\n",
              "      <td>Telefone</td>\n",
              "      <td>(11)4455-4455</td>\n",
              "    </tr>\n",
              "  </tbody>\n",
              "</table>\n",
              "</div>"
            ],
            "text/plain": [
              "   A          B    C  D         E                 F\n",
              "2  1 2021-01-02  1.0  3   Celular     (11)922332233\n",
              "0  1 2021-01-02  1.0  3     Email  email@.email.com\n",
              "3  1 2021-01-02  1.0  3      País            Brasil\n",
              "1  1 2021-01-02  1.0  3  Telefone     (11)4455-4455"
            ]
          },
          "metadata": {
            "tags": []
          },
          "execution_count": 16
        }
      ]
    },
    {
      "cell_type": "code",
      "metadata": {
        "colab": {
          "base_uri": "https://localhost:8080/"
        },
        "id": "vDtGV_dm8Jat",
        "outputId": "9a576f8b-f6dc-4fb9-bc70-c155354e2cb4"
      },
      "source": [
        "DataFrame_01['A']"
      ],
      "execution_count": null,
      "outputs": [
        {
          "output_type": "execute_result",
          "data": {
            "text/plain": [
              "2021-01-01    1.189776\n",
              "2021-01-02    1.836365\n",
              "2021-01-03   -0.078459\n",
              "2021-01-04   -0.423498\n",
              "2021-01-05    1.402493\n",
              "Freq: D, Name: A, dtype: float64"
            ]
          },
          "metadata": {
            "tags": []
          },
          "execution_count": 17
        }
      ]
    },
    {
      "cell_type": "code",
      "metadata": {
        "colab": {
          "base_uri": "https://localhost:8080/",
          "height": 133
        },
        "id": "TfFb2ChK8QZv",
        "outputId": "bc5d05c2-df49-4ff1-9737-5b11acab5a19"
      },
      "source": [
        "DataFrame_01[0:3]"
      ],
      "execution_count": null,
      "outputs": [
        {
          "output_type": "execute_result",
          "data": {
            "text/html": [
              "<div>\n",
              "<style scoped>\n",
              "    .dataframe tbody tr th:only-of-type {\n",
              "        vertical-align: middle;\n",
              "    }\n",
              "\n",
              "    .dataframe tbody tr th {\n",
              "        vertical-align: top;\n",
              "    }\n",
              "\n",
              "    .dataframe thead th {\n",
              "        text-align: right;\n",
              "    }\n",
              "</style>\n",
              "<table border=\"1\" class=\"dataframe\">\n",
              "  <thead>\n",
              "    <tr style=\"text-align: right;\">\n",
              "      <th></th>\n",
              "      <th>A</th>\n",
              "      <th>B</th>\n",
              "      <th>C</th>\n",
              "      <th>D</th>\n",
              "    </tr>\n",
              "  </thead>\n",
              "  <tbody>\n",
              "    <tr>\n",
              "      <th>2021-01-01</th>\n",
              "      <td>1.189776</td>\n",
              "      <td>-1.188419</td>\n",
              "      <td>1.221394</td>\n",
              "      <td>-1.727486</td>\n",
              "    </tr>\n",
              "    <tr>\n",
              "      <th>2021-01-02</th>\n",
              "      <td>1.836365</td>\n",
              "      <td>0.409810</td>\n",
              "      <td>-0.834335</td>\n",
              "      <td>1.467141</td>\n",
              "    </tr>\n",
              "    <tr>\n",
              "      <th>2021-01-03</th>\n",
              "      <td>-0.078459</td>\n",
              "      <td>0.981437</td>\n",
              "      <td>1.063351</td>\n",
              "      <td>-0.071149</td>\n",
              "    </tr>\n",
              "  </tbody>\n",
              "</table>\n",
              "</div>"
            ],
            "text/plain": [
              "                   A         B         C         D\n",
              "2021-01-01  1.189776 -1.188419  1.221394 -1.727486\n",
              "2021-01-02  1.836365  0.409810 -0.834335  1.467141\n",
              "2021-01-03 -0.078459  0.981437  1.063351 -0.071149"
            ]
          },
          "metadata": {
            "tags": []
          },
          "execution_count": 18
        }
      ]
    },
    {
      "cell_type": "code",
      "metadata": {
        "colab": {
          "base_uri": "https://localhost:8080/",
          "height": 104
        },
        "id": "xE7CmXJ-8S_a",
        "outputId": "f5868cbe-ae29-4c4f-88ab-034884dfe06f"
      },
      "source": [
        "DataFrame_01['20210101':'20210102']"
      ],
      "execution_count": null,
      "outputs": [
        {
          "output_type": "execute_result",
          "data": {
            "text/html": [
              "<div>\n",
              "<style scoped>\n",
              "    .dataframe tbody tr th:only-of-type {\n",
              "        vertical-align: middle;\n",
              "    }\n",
              "\n",
              "    .dataframe tbody tr th {\n",
              "        vertical-align: top;\n",
              "    }\n",
              "\n",
              "    .dataframe thead th {\n",
              "        text-align: right;\n",
              "    }\n",
              "</style>\n",
              "<table border=\"1\" class=\"dataframe\">\n",
              "  <thead>\n",
              "    <tr style=\"text-align: right;\">\n",
              "      <th></th>\n",
              "      <th>A</th>\n",
              "      <th>B</th>\n",
              "      <th>C</th>\n",
              "      <th>D</th>\n",
              "    </tr>\n",
              "  </thead>\n",
              "  <tbody>\n",
              "    <tr>\n",
              "      <th>2021-01-01</th>\n",
              "      <td>1.189776</td>\n",
              "      <td>-1.188419</td>\n",
              "      <td>1.221394</td>\n",
              "      <td>-1.727486</td>\n",
              "    </tr>\n",
              "    <tr>\n",
              "      <th>2021-01-02</th>\n",
              "      <td>1.836365</td>\n",
              "      <td>0.409810</td>\n",
              "      <td>-0.834335</td>\n",
              "      <td>1.467141</td>\n",
              "    </tr>\n",
              "  </tbody>\n",
              "</table>\n",
              "</div>"
            ],
            "text/plain": [
              "                   A         B         C         D\n",
              "2021-01-01  1.189776 -1.188419  1.221394 -1.727486\n",
              "2021-01-02  1.836365  0.409810 -0.834335  1.467141"
            ]
          },
          "metadata": {
            "tags": []
          },
          "execution_count": 19
        }
      ]
    },
    {
      "cell_type": "code",
      "metadata": {
        "colab": {
          "base_uri": "https://localhost:8080/"
        },
        "id": "VYSGg0vl8Z99",
        "outputId": "b3cee7d0-8823-4b5e-d0d4-90185c4a613a"
      },
      "source": [
        "DataFrame_01.loc['20210101']"
      ],
      "execution_count": null,
      "outputs": [
        {
          "output_type": "execute_result",
          "data": {
            "text/plain": [
              "A    1.189776\n",
              "B   -1.188419\n",
              "C    1.221394\n",
              "D   -1.727486\n",
              "Name: 2021-01-01 00:00:00, dtype: float64"
            ]
          },
          "metadata": {
            "tags": []
          },
          "execution_count": 20
        }
      ]
    },
    {
      "cell_type": "code",
      "metadata": {
        "colab": {
          "base_uri": "https://localhost:8080/",
          "height": 191
        },
        "id": "Ao4y9eUq8e6U",
        "outputId": "85a8d172-34e2-4333-b055-7e01fa051214"
      },
      "source": [
        "DataFrame_01.loc[:,['A','B']]"
      ],
      "execution_count": null,
      "outputs": [
        {
          "output_type": "execute_result",
          "data": {
            "text/html": [
              "<div>\n",
              "<style scoped>\n",
              "    .dataframe tbody tr th:only-of-type {\n",
              "        vertical-align: middle;\n",
              "    }\n",
              "\n",
              "    .dataframe tbody tr th {\n",
              "        vertical-align: top;\n",
              "    }\n",
              "\n",
              "    .dataframe thead th {\n",
              "        text-align: right;\n",
              "    }\n",
              "</style>\n",
              "<table border=\"1\" class=\"dataframe\">\n",
              "  <thead>\n",
              "    <tr style=\"text-align: right;\">\n",
              "      <th></th>\n",
              "      <th>A</th>\n",
              "      <th>B</th>\n",
              "    </tr>\n",
              "  </thead>\n",
              "  <tbody>\n",
              "    <tr>\n",
              "      <th>2021-01-01</th>\n",
              "      <td>1.189776</td>\n",
              "      <td>-1.188419</td>\n",
              "    </tr>\n",
              "    <tr>\n",
              "      <th>2021-01-02</th>\n",
              "      <td>1.836365</td>\n",
              "      <td>0.409810</td>\n",
              "    </tr>\n",
              "    <tr>\n",
              "      <th>2021-01-03</th>\n",
              "      <td>-0.078459</td>\n",
              "      <td>0.981437</td>\n",
              "    </tr>\n",
              "    <tr>\n",
              "      <th>2021-01-04</th>\n",
              "      <td>-0.423498</td>\n",
              "      <td>-0.874464</td>\n",
              "    </tr>\n",
              "    <tr>\n",
              "      <th>2021-01-05</th>\n",
              "      <td>1.402493</td>\n",
              "      <td>0.885791</td>\n",
              "    </tr>\n",
              "  </tbody>\n",
              "</table>\n",
              "</div>"
            ],
            "text/plain": [
              "                   A         B\n",
              "2021-01-01  1.189776 -1.188419\n",
              "2021-01-02  1.836365  0.409810\n",
              "2021-01-03 -0.078459  0.981437\n",
              "2021-01-04 -0.423498 -0.874464\n",
              "2021-01-05  1.402493  0.885791"
            ]
          },
          "metadata": {
            "tags": []
          },
          "execution_count": 21
        }
      ]
    },
    {
      "cell_type": "code",
      "metadata": {
        "colab": {
          "base_uri": "https://localhost:8080/"
        },
        "id": "Pa1kEPCG8j8a",
        "outputId": "c7a6fd90-63a9-4925-8ff6-14d3dc40c289"
      },
      "source": [
        "DataFrame_01.iloc[3]"
      ],
      "execution_count": null,
      "outputs": [
        {
          "output_type": "execute_result",
          "data": {
            "text/plain": [
              "A   -0.423498\n",
              "B   -0.874464\n",
              "C   -0.976037\n",
              "D   -0.912932\n",
              "Name: 2021-01-04 00:00:00, dtype: float64"
            ]
          },
          "metadata": {
            "tags": []
          },
          "execution_count": 22
        }
      ]
    },
    {
      "cell_type": "code",
      "metadata": {
        "colab": {
          "base_uri": "https://localhost:8080/",
          "height": 104
        },
        "id": "h8gnVdTS8oFY",
        "outputId": "bede3189-0fa8-433f-991a-9961f367ad01"
      },
      "source": [
        "DataFrame_01.iloc[3:5,0:2]"
      ],
      "execution_count": null,
      "outputs": [
        {
          "output_type": "execute_result",
          "data": {
            "text/html": [
              "<div>\n",
              "<style scoped>\n",
              "    .dataframe tbody tr th:only-of-type {\n",
              "        vertical-align: middle;\n",
              "    }\n",
              "\n",
              "    .dataframe tbody tr th {\n",
              "        vertical-align: top;\n",
              "    }\n",
              "\n",
              "    .dataframe thead th {\n",
              "        text-align: right;\n",
              "    }\n",
              "</style>\n",
              "<table border=\"1\" class=\"dataframe\">\n",
              "  <thead>\n",
              "    <tr style=\"text-align: right;\">\n",
              "      <th></th>\n",
              "      <th>A</th>\n",
              "      <th>B</th>\n",
              "    </tr>\n",
              "  </thead>\n",
              "  <tbody>\n",
              "    <tr>\n",
              "      <th>2021-01-04</th>\n",
              "      <td>-0.423498</td>\n",
              "      <td>-0.874464</td>\n",
              "    </tr>\n",
              "    <tr>\n",
              "      <th>2021-01-05</th>\n",
              "      <td>1.402493</td>\n",
              "      <td>0.885791</td>\n",
              "    </tr>\n",
              "  </tbody>\n",
              "</table>\n",
              "</div>"
            ],
            "text/plain": [
              "                   A         B\n",
              "2021-01-04 -0.423498 -0.874464\n",
              "2021-01-05  1.402493  0.885791"
            ]
          },
          "metadata": {
            "tags": []
          },
          "execution_count": 23
        }
      ]
    },
    {
      "cell_type": "code",
      "metadata": {
        "colab": {
          "base_uri": "https://localhost:8080/",
          "height": 133
        },
        "id": "4jPUB5-z8sQL",
        "outputId": "a8489b8d-8655-4ff5-f388-01a841f5bf4b"
      },
      "source": [
        "DataFrame_01[ DataFrame_01.A > 0 ]"
      ],
      "execution_count": null,
      "outputs": [
        {
          "output_type": "execute_result",
          "data": {
            "text/html": [
              "<div>\n",
              "<style scoped>\n",
              "    .dataframe tbody tr th:only-of-type {\n",
              "        vertical-align: middle;\n",
              "    }\n",
              "\n",
              "    .dataframe tbody tr th {\n",
              "        vertical-align: top;\n",
              "    }\n",
              "\n",
              "    .dataframe thead th {\n",
              "        text-align: right;\n",
              "    }\n",
              "</style>\n",
              "<table border=\"1\" class=\"dataframe\">\n",
              "  <thead>\n",
              "    <tr style=\"text-align: right;\">\n",
              "      <th></th>\n",
              "      <th>A</th>\n",
              "      <th>B</th>\n",
              "      <th>C</th>\n",
              "      <th>D</th>\n",
              "    </tr>\n",
              "  </thead>\n",
              "  <tbody>\n",
              "    <tr>\n",
              "      <th>2021-01-01</th>\n",
              "      <td>1.189776</td>\n",
              "      <td>-1.188419</td>\n",
              "      <td>1.221394</td>\n",
              "      <td>-1.727486</td>\n",
              "    </tr>\n",
              "    <tr>\n",
              "      <th>2021-01-02</th>\n",
              "      <td>1.836365</td>\n",
              "      <td>0.409810</td>\n",
              "      <td>-0.834335</td>\n",
              "      <td>1.467141</td>\n",
              "    </tr>\n",
              "    <tr>\n",
              "      <th>2021-01-05</th>\n",
              "      <td>1.402493</td>\n",
              "      <td>0.885791</td>\n",
              "      <td>0.708346</td>\n",
              "      <td>-1.331700</td>\n",
              "    </tr>\n",
              "  </tbody>\n",
              "</table>\n",
              "</div>"
            ],
            "text/plain": [
              "                   A         B         C         D\n",
              "2021-01-01  1.189776 -1.188419  1.221394 -1.727486\n",
              "2021-01-02  1.836365  0.409810 -0.834335  1.467141\n",
              "2021-01-05  1.402493  0.885791  0.708346 -1.331700"
            ]
          },
          "metadata": {
            "tags": []
          },
          "execution_count": 24
        }
      ]
    },
    {
      "cell_type": "code",
      "metadata": {
        "colab": {
          "base_uri": "https://localhost:8080/",
          "height": 191
        },
        "id": "dlk8JEiA8zCO",
        "outputId": "8f63fb96-5297-4cfe-fc40-c95a63e2443b"
      },
      "source": [
        "DataFrame_01[ DataFrame_01 > 0 ]"
      ],
      "execution_count": null,
      "outputs": [
        {
          "output_type": "execute_result",
          "data": {
            "text/html": [
              "<div>\n",
              "<style scoped>\n",
              "    .dataframe tbody tr th:only-of-type {\n",
              "        vertical-align: middle;\n",
              "    }\n",
              "\n",
              "    .dataframe tbody tr th {\n",
              "        vertical-align: top;\n",
              "    }\n",
              "\n",
              "    .dataframe thead th {\n",
              "        text-align: right;\n",
              "    }\n",
              "</style>\n",
              "<table border=\"1\" class=\"dataframe\">\n",
              "  <thead>\n",
              "    <tr style=\"text-align: right;\">\n",
              "      <th></th>\n",
              "      <th>A</th>\n",
              "      <th>B</th>\n",
              "      <th>C</th>\n",
              "      <th>D</th>\n",
              "    </tr>\n",
              "  </thead>\n",
              "  <tbody>\n",
              "    <tr>\n",
              "      <th>2021-01-01</th>\n",
              "      <td>1.189776</td>\n",
              "      <td>NaN</td>\n",
              "      <td>1.221394</td>\n",
              "      <td>NaN</td>\n",
              "    </tr>\n",
              "    <tr>\n",
              "      <th>2021-01-02</th>\n",
              "      <td>1.836365</td>\n",
              "      <td>0.409810</td>\n",
              "      <td>NaN</td>\n",
              "      <td>1.467141</td>\n",
              "    </tr>\n",
              "    <tr>\n",
              "      <th>2021-01-03</th>\n",
              "      <td>NaN</td>\n",
              "      <td>0.981437</td>\n",
              "      <td>1.063351</td>\n",
              "      <td>NaN</td>\n",
              "    </tr>\n",
              "    <tr>\n",
              "      <th>2021-01-04</th>\n",
              "      <td>NaN</td>\n",
              "      <td>NaN</td>\n",
              "      <td>NaN</td>\n",
              "      <td>NaN</td>\n",
              "    </tr>\n",
              "    <tr>\n",
              "      <th>2021-01-05</th>\n",
              "      <td>1.402493</td>\n",
              "      <td>0.885791</td>\n",
              "      <td>0.708346</td>\n",
              "      <td>NaN</td>\n",
              "    </tr>\n",
              "  </tbody>\n",
              "</table>\n",
              "</div>"
            ],
            "text/plain": [
              "                   A         B         C         D\n",
              "2021-01-01  1.189776       NaN  1.221394       NaN\n",
              "2021-01-02  1.836365  0.409810       NaN  1.467141\n",
              "2021-01-03       NaN  0.981437  1.063351       NaN\n",
              "2021-01-04       NaN       NaN       NaN       NaN\n",
              "2021-01-05  1.402493  0.885791  0.708346       NaN"
            ]
          },
          "metadata": {
            "tags": []
          },
          "execution_count": 27
        }
      ]
    },
    {
      "cell_type": "code",
      "metadata": {
        "colab": {
          "base_uri": "https://localhost:8080/",
          "height": 191
        },
        "id": "Vffq_mca83pb",
        "outputId": "8b516f5a-8565-4378-f2f7-4afeac386b13"
      },
      "source": [
        "DataFrame_03 = DataFrame_01.copy()\n",
        "DataFrame_03"
      ],
      "execution_count": null,
      "outputs": [
        {
          "output_type": "execute_result",
          "data": {
            "text/html": [
              "<div>\n",
              "<style scoped>\n",
              "    .dataframe tbody tr th:only-of-type {\n",
              "        vertical-align: middle;\n",
              "    }\n",
              "\n",
              "    .dataframe tbody tr th {\n",
              "        vertical-align: top;\n",
              "    }\n",
              "\n",
              "    .dataframe thead th {\n",
              "        text-align: right;\n",
              "    }\n",
              "</style>\n",
              "<table border=\"1\" class=\"dataframe\">\n",
              "  <thead>\n",
              "    <tr style=\"text-align: right;\">\n",
              "      <th></th>\n",
              "      <th>A</th>\n",
              "      <th>B</th>\n",
              "      <th>C</th>\n",
              "      <th>D</th>\n",
              "    </tr>\n",
              "  </thead>\n",
              "  <tbody>\n",
              "    <tr>\n",
              "      <th>2021-01-01</th>\n",
              "      <td>1.189776</td>\n",
              "      <td>-1.188419</td>\n",
              "      <td>1.221394</td>\n",
              "      <td>-1.727486</td>\n",
              "    </tr>\n",
              "    <tr>\n",
              "      <th>2021-01-02</th>\n",
              "      <td>1.836365</td>\n",
              "      <td>0.409810</td>\n",
              "      <td>-0.834335</td>\n",
              "      <td>1.467141</td>\n",
              "    </tr>\n",
              "    <tr>\n",
              "      <th>2021-01-03</th>\n",
              "      <td>-0.078459</td>\n",
              "      <td>0.981437</td>\n",
              "      <td>1.063351</td>\n",
              "      <td>-0.071149</td>\n",
              "    </tr>\n",
              "    <tr>\n",
              "      <th>2021-01-04</th>\n",
              "      <td>-0.423498</td>\n",
              "      <td>-0.874464</td>\n",
              "      <td>-0.976037</td>\n",
              "      <td>-0.912932</td>\n",
              "    </tr>\n",
              "    <tr>\n",
              "      <th>2021-01-05</th>\n",
              "      <td>1.402493</td>\n",
              "      <td>0.885791</td>\n",
              "      <td>0.708346</td>\n",
              "      <td>-1.331700</td>\n",
              "    </tr>\n",
              "  </tbody>\n",
              "</table>\n",
              "</div>"
            ],
            "text/plain": [
              "                   A         B         C         D\n",
              "2021-01-01  1.189776 -1.188419  1.221394 -1.727486\n",
              "2021-01-02  1.836365  0.409810 -0.834335  1.467141\n",
              "2021-01-03 -0.078459  0.981437  1.063351 -0.071149\n",
              "2021-01-04 -0.423498 -0.874464 -0.976037 -0.912932\n",
              "2021-01-05  1.402493  0.885791  0.708346 -1.331700"
            ]
          },
          "metadata": {
            "tags": []
          },
          "execution_count": 28
        }
      ]
    },
    {
      "cell_type": "code",
      "metadata": {
        "colab": {
          "base_uri": "https://localhost:8080/",
          "height": 191
        },
        "id": "R1XqOStE9CML",
        "outputId": "d7651980-a905-4e96-f2c7-db169a7f23c8"
      },
      "source": [
        "DataFrame_03['Nova_Coluna'] = ['abc', 'def', 'ghi', 'jkl', 'mno']\n",
        "DataFrame_03"
      ],
      "execution_count": null,
      "outputs": [
        {
          "output_type": "execute_result",
          "data": {
            "text/html": [
              "<div>\n",
              "<style scoped>\n",
              "    .dataframe tbody tr th:only-of-type {\n",
              "        vertical-align: middle;\n",
              "    }\n",
              "\n",
              "    .dataframe tbody tr th {\n",
              "        vertical-align: top;\n",
              "    }\n",
              "\n",
              "    .dataframe thead th {\n",
              "        text-align: right;\n",
              "    }\n",
              "</style>\n",
              "<table border=\"1\" class=\"dataframe\">\n",
              "  <thead>\n",
              "    <tr style=\"text-align: right;\">\n",
              "      <th></th>\n",
              "      <th>A</th>\n",
              "      <th>B</th>\n",
              "      <th>C</th>\n",
              "      <th>D</th>\n",
              "      <th>Nova_Coluna</th>\n",
              "    </tr>\n",
              "  </thead>\n",
              "  <tbody>\n",
              "    <tr>\n",
              "      <th>2021-01-01</th>\n",
              "      <td>1.189776</td>\n",
              "      <td>-1.188419</td>\n",
              "      <td>1.221394</td>\n",
              "      <td>-1.727486</td>\n",
              "      <td>abc</td>\n",
              "    </tr>\n",
              "    <tr>\n",
              "      <th>2021-01-02</th>\n",
              "      <td>1.836365</td>\n",
              "      <td>0.409810</td>\n",
              "      <td>-0.834335</td>\n",
              "      <td>1.467141</td>\n",
              "      <td>def</td>\n",
              "    </tr>\n",
              "    <tr>\n",
              "      <th>2021-01-03</th>\n",
              "      <td>-0.078459</td>\n",
              "      <td>0.981437</td>\n",
              "      <td>1.063351</td>\n",
              "      <td>-0.071149</td>\n",
              "      <td>ghi</td>\n",
              "    </tr>\n",
              "    <tr>\n",
              "      <th>2021-01-04</th>\n",
              "      <td>-0.423498</td>\n",
              "      <td>-0.874464</td>\n",
              "      <td>-0.976037</td>\n",
              "      <td>-0.912932</td>\n",
              "      <td>jkl</td>\n",
              "    </tr>\n",
              "    <tr>\n",
              "      <th>2021-01-05</th>\n",
              "      <td>1.402493</td>\n",
              "      <td>0.885791</td>\n",
              "      <td>0.708346</td>\n",
              "      <td>-1.331700</td>\n",
              "      <td>mno</td>\n",
              "    </tr>\n",
              "  </tbody>\n",
              "</table>\n",
              "</div>"
            ],
            "text/plain": [
              "                   A         B         C         D Nova_Coluna\n",
              "2021-01-01  1.189776 -1.188419  1.221394 -1.727486         abc\n",
              "2021-01-02  1.836365  0.409810 -0.834335  1.467141         def\n",
              "2021-01-03 -0.078459  0.981437  1.063351 -0.071149         ghi\n",
              "2021-01-04 -0.423498 -0.874464 -0.976037 -0.912932         jkl\n",
              "2021-01-05  1.402493  0.885791  0.708346 -1.331700         mno"
            ]
          },
          "metadata": {
            "tags": []
          },
          "execution_count": 29
        }
      ]
    },
    {
      "cell_type": "code",
      "metadata": {
        "colab": {
          "base_uri": "https://localhost:8080/",
          "height": 104
        },
        "id": "Zf6tIiMy9L7M",
        "outputId": "d1dd7959-4f8c-4789-951b-a00dfb8ab365"
      },
      "source": [
        "DataFrame_03[ DataFrame_03['Nova_Coluna'].isin(['abc', 'mno']) ]"
      ],
      "execution_count": null,
      "outputs": [
        {
          "output_type": "execute_result",
          "data": {
            "text/html": [
              "<div>\n",
              "<style scoped>\n",
              "    .dataframe tbody tr th:only-of-type {\n",
              "        vertical-align: middle;\n",
              "    }\n",
              "\n",
              "    .dataframe tbody tr th {\n",
              "        vertical-align: top;\n",
              "    }\n",
              "\n",
              "    .dataframe thead th {\n",
              "        text-align: right;\n",
              "    }\n",
              "</style>\n",
              "<table border=\"1\" class=\"dataframe\">\n",
              "  <thead>\n",
              "    <tr style=\"text-align: right;\">\n",
              "      <th></th>\n",
              "      <th>A</th>\n",
              "      <th>B</th>\n",
              "      <th>C</th>\n",
              "      <th>D</th>\n",
              "      <th>Nova_Coluna</th>\n",
              "    </tr>\n",
              "  </thead>\n",
              "  <tbody>\n",
              "    <tr>\n",
              "      <th>2021-01-01</th>\n",
              "      <td>1.189776</td>\n",
              "      <td>-1.188419</td>\n",
              "      <td>1.221394</td>\n",
              "      <td>-1.727486</td>\n",
              "      <td>abc</td>\n",
              "    </tr>\n",
              "    <tr>\n",
              "      <th>2021-01-05</th>\n",
              "      <td>1.402493</td>\n",
              "      <td>0.885791</td>\n",
              "      <td>0.708346</td>\n",
              "      <td>-1.331700</td>\n",
              "      <td>mno</td>\n",
              "    </tr>\n",
              "  </tbody>\n",
              "</table>\n",
              "</div>"
            ],
            "text/plain": [
              "                   A         B         C         D Nova_Coluna\n",
              "2021-01-01  1.189776 -1.188419  1.221394 -1.727486         abc\n",
              "2021-01-05  1.402493  0.885791  0.708346 -1.331700         mno"
            ]
          },
          "metadata": {
            "tags": []
          },
          "execution_count": 30
        }
      ]
    },
    {
      "cell_type": "code",
      "metadata": {
        "colab": {
          "base_uri": "https://localhost:8080/"
        },
        "id": "lgLJ7dSb9X7z",
        "outputId": "8d99558b-c926-4363-fff6-034fb42f66c9"
      },
      "source": [
        " DataFrame_04 = pd.Series( [1,2,3,4,5,6],\n",
        "                          index=pd.date_range('20210101', periods=6) )\n",
        " DataFrame_04"
      ],
      "execution_count": null,
      "outputs": [
        {
          "output_type": "execute_result",
          "data": {
            "text/plain": [
              "2021-01-01    1\n",
              "2021-01-02    2\n",
              "2021-01-03    3\n",
              "2021-01-04    4\n",
              "2021-01-05    5\n",
              "2021-01-06    6\n",
              "Freq: D, dtype: int64"
            ]
          },
          "metadata": {
            "tags": []
          },
          "execution_count": 31
        }
      ]
    },
    {
      "cell_type": "code",
      "metadata": {
        "id": "-yxslsA29mOj"
      },
      "source": [
        "DataFrame_04.at[ dates[0], 'A'] = 0"
      ],
      "execution_count": null,
      "outputs": []
    },
    {
      "cell_type": "code",
      "metadata": {
        "id": "eQR4WcUWb-AD"
      },
      "source": [
        "Lista = [ c for c in range(1,50000000) ]"
      ],
      "execution_count": null,
      "outputs": []
    },
    {
      "cell_type": "code",
      "metadata": {
        "colab": {
          "base_uri": "https://localhost:8080/"
        },
        "id": "nQLIAV9Ob-nC",
        "outputId": "625767a9-8a25-4ab5-c8e4-53edb4e8dbed"
      },
      "source": [
        "%time for i in Lista: pass"
      ],
      "execution_count": null,
      "outputs": [
        {
          "output_type": "stream",
          "name": "stdout",
          "text": [
            "CPU times: user 1.85 s, sys: 0 ns, total: 1.85 s\n",
            "Wall time: 1.87 s\n"
          ]
        }
      ]
    },
    {
      "cell_type": "code",
      "metadata": {
        "colab": {
          "base_uri": "https://localhost:8080/"
        },
        "id": "X-T-0tHNeQA7",
        "outputId": "e8b959e5-ad4e-4dd5-d796-e03d8496285f"
      },
      "source": [
        "%time\n",
        "for c in range(1, 50000000):\n",
        "  pass\n",
        "%time\n"
      ],
      "execution_count": null,
      "outputs": [
        {
          "output_type": "stream",
          "name": "stdout",
          "text": [
            "CPU times: user 4 µs, sys: 0 ns, total: 4 µs\n",
            "Wall time: 8.34 µs\n",
            "CPU times: user 3 µs, sys: 0 ns, total: 3 µs\n",
            "Wall time: 5.96 µs\n"
          ]
        }
      ]
    },
    {
      "cell_type": "code",
      "metadata": {
        "id": "P2aE6kkReVaq"
      },
      "source": [],
      "execution_count": null,
      "outputs": []
    }
  ]
}