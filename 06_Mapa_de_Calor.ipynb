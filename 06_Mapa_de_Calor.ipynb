{
  "nbformat": 4,
  "nbformat_minor": 0,
  "metadata": {
    "colab": {
      "provenance": [],
      "include_colab_link": true
    },
    "kernelspec": {
      "name": "python3",
      "display_name": "Python 3"
    },
    "language_info": {
      "name": "python"
    }
  },
  "cells": [
    {
      "cell_type": "markdown",
      "metadata": {
        "id": "view-in-github",
        "colab_type": "text"
      },
      "source": [
        "<a href=\"https://colab.research.google.com/github/EvertonFigueiroa/Exercicios-Python/blob/main/06_Mapa_de_Calor.ipynb\" target=\"_parent\"><img src=\"https://colab.research.google.com/assets/colab-badge.svg\" alt=\"Open In Colab\"/></a>"
      ]
    },
    {
      "cell_type": "markdown",
      "source": [
        "# **Ciência de Dados para Finanças** <p>\n",
        "**por: @Odemir Depieri Jr** - [Linkedin](https://www.linkedin.com/in/odemir-depieri-jr/) <p>\n",
        "**por: @Ronisson Lucas Calmon da Conceição** - [Linkedin](https://www.linkedin.com/in/ronisson-lucas-calmon-da-concei%C3%A7%C3%A3o-7aa884202/) <p>\n",
        "[Página do Curso](https://)"
      ],
      "metadata": {
        "id": "kLal6Zw6TG9P"
      }
    },
    {
      "cell_type": "markdown",
      "source": [
        "***Mapa de Calor*** <p>\n",
        "O termo “mapa de calor” foi originalmente utilizado para identificar áreas com maior ou menor grau de temperatura ambiental. Serve para dimensionar a refrigeração, isolamento térmico e indicar o melhor posicionamento de pessoas e máquinas em um ambiente. Porém, como o termo entrega um entendimento mais fácil dos gráficos de frio e calor, passou a ser utilizado também em outras áreas."
      ],
      "metadata": {
        "id": "n3tN7t0OTUWV"
      }
    },
    {
      "cell_type": "markdown",
      "source": [
        "![Mapa de Calor.webp](data:image/webp;base64,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)"
      ],
      "metadata": {
        "id": "L5W877JATcUK"
      }
    },
    {
      "cell_type": "code",
      "source": [
        "# Bibliotecas\n",
        "import pandas as pd\n",
        "import plotly.express as px"
      ],
      "metadata": {
        "id": "bsLozqDuTHRv"
      },
      "execution_count": null,
      "outputs": []
    },
    {
      "cell_type": "code",
      "source": [
        "# Criar os dados\n",
        "\n",
        "# Cidades\n",
        "Cidade = ['Santo André', 'São Bernarndo do Campo', 'Diadema', 'São Caetano do Sul',\n",
        "          'Mauá', 'Ribeirao Pires', 'Rio GRande da Serra', 'Sao Paulo' ]\n",
        "\n",
        "Estado = ['São Paulo', 'São Paulo', 'São Paulo', 'São Paulo',\n",
        "          'São Paulo', 'São Paulo', 'São Paulo', 'São Paulo' ]\n",
        "\n",
        "# Gerando a Latitude\n",
        "Latitude = [-23.6666, -23.6944, -23.6865, -23.6226, -23.6687,\n",
        "            -23.7141, -23.7452, -23.5489]\n",
        "\n",
        "# Gerando a Longitude\n",
        "Longitude = [-46.5322, -46.5654, -46.6234, -46.5489, -46.4614,\n",
        "             -46.4137, -46.4022, -46.6388]\n",
        "\n",
        "# Valor\n",
        "Vendas = [100, 120, 90, 50, 70, 90, 250, 400]"
      ],
      "metadata": {
        "id": "LQtzLw0vj83k"
      },
      "execution_count": null,
      "outputs": []
    },
    {
      "cell_type": "code",
      "source": [
        "# Dicionario\n",
        "Dicionario = {\n",
        "    'Cidade' : Cidade,\n",
        "    'UF' : Estado,\n",
        "    'Lat' : Latitude,\n",
        "    'Log' : Longitude,\n",
        "    'Vendas' : Vendas\n",
        "}\n",
        "\n",
        "Base_Dados = pd.DataFrame( Dicionario )\n",
        "\n",
        "Base_Dados"
      ],
      "metadata": {
        "colab": {
          "base_uri": "https://localhost:8080/",
          "height": 300
        },
        "id": "13ZLHKLskwGb",
        "outputId": "42002478-963c-4ae9-d50c-74150e9b1da6"
      },
      "execution_count": null,
      "outputs": [
        {
          "output_type": "execute_result",
          "data": {
            "text/plain": [
              "                   Cidade         UF      Lat      Log  Vendas\n",
              "0             Santo André  São Paulo -23.6666 -46.5322     100\n",
              "1  São Bernarndo do Campo  São Paulo -23.6944 -46.5654     120\n",
              "2                 Diadema  São Paulo -23.6865 -46.6234      90\n",
              "3      São Caetano do Sul  São Paulo -23.6226 -46.5489      50\n",
              "4                    Mauá  São Paulo -23.6687 -46.4614      70\n",
              "5          Ribeirao Pires  São Paulo -23.7141 -46.4137      90\n",
              "6     Rio GRande da Serra  São Paulo -23.7452 -46.4022     250\n",
              "7               Sao Paulo  São Paulo -23.5489 -46.6388     400"
            ],
            "text/html": [
              "\n",
              "  <div id=\"df-fe09c8dd-01f1-4cbf-8b85-0966f326bd75\">\n",
              "    <div class=\"colab-df-container\">\n",
              "      <div>\n",
              "<style scoped>\n",
              "    .dataframe tbody tr th:only-of-type {\n",
              "        vertical-align: middle;\n",
              "    }\n",
              "\n",
              "    .dataframe tbody tr th {\n",
              "        vertical-align: top;\n",
              "    }\n",
              "\n",
              "    .dataframe thead th {\n",
              "        text-align: right;\n",
              "    }\n",
              "</style>\n",
              "<table border=\"1\" class=\"dataframe\">\n",
              "  <thead>\n",
              "    <tr style=\"text-align: right;\">\n",
              "      <th></th>\n",
              "      <th>Cidade</th>\n",
              "      <th>UF</th>\n",
              "      <th>Lat</th>\n",
              "      <th>Log</th>\n",
              "      <th>Vendas</th>\n",
              "    </tr>\n",
              "  </thead>\n",
              "  <tbody>\n",
              "    <tr>\n",
              "      <th>0</th>\n",
              "      <td>Santo André</td>\n",
              "      <td>São Paulo</td>\n",
              "      <td>-23.6666</td>\n",
              "      <td>-46.5322</td>\n",
              "      <td>100</td>\n",
              "    </tr>\n",
              "    <tr>\n",
              "      <th>1</th>\n",
              "      <td>São Bernarndo do Campo</td>\n",
              "      <td>São Paulo</td>\n",
              "      <td>-23.6944</td>\n",
              "      <td>-46.5654</td>\n",
              "      <td>120</td>\n",
              "    </tr>\n",
              "    <tr>\n",
              "      <th>2</th>\n",
              "      <td>Diadema</td>\n",
              "      <td>São Paulo</td>\n",
              "      <td>-23.6865</td>\n",
              "      <td>-46.6234</td>\n",
              "      <td>90</td>\n",
              "    </tr>\n",
              "    <tr>\n",
              "      <th>3</th>\n",
              "      <td>São Caetano do Sul</td>\n",
              "      <td>São Paulo</td>\n",
              "      <td>-23.6226</td>\n",
              "      <td>-46.5489</td>\n",
              "      <td>50</td>\n",
              "    </tr>\n",
              "    <tr>\n",
              "      <th>4</th>\n",
              "      <td>Mauá</td>\n",
              "      <td>São Paulo</td>\n",
              "      <td>-23.6687</td>\n",
              "      <td>-46.4614</td>\n",
              "      <td>70</td>\n",
              "    </tr>\n",
              "    <tr>\n",
              "      <th>5</th>\n",
              "      <td>Ribeirao Pires</td>\n",
              "      <td>São Paulo</td>\n",
              "      <td>-23.7141</td>\n",
              "      <td>-46.4137</td>\n",
              "      <td>90</td>\n",
              "    </tr>\n",
              "    <tr>\n",
              "      <th>6</th>\n",
              "      <td>Rio GRande da Serra</td>\n",
              "      <td>São Paulo</td>\n",
              "      <td>-23.7452</td>\n",
              "      <td>-46.4022</td>\n",
              "      <td>250</td>\n",
              "    </tr>\n",
              "    <tr>\n",
              "      <th>7</th>\n",
              "      <td>Sao Paulo</td>\n",
              "      <td>São Paulo</td>\n",
              "      <td>-23.5489</td>\n",
              "      <td>-46.6388</td>\n",
              "      <td>400</td>\n",
              "    </tr>\n",
              "  </tbody>\n",
              "</table>\n",
              "</div>\n",
              "      <button class=\"colab-df-convert\" onclick=\"convertToInteractive('df-fe09c8dd-01f1-4cbf-8b85-0966f326bd75')\"\n",
              "              title=\"Convert this dataframe to an interactive table.\"\n",
              "              style=\"display:none;\">\n",
              "        \n",
              "  <svg xmlns=\"http://www.w3.org/2000/svg\" height=\"24px\"viewBox=\"0 0 24 24\"\n",
              "       width=\"24px\">\n",
              "    <path d=\"M0 0h24v24H0V0z\" fill=\"none\"/>\n",
              "    <path d=\"M18.56 5.44l.94 2.06.94-2.06 2.06-.94-2.06-.94-.94-2.06-.94 2.06-2.06.94zm-11 1L8.5 8.5l.94-2.06 2.06-.94-2.06-.94L8.5 2.5l-.94 2.06-2.06.94zm10 10l.94 2.06.94-2.06 2.06-.94-2.06-.94-.94-2.06-.94 2.06-2.06.94z\"/><path d=\"M17.41 7.96l-1.37-1.37c-.4-.4-.92-.59-1.43-.59-.52 0-1.04.2-1.43.59L10.3 9.45l-7.72 7.72c-.78.78-.78 2.05 0 2.83L4 21.41c.39.39.9.59 1.41.59.51 0 1.02-.2 1.41-.59l7.78-7.78 2.81-2.81c.8-.78.8-2.07 0-2.86zM5.41 20L4 18.59l7.72-7.72 1.47 1.35L5.41 20z\"/>\n",
              "  </svg>\n",
              "      </button>\n",
              "      \n",
              "  <style>\n",
              "    .colab-df-container {\n",
              "      display:flex;\n",
              "      flex-wrap:wrap;\n",
              "      gap: 12px;\n",
              "    }\n",
              "\n",
              "    .colab-df-convert {\n",
              "      background-color: #E8F0FE;\n",
              "      border: none;\n",
              "      border-radius: 50%;\n",
              "      cursor: pointer;\n",
              "      display: none;\n",
              "      fill: #1967D2;\n",
              "      height: 32px;\n",
              "      padding: 0 0 0 0;\n",
              "      width: 32px;\n",
              "    }\n",
              "\n",
              "    .colab-df-convert:hover {\n",
              "      background-color: #E2EBFA;\n",
              "      box-shadow: 0px 1px 2px rgba(60, 64, 67, 0.3), 0px 1px 3px 1px rgba(60, 64, 67, 0.15);\n",
              "      fill: #174EA6;\n",
              "    }\n",
              "\n",
              "    [theme=dark] .colab-df-convert {\n",
              "      background-color: #3B4455;\n",
              "      fill: #D2E3FC;\n",
              "    }\n",
              "\n",
              "    [theme=dark] .colab-df-convert:hover {\n",
              "      background-color: #434B5C;\n",
              "      box-shadow: 0px 1px 3px 1px rgba(0, 0, 0, 0.15);\n",
              "      filter: drop-shadow(0px 1px 2px rgba(0, 0, 0, 0.3));\n",
              "      fill: #FFFFFF;\n",
              "    }\n",
              "  </style>\n",
              "\n",
              "      <script>\n",
              "        const buttonEl =\n",
              "          document.querySelector('#df-fe09c8dd-01f1-4cbf-8b85-0966f326bd75 button.colab-df-convert');\n",
              "        buttonEl.style.display =\n",
              "          google.colab.kernel.accessAllowed ? 'block' : 'none';\n",
              "\n",
              "        async function convertToInteractive(key) {\n",
              "          const element = document.querySelector('#df-fe09c8dd-01f1-4cbf-8b85-0966f326bd75');\n",
              "          const dataTable =\n",
              "            await google.colab.kernel.invokeFunction('convertToInteractive',\n",
              "                                                     [key], {});\n",
              "          if (!dataTable) return;\n",
              "\n",
              "          const docLinkHtml = 'Like what you see? Visit the ' +\n",
              "            '<a target=\"_blank\" href=https://colab.research.google.com/notebooks/data_table.ipynb>data table notebook</a>'\n",
              "            + ' to learn more about interactive tables.';\n",
              "          element.innerHTML = '';\n",
              "          dataTable['output_type'] = 'display_data';\n",
              "          await google.colab.output.renderOutput(dataTable, element);\n",
              "          const docLink = document.createElement('div');\n",
              "          docLink.innerHTML = docLinkHtml;\n",
              "          element.appendChild(docLink);\n",
              "        }\n",
              "      </script>\n",
              "    </div>\n",
              "  </div>\n",
              "  "
            ]
          },
          "metadata": {},
          "execution_count": 3
        }
      ]
    },
    {
      "cell_type": "code",
      "source": [
        "# Mapa de CAlor Geografico\n",
        "\n",
        "px.density_mapbox(\n",
        "    Base_Dados,\n",
        "    lat='Lat',\n",
        "    lon='Log',\n",
        "    z='Vendas',\n",
        "    radius=30,\n",
        "    center=dict(lat=-23.700, lon=-46.5555),\n",
        "    zoom=8,\n",
        "    mapbox_style='stamen-terrain'\n",
        ")"
      ],
      "metadata": {
        "colab": {
          "base_uri": "https://localhost:8080/",
          "height": 542
        },
        "id": "K8R9iiQ8k9y6",
        "outputId": "5c1e9e3c-8bbb-46ea-b77d-009f2a770a9d"
      },
      "execution_count": null,
      "outputs": [
        {
          "output_type": "display_data",
          "data": {
            "text/html": [
              "<html>\n",
              "<head><meta charset=\"utf-8\" /></head>\n",
              "<body>\n",
              "    <div>            <script src=\"https://cdnjs.cloudflare.com/ajax/libs/mathjax/2.7.5/MathJax.js?config=TeX-AMS-MML_SVG\"></script><script type=\"text/javascript\">if (window.MathJax) {MathJax.Hub.Config({SVG: {font: \"STIX-Web\"}});}</script>                <script type=\"text/javascript\">window.PlotlyConfig = {MathJaxConfig: 'local'};</script>\n",
              "        <script src=\"https://cdn.plot.ly/plotly-2.8.3.min.js\"></script>                <div id=\"efcced60-fe28-4dc9-8e5c-1b6ebb81b994\" class=\"plotly-graph-div\" style=\"height:525px; width:100%;\"></div>            <script type=\"text/javascript\">                                    window.PLOTLYENV=window.PLOTLYENV || {};                                    if (document.getElementById(\"efcced60-fe28-4dc9-8e5c-1b6ebb81b994\")) {                    Plotly.newPlot(                        \"efcced60-fe28-4dc9-8e5c-1b6ebb81b994\",                        [{\"coloraxis\":\"coloraxis\",\"hovertemplate\":\"Vendas=%{z}<br>Lat=%{lat}<br>Log=%{lon}<extra></extra>\",\"lat\":[-23.6666,-23.6944,-23.6865,-23.6226,-23.6687,-23.7141,-23.7452,-23.5489],\"lon\":[-46.5322,-46.5654,-46.6234,-46.5489,-46.4614,-46.4137,-46.4022,-46.6388],\"name\":\"\",\"radius\":30,\"subplot\":\"mapbox\",\"z\":[100,120,90,50,70,90,250,400],\"type\":\"densitymapbox\"}],                        {\"template\":{\"data\":{\"bar\":[{\"error_x\":{\"color\":\"#2a3f5f\"},\"error_y\":{\"color\":\"#2a3f5f\"},\"marker\":{\"line\":{\"color\":\"#E5ECF6\",\"width\":0.5},\"pattern\":{\"fillmode\":\"overlay\",\"size\":10,\"solidity\":0.2}},\"type\":\"bar\"}],\"barpolar\":[{\"marker\":{\"line\":{\"color\":\"#E5ECF6\",\"width\":0.5},\"pattern\":{\"fillmode\":\"overlay\",\"size\":10,\"solidity\":0.2}},\"type\":\"barpolar\"}],\"carpet\":[{\"aaxis\":{\"endlinecolor\":\"#2a3f5f\",\"gridcolor\":\"white\",\"linecolor\":\"white\",\"minorgridcolor\":\"white\",\"startlinecolor\":\"#2a3f5f\"},\"baxis\":{\"endlinecolor\":\"#2a3f5f\",\"gridcolor\":\"white\",\"linecolor\":\"white\",\"minorgridcolor\":\"white\",\"startlinecolor\":\"#2a3f5f\"},\"type\":\"carpet\"}],\"choropleth\":[{\"colorbar\":{\"outlinewidth\":0,\"ticks\":\"\"},\"type\":\"choropleth\"}],\"contour\":[{\"colorbar\":{\"outlinewidth\":0,\"ticks\":\"\"},\"colorscale\":[[0.0,\"#0d0887\"],[0.1111111111111111,\"#46039f\"],[0.2222222222222222,\"#7201a8\"],[0.3333333333333333,\"#9c179e\"],[0.4444444444444444,\"#bd3786\"],[0.5555555555555556,\"#d8576b\"],[0.6666666666666666,\"#ed7953\"],[0.7777777777777778,\"#fb9f3a\"],[0.8888888888888888,\"#fdca26\"],[1.0,\"#f0f921\"]],\"type\":\"contour\"}],\"contourcarpet\":[{\"colorbar\":{\"outlinewidth\":0,\"ticks\":\"\"},\"type\":\"contourcarpet\"}],\"heatmap\":[{\"colorbar\":{\"outlinewidth\":0,\"ticks\":\"\"},\"colorscale\":[[0.0,\"#0d0887\"],[0.1111111111111111,\"#46039f\"],[0.2222222222222222,\"#7201a8\"],[0.3333333333333333,\"#9c179e\"],[0.4444444444444444,\"#bd3786\"],[0.5555555555555556,\"#d8576b\"],[0.6666666666666666,\"#ed7953\"],[0.7777777777777778,\"#fb9f3a\"],[0.8888888888888888,\"#fdca26\"],[1.0,\"#f0f921\"]],\"type\":\"heatmap\"}],\"heatmapgl\":[{\"colorbar\":{\"outlinewidth\":0,\"ticks\":\"\"},\"colorscale\":[[0.0,\"#0d0887\"],[0.1111111111111111,\"#46039f\"],[0.2222222222222222,\"#7201a8\"],[0.3333333333333333,\"#9c179e\"],[0.4444444444444444,\"#bd3786\"],[0.5555555555555556,\"#d8576b\"],[0.6666666666666666,\"#ed7953\"],[0.7777777777777778,\"#fb9f3a\"],[0.8888888888888888,\"#fdca26\"],[1.0,\"#f0f921\"]],\"type\":\"heatmapgl\"}],\"histogram\":[{\"marker\":{\"pattern\":{\"fillmode\":\"overlay\",\"size\":10,\"solidity\":0.2}},\"type\":\"histogram\"}],\"histogram2d\":[{\"colorbar\":{\"outlinewidth\":0,\"ticks\":\"\"},\"colorscale\":[[0.0,\"#0d0887\"],[0.1111111111111111,\"#46039f\"],[0.2222222222222222,\"#7201a8\"],[0.3333333333333333,\"#9c179e\"],[0.4444444444444444,\"#bd3786\"],[0.5555555555555556,\"#d8576b\"],[0.6666666666666666,\"#ed7953\"],[0.7777777777777778,\"#fb9f3a\"],[0.8888888888888888,\"#fdca26\"],[1.0,\"#f0f921\"]],\"type\":\"histogram2d\"}],\"histogram2dcontour\":[{\"colorbar\":{\"outlinewidth\":0,\"ticks\":\"\"},\"colorscale\":[[0.0,\"#0d0887\"],[0.1111111111111111,\"#46039f\"],[0.2222222222222222,\"#7201a8\"],[0.3333333333333333,\"#9c179e\"],[0.4444444444444444,\"#bd3786\"],[0.5555555555555556,\"#d8576b\"],[0.6666666666666666,\"#ed7953\"],[0.7777777777777778,\"#fb9f3a\"],[0.8888888888888888,\"#fdca26\"],[1.0,\"#f0f921\"]],\"type\":\"histogram2dcontour\"}],\"mesh3d\":[{\"colorbar\":{\"outlinewidth\":0,\"ticks\":\"\"},\"type\":\"mesh3d\"}],\"parcoords\":[{\"line\":{\"colorbar\":{\"outlinewidth\":0,\"ticks\":\"\"}},\"type\":\"parcoords\"}],\"pie\":[{\"automargin\":true,\"type\":\"pie\"}],\"scatter\":[{\"marker\":{\"colorbar\":{\"outlinewidth\":0,\"ticks\":\"\"}},\"type\":\"scatter\"}],\"scatter3d\":[{\"line\":{\"colorbar\":{\"outlinewidth\":0,\"ticks\":\"\"}},\"marker\":{\"colorbar\":{\"outlinewidth\":0,\"ticks\":\"\"}},\"type\":\"scatter3d\"}],\"scattercarpet\":[{\"marker\":{\"colorbar\":{\"outlinewidth\":0,\"ticks\":\"\"}},\"type\":\"scattercarpet\"}],\"scattergeo\":[{\"marker\":{\"colorbar\":{\"outlinewidth\":0,\"ticks\":\"\"}},\"type\":\"scattergeo\"}],\"scattergl\":[{\"marker\":{\"colorbar\":{\"outlinewidth\":0,\"ticks\":\"\"}},\"type\":\"scattergl\"}],\"scattermapbox\":[{\"marker\":{\"colorbar\":{\"outlinewidth\":0,\"ticks\":\"\"}},\"type\":\"scattermapbox\"}],\"scatterpolar\":[{\"marker\":{\"colorbar\":{\"outlinewidth\":0,\"ticks\":\"\"}},\"type\":\"scatterpolar\"}],\"scatterpolargl\":[{\"marker\":{\"colorbar\":{\"outlinewidth\":0,\"ticks\":\"\"}},\"type\":\"scatterpolargl\"}],\"scatterternary\":[{\"marker\":{\"colorbar\":{\"outlinewidth\":0,\"ticks\":\"\"}},\"type\":\"scatterternary\"}],\"surface\":[{\"colorbar\":{\"outlinewidth\":0,\"ticks\":\"\"},\"colorscale\":[[0.0,\"#0d0887\"],[0.1111111111111111,\"#46039f\"],[0.2222222222222222,\"#7201a8\"],[0.3333333333333333,\"#9c179e\"],[0.4444444444444444,\"#bd3786\"],[0.5555555555555556,\"#d8576b\"],[0.6666666666666666,\"#ed7953\"],[0.7777777777777778,\"#fb9f3a\"],[0.8888888888888888,\"#fdca26\"],[1.0,\"#f0f921\"]],\"type\":\"surface\"}],\"table\":[{\"cells\":{\"fill\":{\"color\":\"#EBF0F8\"},\"line\":{\"color\":\"white\"}},\"header\":{\"fill\":{\"color\":\"#C8D4E3\"},\"line\":{\"color\":\"white\"}},\"type\":\"table\"}]},\"layout\":{\"annotationdefaults\":{\"arrowcolor\":\"#2a3f5f\",\"arrowhead\":0,\"arrowwidth\":1},\"autotypenumbers\":\"strict\",\"coloraxis\":{\"colorbar\":{\"outlinewidth\":0,\"ticks\":\"\"}},\"colorscale\":{\"diverging\":[[0,\"#8e0152\"],[0.1,\"#c51b7d\"],[0.2,\"#de77ae\"],[0.3,\"#f1b6da\"],[0.4,\"#fde0ef\"],[0.5,\"#f7f7f7\"],[0.6,\"#e6f5d0\"],[0.7,\"#b8e186\"],[0.8,\"#7fbc41\"],[0.9,\"#4d9221\"],[1,\"#276419\"]],\"sequential\":[[0.0,\"#0d0887\"],[0.1111111111111111,\"#46039f\"],[0.2222222222222222,\"#7201a8\"],[0.3333333333333333,\"#9c179e\"],[0.4444444444444444,\"#bd3786\"],[0.5555555555555556,\"#d8576b\"],[0.6666666666666666,\"#ed7953\"],[0.7777777777777778,\"#fb9f3a\"],[0.8888888888888888,\"#fdca26\"],[1.0,\"#f0f921\"]],\"sequentialminus\":[[0.0,\"#0d0887\"],[0.1111111111111111,\"#46039f\"],[0.2222222222222222,\"#7201a8\"],[0.3333333333333333,\"#9c179e\"],[0.4444444444444444,\"#bd3786\"],[0.5555555555555556,\"#d8576b\"],[0.6666666666666666,\"#ed7953\"],[0.7777777777777778,\"#fb9f3a\"],[0.8888888888888888,\"#fdca26\"],[1.0,\"#f0f921\"]]},\"colorway\":[\"#636efa\",\"#EF553B\",\"#00cc96\",\"#ab63fa\",\"#FFA15A\",\"#19d3f3\",\"#FF6692\",\"#B6E880\",\"#FF97FF\",\"#FECB52\"],\"font\":{\"color\":\"#2a3f5f\"},\"geo\":{\"bgcolor\":\"white\",\"lakecolor\":\"white\",\"landcolor\":\"#E5ECF6\",\"showlakes\":true,\"showland\":true,\"subunitcolor\":\"white\"},\"hoverlabel\":{\"align\":\"left\"},\"hovermode\":\"closest\",\"mapbox\":{\"style\":\"light\"},\"paper_bgcolor\":\"white\",\"plot_bgcolor\":\"#E5ECF6\",\"polar\":{\"angularaxis\":{\"gridcolor\":\"white\",\"linecolor\":\"white\",\"ticks\":\"\"},\"bgcolor\":\"#E5ECF6\",\"radialaxis\":{\"gridcolor\":\"white\",\"linecolor\":\"white\",\"ticks\":\"\"}},\"scene\":{\"xaxis\":{\"backgroundcolor\":\"#E5ECF6\",\"gridcolor\":\"white\",\"gridwidth\":2,\"linecolor\":\"white\",\"showbackground\":true,\"ticks\":\"\",\"zerolinecolor\":\"white\"},\"yaxis\":{\"backgroundcolor\":\"#E5ECF6\",\"gridcolor\":\"white\",\"gridwidth\":2,\"linecolor\":\"white\",\"showbackground\":true,\"ticks\":\"\",\"zerolinecolor\":\"white\"},\"zaxis\":{\"backgroundcolor\":\"#E5ECF6\",\"gridcolor\":\"white\",\"gridwidth\":2,\"linecolor\":\"white\",\"showbackground\":true,\"ticks\":\"\",\"zerolinecolor\":\"white\"}},\"shapedefaults\":{\"line\":{\"color\":\"#2a3f5f\"}},\"ternary\":{\"aaxis\":{\"gridcolor\":\"white\",\"linecolor\":\"white\",\"ticks\":\"\"},\"baxis\":{\"gridcolor\":\"white\",\"linecolor\":\"white\",\"ticks\":\"\"},\"bgcolor\":\"#E5ECF6\",\"caxis\":{\"gridcolor\":\"white\",\"linecolor\":\"white\",\"ticks\":\"\"}},\"title\":{\"x\":0.05},\"xaxis\":{\"automargin\":true,\"gridcolor\":\"white\",\"linecolor\":\"white\",\"ticks\":\"\",\"title\":{\"standoff\":15},\"zerolinecolor\":\"white\",\"zerolinewidth\":2},\"yaxis\":{\"automargin\":true,\"gridcolor\":\"white\",\"linecolor\":\"white\",\"ticks\":\"\",\"title\":{\"standoff\":15},\"zerolinecolor\":\"white\",\"zerolinewidth\":2}}},\"mapbox\":{\"domain\":{\"x\":[0.0,1.0],\"y\":[0.0,1.0]},\"center\":{\"lat\":-23.7,\"lon\":-46.5555},\"zoom\":8,\"style\":\"stamen-terrain\"},\"coloraxis\":{\"colorbar\":{\"title\":{\"text\":\"Vendas\"}},\"colorscale\":[[0.0,\"#0d0887\"],[0.1111111111111111,\"#46039f\"],[0.2222222222222222,\"#7201a8\"],[0.3333333333333333,\"#9c179e\"],[0.4444444444444444,\"#bd3786\"],[0.5555555555555556,\"#d8576b\"],[0.6666666666666666,\"#ed7953\"],[0.7777777777777778,\"#fb9f3a\"],[0.8888888888888888,\"#fdca26\"],[1.0,\"#f0f921\"]]},\"legend\":{\"tracegroupgap\":0},\"margin\":{\"t\":60}},                        {\"responsive\": true}                    ).then(function(){\n",
              "                            \n",
              "var gd = document.getElementById('efcced60-fe28-4dc9-8e5c-1b6ebb81b994');\n",
              "var x = new MutationObserver(function (mutations, observer) {{\n",
              "        var display = window.getComputedStyle(gd).display;\n",
              "        if (!display || display === 'none') {{\n",
              "            console.log([gd, 'removed!']);\n",
              "            Plotly.purge(gd);\n",
              "            observer.disconnect();\n",
              "        }}\n",
              "}});\n",
              "\n",
              "// Listen for the removal of the full notebook cells\n",
              "var notebookContainer = gd.closest('#notebook-container');\n",
              "if (notebookContainer) {{\n",
              "    x.observe(notebookContainer, {childList: true});\n",
              "}}\n",
              "\n",
              "// Listen for the clearing of the current output cell\n",
              "var outputEl = gd.closest('.output');\n",
              "if (outputEl) {{\n",
              "    x.observe(outputEl, {childList: true});\n",
              "}}\n",
              "\n",
              "                        })                };                            </script>        </div>\n",
              "</body>\n",
              "</html>"
            ]
          },
          "metadata": {}
        }
      ]
    },
    {
      "cell_type": "code",
      "source": [],
      "metadata": {
        "id": "LaglwRP3lwoP"
      },
      "execution_count": null,
      "outputs": []
    }
  ]
}